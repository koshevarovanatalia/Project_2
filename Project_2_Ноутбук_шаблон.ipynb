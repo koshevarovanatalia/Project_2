{
  "cells": [
    {
      "cell_type": "markdown",
      "id": "42289889-bd57-434e-9637-d3e354756316",
      "metadata": {
        "id": "42289889-bd57-434e-9637-d3e354756316"
      },
      "source": [
        "<center> <img src = https://raw.githubusercontent.com/AndreyRysistov/DatasetsForPandas/main/hh%20label.jpg alt=\"drawing\" style=\"width:400px;\">"
      ]
    },
    {
      "cell_type": "markdown",
      "id": "829cb75b-f14e-4ba8-9195-7ba929a7d656",
      "metadata": {
        "id": "829cb75b-f14e-4ba8-9195-7ba929a7d656",
        "tags": []
      },
      "source": [
        "# <center> Проект: Анализ вакансий из HeadHunter\n",
        "   "
      ]
    },
    {
      "cell_type": "code",
      "execution_count": 1,
      "id": "dccfde33-2452-43fb-a8a5-5c6ebc02a71d",
      "metadata": {
        "id": "dccfde33-2452-43fb-a8a5-5c6ebc02a71d"
      },
      "outputs": [],
      "source": [
        "# Импорт библиотек\n",
        "import pandas as pd\n",
        "import psycopg2\n",
        "import plotly\n",
        "import plotly.express as px"
      ]
    },
    {
      "cell_type": "code",
      "execution_count": 3,
      "id": "G4X_q8KBf7SF",
      "metadata": {
        "id": "G4X_q8KBf7SF"
      },
      "outputs": [],
      "source": [
        "connection = psycopg2.connect(\n",
        "    dbname=DBNAME,\n",
        "    user=USER,\n",
        "    host=HOST,\n",
        "    password=PASSWORD,\n",
        "    port=PORT\n",
        ")"
      ]
    },
    {
      "cell_type": "markdown",
      "id": "0dc6476b-7a00-44f1-ac93-6e3baed33a29",
      "metadata": {
        "id": "0dc6476b-7a00-44f1-ac93-6e3baed33a29"
      },
      "source": [
        "# Юнит 3. Предварительный анализ данных"
      ]
    },
    {
      "cell_type": "markdown",
      "id": "889782b6-8d1c-410e-8920-e57f27917c64",
      "metadata": {
        "id": "889782b6-8d1c-410e-8920-e57f27917c64"
      },
      "source": [
        "1. Напишите запрос, который посчитает количество вакансий в нашей базе (вакансии находятся в таблице vacancies). "
      ]
    },
    {
      "cell_type": "code",
      "execution_count": 4,
      "id": "bc39e68e-ed02-4ee2-9235-7258a2f867a8",
      "metadata": {
        "id": "bc39e68e-ed02-4ee2-9235-7258a2f867a8"
      },
      "outputs": [],
      "source": [
        "# текст запроса\n",
        "query_3_1 = f'''\n",
        "SELECT count(v.id) as count_vacancies -- подсчет количества вакансий в таблице vacancies\n",
        "  FROM vacancies as v\n",
        "'''"
      ]
    },
    {
      "cell_type": "code",
      "execution_count": 5,
      "id": "7mAwtsk4hEHY",
      "metadata": {
        "id": "7mAwtsk4hEHY"
      },
      "outputs": [
        {
          "name": "stderr",
          "output_type": "stream",
          "text": [
            "C:\\Users\\koshe\\AppData\\Local\\Temp\\ipykernel_16088\\4045908245.py:2: UserWarning: pandas only supports SQLAlchemy connectable (engine/connection) or database string URI or sqlite3 DBAPI2 connection. Other DBAPI2 objects are not tested. Please consider using SQLAlchemy.\n",
            "  df_3_1 = pd.read_sql_query(query_3_1, connection)\n"
          ]
        },
        {
          "data": {
            "text/html": [
              "<div>\n",
              "<style scoped>\n",
              "    .dataframe tbody tr th:only-of-type {\n",
              "        vertical-align: middle;\n",
              "    }\n",
              "\n",
              "    .dataframe tbody tr th {\n",
              "        vertical-align: top;\n",
              "    }\n",
              "\n",
              "    .dataframe thead th {\n",
              "        text-align: right;\n",
              "    }\n",
              "</style>\n",
              "<table border=\"1\" class=\"dataframe\">\n",
              "  <thead>\n",
              "    <tr style=\"text-align: right;\">\n",
              "      <th></th>\n",
              "      <th>count_vacancies</th>\n",
              "    </tr>\n",
              "  </thead>\n",
              "  <tbody>\n",
              "    <tr>\n",
              "      <th>0</th>\n",
              "      <td>49197</td>\n",
              "    </tr>\n",
              "  </tbody>\n",
              "</table>\n",
              "</div>"
            ],
            "text/plain": [
              "   count_vacancies\n",
              "0            49197"
            ]
          },
          "execution_count": 5,
          "metadata": {},
          "output_type": "execute_result"
        }
      ],
      "source": [
        "# результат запроса\n",
        "df_3_1 = pd.read_sql_query(query_3_1, connection)\n",
        "df_3_1"
      ]
    },
    {
      "cell_type": "markdown",
      "metadata": {},
      "source": [
        "Выводы: количество вакансий в исследуемой выборке ~ 50 000"
      ]
    },
    {
      "cell_type": "markdown",
      "id": "b583485d-1f9e-494e-ada4-80ffff7c53d6",
      "metadata": {
        "id": "b583485d-1f9e-494e-ada4-80ffff7c53d6"
      },
      "source": [
        "2. Напишите запрос, который посчитает количество работодателей (таблица employers). "
      ]
    },
    {
      "cell_type": "code",
      "execution_count": 6,
      "id": "5408c52c-3407-4a63-b25b-1aafa2322d28",
      "metadata": {
        "id": "5408c52c-3407-4a63-b25b-1aafa2322d28"
      },
      "outputs": [],
      "source": [
        "# текст запроса\n",
        "query_3_2 = f'''\n",
        "SELECT count(e.id) as count_employers -- подсчет количества работодателей в таблице employers\n",
        "  FROM employers as e\n",
        "'''"
      ]
    },
    {
      "cell_type": "code",
      "execution_count": 7,
      "id": "jVL4eshKhdqc",
      "metadata": {
        "id": "jVL4eshKhdqc"
      },
      "outputs": [
        {
          "name": "stderr",
          "output_type": "stream",
          "text": [
            "C:\\Users\\koshe\\AppData\\Local\\Temp\\ipykernel_16088\\533540996.py:2: UserWarning: pandas only supports SQLAlchemy connectable (engine/connection) or database string URI or sqlite3 DBAPI2 connection. Other DBAPI2 objects are not tested. Please consider using SQLAlchemy.\n",
            "  df_3_2 = pd.read_sql_query(query_3_2, connection)\n"
          ]
        },
        {
          "data": {
            "text/html": [
              "<div>\n",
              "<style scoped>\n",
              "    .dataframe tbody tr th:only-of-type {\n",
              "        vertical-align: middle;\n",
              "    }\n",
              "\n",
              "    .dataframe tbody tr th {\n",
              "        vertical-align: top;\n",
              "    }\n",
              "\n",
              "    .dataframe thead th {\n",
              "        text-align: right;\n",
              "    }\n",
              "</style>\n",
              "<table border=\"1\" class=\"dataframe\">\n",
              "  <thead>\n",
              "    <tr style=\"text-align: right;\">\n",
              "      <th></th>\n",
              "      <th>count_employers</th>\n",
              "    </tr>\n",
              "  </thead>\n",
              "  <tbody>\n",
              "    <tr>\n",
              "      <th>0</th>\n",
              "      <td>23501</td>\n",
              "    </tr>\n",
              "  </tbody>\n",
              "</table>\n",
              "</div>"
            ],
            "text/plain": [
              "   count_employers\n",
              "0            23501"
            ]
          },
          "execution_count": 7,
          "metadata": {},
          "output_type": "execute_result"
        }
      ],
      "source": [
        "# результат запроса\n",
        "df_3_2 = pd.read_sql_query(query_3_2, connection)\n",
        "df_3_2"
      ]
    },
    {
      "cell_type": "markdown",
      "metadata": {},
      "source": [
        "Выводы: количество работодателей в исследуемой выборке ~ 24 000. Что в 2 раза меньше количества вакансий, отсюда можно сделать вывод, что большинству работодателей принадлежит 2 и более вакансии."
      ]
    },
    {
      "cell_type": "markdown",
      "id": "a2bfff1f-c975-4bf6-84be-2185d79dcb76",
      "metadata": {
        "id": "a2bfff1f-c975-4bf6-84be-2185d79dcb76"
      },
      "source": [
        "3. Посчитате с помощью запроса количество регионов (таблица areas)."
      ]
    },
    {
      "cell_type": "code",
      "execution_count": 8,
      "id": "1m8QJwBYhey6",
      "metadata": {
        "id": "1m8QJwBYhey6"
      },
      "outputs": [],
      "source": [
        "# текст запроса\n",
        "query_3_3 = f'''\n",
        "SELECT count(a.id) as count_areas -- подсчет количества регионов в таблице areas\n",
        "  FROM areas as a\n",
        "'''"
      ]
    },
    {
      "cell_type": "code",
      "execution_count": 9,
      "id": "EZsn9tlfhe7f",
      "metadata": {
        "id": "EZsn9tlfhe7f"
      },
      "outputs": [
        {
          "name": "stderr",
          "output_type": "stream",
          "text": [
            "C:\\Users\\koshe\\AppData\\Local\\Temp\\ipykernel_16088\\1395976625.py:2: UserWarning: pandas only supports SQLAlchemy connectable (engine/connection) or database string URI or sqlite3 DBAPI2 connection. Other DBAPI2 objects are not tested. Please consider using SQLAlchemy.\n",
            "  df_3_3 = pd.read_sql_query(query_3_3, connection)\n"
          ]
        },
        {
          "data": {
            "text/html": [
              "<div>\n",
              "<style scoped>\n",
              "    .dataframe tbody tr th:only-of-type {\n",
              "        vertical-align: middle;\n",
              "    }\n",
              "\n",
              "    .dataframe tbody tr th {\n",
              "        vertical-align: top;\n",
              "    }\n",
              "\n",
              "    .dataframe thead th {\n",
              "        text-align: right;\n",
              "    }\n",
              "</style>\n",
              "<table border=\"1\" class=\"dataframe\">\n",
              "  <thead>\n",
              "    <tr style=\"text-align: right;\">\n",
              "      <th></th>\n",
              "      <th>count_areas</th>\n",
              "    </tr>\n",
              "  </thead>\n",
              "  <tbody>\n",
              "    <tr>\n",
              "      <th>0</th>\n",
              "      <td>1362</td>\n",
              "    </tr>\n",
              "  </tbody>\n",
              "</table>\n",
              "</div>"
            ],
            "text/plain": [
              "   count_areas\n",
              "0         1362"
            ]
          },
          "execution_count": 9,
          "metadata": {},
          "output_type": "execute_result"
        }
      ],
      "source": [
        "# результат запроса\n",
        "df_3_3 = pd.read_sql_query(query_3_3, connection)\n",
        "df_3_3"
      ]
    },
    {
      "cell_type": "markdown",
      "metadata": {},
      "source": [
        "Выводы: количество регионов в исследуемой выборке 1362."
      ]
    },
    {
      "cell_type": "markdown",
      "id": "41bb59f3-53cc-4a67-a5bc-bedf573955e4",
      "metadata": {
        "id": "41bb59f3-53cc-4a67-a5bc-bedf573955e4"
      },
      "source": [
        "4. Посчитате с помощью запроса количество сфер деятельности в базе (таблица industries)."
      ]
    },
    {
      "cell_type": "code",
      "execution_count": 10,
      "id": "d286cf4c-707b-4cd2-9190-7ab3587d04a1",
      "metadata": {
        "id": "d286cf4c-707b-4cd2-9190-7ab3587d04a1"
      },
      "outputs": [],
      "source": [
        "# текст запроса\n",
        "query_3_4 = f'''\n",
        "SELECT count(ind.id) as count_industries -- подсчет количества сфер деятельности в таблице industries\n",
        "  FROM industries as ind\n",
        "'''"
      ]
    },
    {
      "cell_type": "code",
      "execution_count": 11,
      "id": "JYAaoZ4qhfzW",
      "metadata": {
        "id": "JYAaoZ4qhfzW"
      },
      "outputs": [
        {
          "name": "stderr",
          "output_type": "stream",
          "text": [
            "C:\\Users\\koshe\\AppData\\Local\\Temp\\ipykernel_16088\\854197215.py:2: UserWarning: pandas only supports SQLAlchemy connectable (engine/connection) or database string URI or sqlite3 DBAPI2 connection. Other DBAPI2 objects are not tested. Please consider using SQLAlchemy.\n",
            "  df_3_4 = pd.read_sql_query(query_3_4, connection)\n"
          ]
        },
        {
          "data": {
            "text/html": [
              "<div>\n",
              "<style scoped>\n",
              "    .dataframe tbody tr th:only-of-type {\n",
              "        vertical-align: middle;\n",
              "    }\n",
              "\n",
              "    .dataframe tbody tr th {\n",
              "        vertical-align: top;\n",
              "    }\n",
              "\n",
              "    .dataframe thead th {\n",
              "        text-align: right;\n",
              "    }\n",
              "</style>\n",
              "<table border=\"1\" class=\"dataframe\">\n",
              "  <thead>\n",
              "    <tr style=\"text-align: right;\">\n",
              "      <th></th>\n",
              "      <th>count_industries</th>\n",
              "    </tr>\n",
              "  </thead>\n",
              "  <tbody>\n",
              "    <tr>\n",
              "      <th>0</th>\n",
              "      <td>294</td>\n",
              "    </tr>\n",
              "  </tbody>\n",
              "</table>\n",
              "</div>"
            ],
            "text/plain": [
              "   count_industries\n",
              "0               294"
            ]
          },
          "execution_count": 11,
          "metadata": {},
          "output_type": "execute_result"
        }
      ],
      "source": [
        "# результат запроса\n",
        "df_3_4 = pd.read_sql_query(query_3_4, connection)\n",
        "df_3_4"
      ]
    },
    {
      "cell_type": "markdown",
      "metadata": {},
      "source": [
        "Выводы: количество сфер деятельности в исследуемой выборке - 294."
      ]
    },
    {
      "cell_type": "markdown",
      "id": "9a8a2181-6914-448b-85f1-38f5f18b8a93",
      "metadata": {
        "id": "9a8a2181-6914-448b-85f1-38f5f18b8a93"
      },
      "source": [
        "***"
      ]
    },
    {
      "cell_type": "markdown",
      "metadata": {},
      "source": [
        "Выводы по предварительному анализу данных:\n",
        "1. Количество вакансий в исследуемой выборке ~ 50 000\n",
        "2. Количество работодателей в исследуемой выборке ~ 24 000. Что в 2 раза меньше количества вакансий, отсюда можно сделать вывод, что большинству работодателей принадлежит 2 и более вакансии.\n",
        "3. Количество регионов в исследуемой выборке ~ 1400, что позволяет исследовать данные по вакансиям в самых разных регионах.\n",
        "4. Количество сфер деятельности в исследуемой выборке ~ 300."
      ]
    },
    {
      "cell_type": "markdown",
      "id": "8d62a9f3-f64e-4fe7-bdac-c4dffa16155e",
      "metadata": {
        "id": "8d62a9f3-f64e-4fe7-bdac-c4dffa16155e"
      },
      "source": [
        "# Юнит 4. Детальный анализ вакансий"
      ]
    },
    {
      "cell_type": "markdown",
      "id": "93053d3d-b284-481a-9cf7-012d7014c0e0",
      "metadata": {
        "id": "93053d3d-b284-481a-9cf7-012d7014c0e0"
      },
      "source": [
        "1. Напишите запрос, который позволит узнать, сколько (cnt) вакансий в каждом регионе (area).\n",
        "Отсортируйте по количеству вакансий в порядке убывания."
      ]
    },
    {
      "cell_type": "code",
      "execution_count": 12,
      "id": "3f069da6-fdc9-4ae7-b514-fafe2675efd3",
      "metadata": {
        "id": "3f069da6-fdc9-4ae7-b514-fafe2675efd3"
      },
      "outputs": [],
      "source": [
        "# текст запроса\n",
        "query_4_1 = f'''\n",
        "SELECT a.name as name_area, COUNT(v.id) as count_vac -- Вывод регионов и подсчет количества вакансий\n",
        "  FROM vacancies as v\n",
        "  LEFT JOIN areas as a \n",
        "    ON a.id = v.area_id -- соединяем таблицы по id региона \n",
        "  GROUP BY a.id -- группируем по id региона\n",
        "  ORDER BY COUNT(v.id) DESC -- сортируем по убыванию по количеству вакансий\n",
        "  -- LIMIT 5 -- выводим первые 5 элементов (для задачи)\n",
        "'''"
      ]
    },
    {
      "cell_type": "code",
      "execution_count": 13,
      "id": "P7QL86hrjhRJ",
      "metadata": {
        "id": "P7QL86hrjhRJ"
      },
      "outputs": [
        {
          "name": "stderr",
          "output_type": "stream",
          "text": [
            "C:\\Users\\koshe\\AppData\\Local\\Temp\\ipykernel_16088\\620650199.py:2: UserWarning: pandas only supports SQLAlchemy connectable (engine/connection) or database string URI or sqlite3 DBAPI2 connection. Other DBAPI2 objects are not tested. Please consider using SQLAlchemy.\n",
            "  df_4_1 = pd.read_sql_query(query_4_1, connection)\n"
          ]
        },
        {
          "data": {
            "text/html": [
              "<div>\n",
              "<style scoped>\n",
              "    .dataframe tbody tr th:only-of-type {\n",
              "        vertical-align: middle;\n",
              "    }\n",
              "\n",
              "    .dataframe tbody tr th {\n",
              "        vertical-align: top;\n",
              "    }\n",
              "\n",
              "    .dataframe thead th {\n",
              "        text-align: right;\n",
              "    }\n",
              "</style>\n",
              "<table border=\"1\" class=\"dataframe\">\n",
              "  <thead>\n",
              "    <tr style=\"text-align: right;\">\n",
              "      <th></th>\n",
              "      <th>name_area</th>\n",
              "      <th>count_vac</th>\n",
              "    </tr>\n",
              "  </thead>\n",
              "  <tbody>\n",
              "    <tr>\n",
              "      <th>0</th>\n",
              "      <td>Москва</td>\n",
              "      <td>5333</td>\n",
              "    </tr>\n",
              "    <tr>\n",
              "      <th>1</th>\n",
              "      <td>Санкт-Петербург</td>\n",
              "      <td>2851</td>\n",
              "    </tr>\n",
              "    <tr>\n",
              "      <th>2</th>\n",
              "      <td>Минск</td>\n",
              "      <td>2112</td>\n",
              "    </tr>\n",
              "    <tr>\n",
              "      <th>3</th>\n",
              "      <td>Новосибирск</td>\n",
              "      <td>2006</td>\n",
              "    </tr>\n",
              "    <tr>\n",
              "      <th>4</th>\n",
              "      <td>Алматы</td>\n",
              "      <td>1892</td>\n",
              "    </tr>\n",
              "    <tr>\n",
              "      <th>...</th>\n",
              "      <td>...</td>\n",
              "      <td>...</td>\n",
              "    </tr>\n",
              "    <tr>\n",
              "      <th>764</th>\n",
              "      <td>Кизляр</td>\n",
              "      <td>1</td>\n",
              "    </tr>\n",
              "    <tr>\n",
              "      <th>765</th>\n",
              "      <td>Джизак</td>\n",
              "      <td>1</td>\n",
              "    </tr>\n",
              "    <tr>\n",
              "      <th>766</th>\n",
              "      <td>Эртиль</td>\n",
              "      <td>1</td>\n",
              "    </tr>\n",
              "    <tr>\n",
              "      <th>767</th>\n",
              "      <td>Арсеньев</td>\n",
              "      <td>1</td>\n",
              "    </tr>\n",
              "    <tr>\n",
              "      <th>768</th>\n",
              "      <td>Тура (Красноярский край)</td>\n",
              "      <td>1</td>\n",
              "    </tr>\n",
              "  </tbody>\n",
              "</table>\n",
              "<p>769 rows × 2 columns</p>\n",
              "</div>"
            ],
            "text/plain": [
              "                    name_area  count_vac\n",
              "0                      Москва       5333\n",
              "1             Санкт-Петербург       2851\n",
              "2                       Минск       2112\n",
              "3                 Новосибирск       2006\n",
              "4                      Алматы       1892\n",
              "..                        ...        ...\n",
              "764                    Кизляр          1\n",
              "765                    Джизак          1\n",
              "766                    Эртиль          1\n",
              "767                  Арсеньев          1\n",
              "768  Тура (Красноярский край)          1\n",
              "\n",
              "[769 rows x 2 columns]"
            ]
          },
          "execution_count": 13,
          "metadata": {},
          "output_type": "execute_result"
        }
      ],
      "source": [
        "# результат запроса\n",
        "df_4_1 = pd.read_sql_query(query_4_1, connection)\n",
        "df_4_1"
      ]
    },
    {
      "cell_type": "markdown",
      "metadata": {},
      "source": [
        "Выводы: Наибольшее количество вакансий представлено в Москве, Санкт-Петербурге, Минске, Новосибирске, Алматы. Чем больше город, тем больше вакансий в нем представлено"
      ]
    },
    {
      "cell_type": "markdown",
      "id": "4266f0b6-1646-492a-88b4-2f6a46502135",
      "metadata": {
        "id": "4266f0b6-1646-492a-88b4-2f6a46502135"
      },
      "source": [
        "2. Напишите запрос, чтобы определить у какого количества вакансий заполнено хотя бы одно из двух полей с зарплатой."
      ]
    },
    {
      "cell_type": "code",
      "execution_count": 14,
      "id": "0c44b350-72eb-4d65-8b54-a1fc449ba9fd",
      "metadata": {
        "id": "0c44b350-72eb-4d65-8b54-a1fc449ba9fd"
      },
      "outputs": [],
      "source": [
        "# текст запроса\n",
        "query_4_2 = f'''\n",
        "SELECT count(v.id) -- Подсчет количества вакансий\n",
        "  FROM vacancies as v\n",
        "  WHERE (v.salary_from is not NULL) OR (v.salary_to is not NULL) -- ограничиваем строками, где ненулевая зп в столбцах\n",
        "'''"
      ]
    },
    {
      "cell_type": "code",
      "execution_count": 15,
      "id": "rhvwaMDkoWTi",
      "metadata": {
        "id": "rhvwaMDkoWTi"
      },
      "outputs": [
        {
          "name": "stderr",
          "output_type": "stream",
          "text": [
            "C:\\Users\\koshe\\AppData\\Local\\Temp\\ipykernel_16088\\3746829199.py:2: UserWarning: pandas only supports SQLAlchemy connectable (engine/connection) or database string URI or sqlite3 DBAPI2 connection. Other DBAPI2 objects are not tested. Please consider using SQLAlchemy.\n",
            "  df_4_2 = pd.read_sql_query(query_4_2, connection)\n"
          ]
        },
        {
          "data": {
            "text/html": [
              "<div>\n",
              "<style scoped>\n",
              "    .dataframe tbody tr th:only-of-type {\n",
              "        vertical-align: middle;\n",
              "    }\n",
              "\n",
              "    .dataframe tbody tr th {\n",
              "        vertical-align: top;\n",
              "    }\n",
              "\n",
              "    .dataframe thead th {\n",
              "        text-align: right;\n",
              "    }\n",
              "</style>\n",
              "<table border=\"1\" class=\"dataframe\">\n",
              "  <thead>\n",
              "    <tr style=\"text-align: right;\">\n",
              "      <th></th>\n",
              "      <th>count</th>\n",
              "    </tr>\n",
              "  </thead>\n",
              "  <tbody>\n",
              "    <tr>\n",
              "      <th>0</th>\n",
              "      <td>24073</td>\n",
              "    </tr>\n",
              "  </tbody>\n",
              "</table>\n",
              "</div>"
            ],
            "text/plain": [
              "   count\n",
              "0  24073"
            ]
          },
          "execution_count": 15,
          "metadata": {},
          "output_type": "execute_result"
        }
      ],
      "source": [
        "# результат запроса\n",
        "df_4_2 = pd.read_sql_query(query_4_2, connection)\n",
        "df_4_2"
      ]
    },
    {
      "cell_type": "markdown",
      "metadata": {},
      "source": [
        "Выводы: Количество строк, где указан один из порогов зп - 24 000. Можно сделать вывод, что почти у половины вакансий отсутствует указание ЗП"
      ]
    },
    {
      "cell_type": "markdown",
      "id": "635c4d5d-f323-4c66-b428-50a088120aa0",
      "metadata": {
        "id": "635c4d5d-f323-4c66-b428-50a088120aa0"
      },
      "source": [
        "3. Найдите средние значения для нижней и верхней границы зарплатной вилки. Округлите значения до целого."
      ]
    },
    {
      "cell_type": "code",
      "execution_count": 16,
      "id": "603cdbe4-0ec3-4106-8eaf-c73fcdd29165",
      "metadata": {
        "id": "603cdbe4-0ec3-4106-8eaf-c73fcdd29165"
      },
      "outputs": [],
      "source": [
        "# текст запроса\n",
        "query_4_3 = f'''\n",
        "SELECT AVG(v.salary_from) as avg_salary_from, AVG(v.salary_to) as avg_salary_to -- расчет средний границ ЗП\n",
        "  FROM vacancies as v\n",
        "'''"
      ]
    },
    {
      "cell_type": "code",
      "execution_count": 17,
      "id": "pswpAb66ovZZ",
      "metadata": {
        "id": "pswpAb66ovZZ"
      },
      "outputs": [
        {
          "name": "stderr",
          "output_type": "stream",
          "text": [
            "C:\\Users\\koshe\\AppData\\Local\\Temp\\ipykernel_16088\\3595259731.py:2: UserWarning: pandas only supports SQLAlchemy connectable (engine/connection) or database string URI or sqlite3 DBAPI2 connection. Other DBAPI2 objects are not tested. Please consider using SQLAlchemy.\n",
            "  df_4_3 = pd.read_sql_query(query_4_3, connection)\n"
          ]
        },
        {
          "data": {
            "text/html": [
              "<div>\n",
              "<style scoped>\n",
              "    .dataframe tbody tr th:only-of-type {\n",
              "        vertical-align: middle;\n",
              "    }\n",
              "\n",
              "    .dataframe tbody tr th {\n",
              "        vertical-align: top;\n",
              "    }\n",
              "\n",
              "    .dataframe thead th {\n",
              "        text-align: right;\n",
              "    }\n",
              "</style>\n",
              "<table border=\"1\" class=\"dataframe\">\n",
              "  <thead>\n",
              "    <tr style=\"text-align: right;\">\n",
              "      <th></th>\n",
              "      <th>avg_salary_from</th>\n",
              "      <th>avg_salary_to</th>\n",
              "    </tr>\n",
              "  </thead>\n",
              "  <tbody>\n",
              "    <tr>\n",
              "      <th>0</th>\n",
              "      <td>71064.657901</td>\n",
              "      <td>110536.741923</td>\n",
              "    </tr>\n",
              "  </tbody>\n",
              "</table>\n",
              "</div>"
            ],
            "text/plain": [
              "   avg_salary_from  avg_salary_to\n",
              "0     71064.657901  110536.741923"
            ]
          },
          "execution_count": 17,
          "metadata": {},
          "output_type": "execute_result"
        }
      ],
      "source": [
        "# результат запроса\n",
        "df_4_3 = pd.read_sql_query(query_4_3, connection)\n",
        "df_4_3"
      ]
    },
    {
      "cell_type": "markdown",
      "metadata": {},
      "source": [
        "Выводы: средняя ЗП варьируется от 70 тыс до 110 тыс. Что соответствует среднему уровню зп."
      ]
    },
    {
      "cell_type": "markdown",
      "id": "f3fdaec9-5fd3-4260-9cf5-1d7406b628a5",
      "metadata": {
        "id": "f3fdaec9-5fd3-4260-9cf5-1d7406b628a5"
      },
      "source": [
        "4. Напишите запрос, который выведет количество вакансий для каждого сочетания типа рабочего графика (schedule) и типа трудоустройства (employment), используемого в вакансиях. Результат отсортируйте по убыванию количества.\n"
      ]
    },
    {
      "cell_type": "code",
      "execution_count": 18,
      "id": "1ea710ec-871b-431e-9462-c7d0fd87011b",
      "metadata": {
        "id": "1ea710ec-871b-431e-9462-c7d0fd87011b"
      },
      "outputs": [],
      "source": [
        "# текст запроса\n",
        "query_4_4 = f'''\n",
        "SELECT v.schedule, v.employment, COUNT(v.id) as count_vac -- вывод типа графика и трудоустройства с количеством вакансий\n",
        "  FROM vacancies as v\n",
        "  GROUP BY v.schedule, v.employment -- группируем по типу графика и трудоустройству\n",
        "  ORDER BY COUNT(v.id) DESC -- сортируем по убыванию по столбцу количества вакансий\n",
        "  -- LIMIT 1 OFFSET 1 -- определяем сочетание для второго места (для задачи)\n",
        "'''"
      ]
    },
    {
      "cell_type": "code",
      "execution_count": 19,
      "id": "lGUVqavdo4JQ",
      "metadata": {
        "id": "lGUVqavdo4JQ"
      },
      "outputs": [
        {
          "name": "stderr",
          "output_type": "stream",
          "text": [
            "C:\\Users\\koshe\\AppData\\Local\\Temp\\ipykernel_16088\\2028972612.py:2: UserWarning: pandas only supports SQLAlchemy connectable (engine/connection) or database string URI or sqlite3 DBAPI2 connection. Other DBAPI2 objects are not tested. Please consider using SQLAlchemy.\n",
            "  df_4_4 = pd.read_sql_query(query_4_4, connection)\n"
          ]
        },
        {
          "data": {
            "text/html": [
              "<div>\n",
              "<style scoped>\n",
              "    .dataframe tbody tr th:only-of-type {\n",
              "        vertical-align: middle;\n",
              "    }\n",
              "\n",
              "    .dataframe tbody tr th {\n",
              "        vertical-align: top;\n",
              "    }\n",
              "\n",
              "    .dataframe thead th {\n",
              "        text-align: right;\n",
              "    }\n",
              "</style>\n",
              "<table border=\"1\" class=\"dataframe\">\n",
              "  <thead>\n",
              "    <tr style=\"text-align: right;\">\n",
              "      <th></th>\n",
              "      <th>schedule</th>\n",
              "      <th>employment</th>\n",
              "      <th>count_vac</th>\n",
              "    </tr>\n",
              "  </thead>\n",
              "  <tbody>\n",
              "    <tr>\n",
              "      <th>0</th>\n",
              "      <td>Полный день</td>\n",
              "      <td>Полная занятость</td>\n",
              "      <td>35367</td>\n",
              "    </tr>\n",
              "    <tr>\n",
              "      <th>1</th>\n",
              "      <td>Удаленная работа</td>\n",
              "      <td>Полная занятость</td>\n",
              "      <td>7802</td>\n",
              "    </tr>\n",
              "    <tr>\n",
              "      <th>2</th>\n",
              "      <td>Гибкий график</td>\n",
              "      <td>Полная занятость</td>\n",
              "      <td>1593</td>\n",
              "    </tr>\n",
              "    <tr>\n",
              "      <th>3</th>\n",
              "      <td>Удаленная работа</td>\n",
              "      <td>Частичная занятость</td>\n",
              "      <td>1312</td>\n",
              "    </tr>\n",
              "    <tr>\n",
              "      <th>4</th>\n",
              "      <td>Сменный график</td>\n",
              "      <td>Полная занятость</td>\n",
              "      <td>940</td>\n",
              "    </tr>\n",
              "    <tr>\n",
              "      <th>5</th>\n",
              "      <td>Полный день</td>\n",
              "      <td>Стажировка</td>\n",
              "      <td>569</td>\n",
              "    </tr>\n",
              "    <tr>\n",
              "      <th>6</th>\n",
              "      <td>Вахтовый метод</td>\n",
              "      <td>Полная занятость</td>\n",
              "      <td>367</td>\n",
              "    </tr>\n",
              "    <tr>\n",
              "      <th>7</th>\n",
              "      <td>Полный день</td>\n",
              "      <td>Частичная занятость</td>\n",
              "      <td>347</td>\n",
              "    </tr>\n",
              "    <tr>\n",
              "      <th>8</th>\n",
              "      <td>Гибкий график</td>\n",
              "      <td>Частичная занятость</td>\n",
              "      <td>312</td>\n",
              "    </tr>\n",
              "    <tr>\n",
              "      <th>9</th>\n",
              "      <td>Полный день</td>\n",
              "      <td>Проектная работа</td>\n",
              "      <td>141</td>\n",
              "    </tr>\n",
              "    <tr>\n",
              "      <th>10</th>\n",
              "      <td>Удаленная работа</td>\n",
              "      <td>Проектная работа</td>\n",
              "      <td>133</td>\n",
              "    </tr>\n",
              "    <tr>\n",
              "      <th>11</th>\n",
              "      <td>Гибкий график</td>\n",
              "      <td>Стажировка</td>\n",
              "      <td>116</td>\n",
              "    </tr>\n",
              "    <tr>\n",
              "      <th>12</th>\n",
              "      <td>Сменный график</td>\n",
              "      <td>Частичная занятость</td>\n",
              "      <td>101</td>\n",
              "    </tr>\n",
              "    <tr>\n",
              "      <th>13</th>\n",
              "      <td>Удаленная работа</td>\n",
              "      <td>Стажировка</td>\n",
              "      <td>64</td>\n",
              "    </tr>\n",
              "    <tr>\n",
              "      <th>14</th>\n",
              "      <td>Гибкий график</td>\n",
              "      <td>Проектная работа</td>\n",
              "      <td>18</td>\n",
              "    </tr>\n",
              "    <tr>\n",
              "      <th>15</th>\n",
              "      <td>Сменный график</td>\n",
              "      <td>Стажировка</td>\n",
              "      <td>12</td>\n",
              "    </tr>\n",
              "    <tr>\n",
              "      <th>16</th>\n",
              "      <td>Вахтовый метод</td>\n",
              "      <td>Проектная работа</td>\n",
              "      <td>2</td>\n",
              "    </tr>\n",
              "    <tr>\n",
              "      <th>17</th>\n",
              "      <td>Сменный график</td>\n",
              "      <td>Проектная работа</td>\n",
              "      <td>1</td>\n",
              "    </tr>\n",
              "  </tbody>\n",
              "</table>\n",
              "</div>"
            ],
            "text/plain": [
              "            schedule           employment  count_vac\n",
              "0        Полный день     Полная занятость      35367\n",
              "1   Удаленная работа     Полная занятость       7802\n",
              "2      Гибкий график     Полная занятость       1593\n",
              "3   Удаленная работа  Частичная занятость       1312\n",
              "4     Сменный график     Полная занятость        940\n",
              "5        Полный день           Стажировка        569\n",
              "6     Вахтовый метод     Полная занятость        367\n",
              "7        Полный день  Частичная занятость        347\n",
              "8      Гибкий график  Частичная занятость        312\n",
              "9        Полный день     Проектная работа        141\n",
              "10  Удаленная работа     Проектная работа        133\n",
              "11     Гибкий график           Стажировка        116\n",
              "12    Сменный график  Частичная занятость        101\n",
              "13  Удаленная работа           Стажировка         64\n",
              "14     Гибкий график     Проектная работа         18\n",
              "15    Сменный график           Стажировка         12\n",
              "16    Вахтовый метод     Проектная работа          2\n",
              "17    Сменный график     Проектная работа          1"
            ]
          },
          "execution_count": 19,
          "metadata": {},
          "output_type": "execute_result"
        }
      ],
      "source": [
        "# результат запроса\n",
        "df_4_4 = pd.read_sql_query(query_4_4, connection)\n",
        "df_4_4"
      ]
    },
    {
      "cell_type": "markdown",
      "metadata": {},
      "source": [
        "Выводы: самым популярным сочетание является \"Полный день\"-\"Полная занятость\". Наиболее популярными типами графика являются полный день, удаленная работа и гибкий график в сочетании с полной занятостью.\n",
        "Наименее популярные сочетания - вахтовый метод/сменный график  и проектная работа"
      ]
    },
    {
      "cell_type": "markdown",
      "id": "0136ffee-0ead-4a6b-b608-61d1c753a438",
      "metadata": {
        "id": "0136ffee-0ead-4a6b-b608-61d1c753a438"
      },
      "source": [
        "5. Напишите запрос, выводящий значения поля Требуемый опыт работы (experience) в порядке возрастания количества вакансий, в которых указан данный вариант опыта. "
      ]
    },
    {
      "cell_type": "code",
      "execution_count": 20,
      "id": "5b3a8e79-f7ab-4008-b767-12aea3a205ea",
      "metadata": {
        "id": "5b3a8e79-f7ab-4008-b767-12aea3a205ea"
      },
      "outputs": [],
      "source": [
        "# текст запроса\n",
        "query_4_5 = f'''\n",
        "SELECT v.experience, COUNT(v.id) -- вывод опыта работы и соответствующего количества вакансий\n",
        "  FROM vacancies as v\n",
        "  GROUP BY v.experience -- группировка по опыту\n",
        "  ORDER BY COUNT(v.id) -- сортируем по количеству вакансий по возрастанию\n",
        "'''"
      ]
    },
    {
      "cell_type": "code",
      "execution_count": 21,
      "id": "3Is64Y-hpDpq",
      "metadata": {
        "id": "3Is64Y-hpDpq"
      },
      "outputs": [
        {
          "name": "stderr",
          "output_type": "stream",
          "text": [
            "C:\\Users\\koshe\\AppData\\Local\\Temp\\ipykernel_16088\\210463167.py:2: UserWarning: pandas only supports SQLAlchemy connectable (engine/connection) or database string URI or sqlite3 DBAPI2 connection. Other DBAPI2 objects are not tested. Please consider using SQLAlchemy.\n",
            "  df_4_5 = pd.read_sql_query(query_4_5, connection)\n"
          ]
        },
        {
          "data": {
            "text/html": [
              "<div>\n",
              "<style scoped>\n",
              "    .dataframe tbody tr th:only-of-type {\n",
              "        vertical-align: middle;\n",
              "    }\n",
              "\n",
              "    .dataframe tbody tr th {\n",
              "        vertical-align: top;\n",
              "    }\n",
              "\n",
              "    .dataframe thead th {\n",
              "        text-align: right;\n",
              "    }\n",
              "</style>\n",
              "<table border=\"1\" class=\"dataframe\">\n",
              "  <thead>\n",
              "    <tr style=\"text-align: right;\">\n",
              "      <th></th>\n",
              "      <th>experience</th>\n",
              "      <th>count</th>\n",
              "    </tr>\n",
              "  </thead>\n",
              "  <tbody>\n",
              "    <tr>\n",
              "      <th>0</th>\n",
              "      <td>Более 6 лет</td>\n",
              "      <td>1337</td>\n",
              "    </tr>\n",
              "    <tr>\n",
              "      <th>1</th>\n",
              "      <td>Нет опыта</td>\n",
              "      <td>7197</td>\n",
              "    </tr>\n",
              "    <tr>\n",
              "      <th>2</th>\n",
              "      <td>От 3 до 6 лет</td>\n",
              "      <td>14511</td>\n",
              "    </tr>\n",
              "    <tr>\n",
              "      <th>3</th>\n",
              "      <td>От 1 года до 3 лет</td>\n",
              "      <td>26152</td>\n",
              "    </tr>\n",
              "  </tbody>\n",
              "</table>\n",
              "</div>"
            ],
            "text/plain": [
              "           experience  count\n",
              "0         Более 6 лет   1337\n",
              "1           Нет опыта   7197\n",
              "2       От 3 до 6 лет  14511\n",
              "3  От 1 года до 3 лет  26152"
            ]
          },
          "execution_count": 21,
          "metadata": {},
          "output_type": "execute_result"
        }
      ],
      "source": [
        "# результат запроса\n",
        "df_4_5 = pd.read_sql_query(query_4_5, connection)\n",
        "df_4_5"
      ]
    },
    {
      "cell_type": "markdown",
      "metadata": {},
      "source": [
        "Выводы: Больше всего вакансий с опытом от 1 года до 3 лет. Такой опыт проще всего достичь, поэтому таких вакансий больше.\n",
        "Вакансий с отпытом более 6 лет соответственно меньше."
      ]
    },
    {
      "cell_type": "markdown",
      "id": "oq2b7n1QpIka",
      "metadata": {
        "id": "oq2b7n1QpIka"
      },
      "source": [
        "***"
      ]
    },
    {
      "cell_type": "markdown",
      "metadata": {},
      "source": [
        "Выводы по детальному анализу вакансий: \n",
        "1. Наибольшее количество вакансий представлено в Москве, Санкт-Петербурге, Минске, Новосибирске, Алматы. Чем больше город, тем больше вакансий в нем представлено\n",
        "2. Количество строк, где указан один из порогов зп - 24 000. Можно сделать вывод, что почти у половины вакансий отсутствует указание ЗП\n",
        "3. Средняя ЗП варьируется от 70 тыс до 110 тыс. Что соответствует среднему уровню зп.\n",
        "4. Самым популярным сочетание является \"Полный день\"-\"Полная занятость\". Наиболее популярными типами графика являются полный день, удаленная работа и гибкий график в сочетании с полной занятостью.\n",
        "5. Наименее популярные сочетания - вахтовый метод/сменный график  и проектная работа\n",
        "6. Больше всего вакансий с опытом от 1 года до 3 лет. Такой опыт проще всего достичь, поэтому таких вакансий больше.\n",
        "Вакансий с отпытом более 6 лет соответственно меньше"
      ]
    },
    {
      "cell_type": "markdown",
      "id": "7ea20ab6-04a7-40a0-adec-443a0e5a42c3",
      "metadata": {
        "id": "7ea20ab6-04a7-40a0-adec-443a0e5a42c3"
      },
      "source": [
        "# Юнит 5. Анализ работодателей"
      ]
    },
    {
      "cell_type": "markdown",
      "id": "968aed80-74ef-4ffb-b5bf-c65b84e9caea",
      "metadata": {
        "id": "968aed80-74ef-4ffb-b5bf-c65b84e9caea"
      },
      "source": [
        "1. Напишите запрос, который позволит узнать, какие работодатели находятся на первом и пятом месте по количеству вакансий."
      ]
    },
    {
      "cell_type": "code",
      "execution_count": 22,
      "id": "f2d62796-d400-4ec1-a675-88112739a50e",
      "metadata": {
        "id": "f2d62796-d400-4ec1-a675-88112739a50e"
      },
      "outputs": [],
      "source": [
        "# текст запроса\n",
        "query_5_1 = f'''\n",
        "(SELECT emp.name as name_emp, COUNT(v.id) as count_vac -- выводим  работодателей и количество вакансий\n",
        "  FROM vacancies as v\n",
        "  LEFT JOIN employers as emp \n",
        "    ON emp.id = v.employer_id -- присоединяем таблицу работодателей по id для определения названий\n",
        "  GROUP BY v.employer_id, emp.name -- группируем по работодателям\n",
        "  ORDER BY COUNT(v.id) DESC -- сортируем по количеству по убыванию\n",
        "  LIMIT 1) -- выводим первый элемент\n",
        "\n",
        "UNION -- объединяем таблицы\n",
        "\n",
        "(SELECT emp.name as name_emp, COUNT(v.id) as count_vac -- выводим  работодателей и количество вакансий\n",
        "  FROM vacancies as v \n",
        "  LEFT JOIN employers as emp \n",
        "    ON emp.id = v.employer_id -- присоединяем таблицу работодателей по id для определения названий\n",
        "  GROUP BY v.employer_id, emp.name -- группируем по работодателям\n",
        "  ORDER BY COUNT(v.id) DESC -- сортируем по количеству по убыванию\n",
        "  LIMIT 1 OFFSET 4 ) -- выводим пятый элемент\n",
        "ORDER BY count_vac DESC\n",
        "'''"
      ]
    },
    {
      "cell_type": "code",
      "execution_count": 23,
      "id": "64tOMkAxqkQk",
      "metadata": {
        "id": "64tOMkAxqkQk"
      },
      "outputs": [
        {
          "name": "stderr",
          "output_type": "stream",
          "text": [
            "C:\\Users\\koshe\\AppData\\Local\\Temp\\ipykernel_16088\\1147638897.py:2: UserWarning: pandas only supports SQLAlchemy connectable (engine/connection) or database string URI or sqlite3 DBAPI2 connection. Other DBAPI2 objects are not tested. Please consider using SQLAlchemy.\n",
            "  df_5_1 = pd.read_sql_query(query_5_1, connection)\n"
          ]
        },
        {
          "data": {
            "text/html": [
              "<div>\n",
              "<style scoped>\n",
              "    .dataframe tbody tr th:only-of-type {\n",
              "        vertical-align: middle;\n",
              "    }\n",
              "\n",
              "    .dataframe tbody tr th {\n",
              "        vertical-align: top;\n",
              "    }\n",
              "\n",
              "    .dataframe thead th {\n",
              "        text-align: right;\n",
              "    }\n",
              "</style>\n",
              "<table border=\"1\" class=\"dataframe\">\n",
              "  <thead>\n",
              "    <tr style=\"text-align: right;\">\n",
              "      <th></th>\n",
              "      <th>name_emp</th>\n",
              "      <th>count_vac</th>\n",
              "    </tr>\n",
              "  </thead>\n",
              "  <tbody>\n",
              "    <tr>\n",
              "      <th>0</th>\n",
              "      <td>Яндекс</td>\n",
              "      <td>1933</td>\n",
              "    </tr>\n",
              "    <tr>\n",
              "      <th>1</th>\n",
              "      <td>Газпром нефть</td>\n",
              "      <td>331</td>\n",
              "    </tr>\n",
              "  </tbody>\n",
              "</table>\n",
              "</div>"
            ],
            "text/plain": [
              "        name_emp  count_vac\n",
              "0         Яндекс       1933\n",
              "1  Газпром нефть        331"
            ]
          },
          "execution_count": 23,
          "metadata": {},
          "output_type": "execute_result"
        }
      ],
      "source": [
        "# результат запроса\n",
        "df_5_1 = pd.read_sql_query(query_5_1, connection)\n",
        "df_5_1"
      ]
    },
    {
      "cell_type": "markdown",
      "metadata": {},
      "source": [
        "Выводы: первое и пятое место по количеству ваканчий занимают Яндекс и Газпром нефть, соответственно. Также наибольшее количество вакансий имеют банки (Сбер, Тинькофф)"
      ]
    },
    {
      "cell_type": "markdown",
      "id": "68377cfc-b378-43dc-ab7d-1195abf2c515",
      "metadata": {
        "id": "68377cfc-b378-43dc-ab7d-1195abf2c515"
      },
      "source": [
        "2. Напишите запрос, который для каждого региона выведет количество работодателей и вакансий в нём.\n",
        "Среди регионов, в которых нет вакансий, найдите тот, в котором наибольшее количество работодателей.\n"
      ]
    },
    {
      "cell_type": "code",
      "execution_count": 24,
      "metadata": {},
      "outputs": [],
      "source": [
        "# текст запроса\n",
        "query_5_2 = f'''\n",
        "\n",
        "SELECT a.name as area_name, COUNT(DISTINCT emp.id) count_emp -- вывод региона и количества работодателей в нем\n",
        "  FROM areas as a\n",
        "  LEFT JOIN employers as emp -- соединяем с исходной таблицей работодателей по id\n",
        "    ON emp.area = a.id\n",
        "  LEFT JOIN vacancies as v -- соединяем с исходной таблицей вакансий по id регионов\n",
        "    ON v.area_id = a.id\n",
        "  WHERE v.id is NULL -- отбираем строки, в которых нет вакансий\n",
        "  GROUP BY a.id -- группируем по id регионов\n",
        "  ORDER BY COUNT(DISTINCT emp.id) DESC -- сортируем по количеству вакансий по убыванию\n",
        "  LIMIT 1 -- оставляем первый элемент\n",
        "'''"
      ]
    },
    {
      "cell_type": "code",
      "execution_count": 25,
      "id": "x1ikWbydrbf6",
      "metadata": {
        "id": "x1ikWbydrbf6"
      },
      "outputs": [
        {
          "name": "stderr",
          "output_type": "stream",
          "text": [
            "C:\\Users\\koshe\\AppData\\Local\\Temp\\ipykernel_16088\\2306256317.py:2: UserWarning: pandas only supports SQLAlchemy connectable (engine/connection) or database string URI or sqlite3 DBAPI2 connection. Other DBAPI2 objects are not tested. Please consider using SQLAlchemy.\n",
            "  df_5_2 = pd.read_sql_query(query_5_2, connection)\n"
          ]
        },
        {
          "data": {
            "text/html": [
              "<div>\n",
              "<style scoped>\n",
              "    .dataframe tbody tr th:only-of-type {\n",
              "        vertical-align: middle;\n",
              "    }\n",
              "\n",
              "    .dataframe tbody tr th {\n",
              "        vertical-align: top;\n",
              "    }\n",
              "\n",
              "    .dataframe thead th {\n",
              "        text-align: right;\n",
              "    }\n",
              "</style>\n",
              "<table border=\"1\" class=\"dataframe\">\n",
              "  <thead>\n",
              "    <tr style=\"text-align: right;\">\n",
              "      <th></th>\n",
              "      <th>area_name</th>\n",
              "      <th>count_emp</th>\n",
              "    </tr>\n",
              "  </thead>\n",
              "  <tbody>\n",
              "    <tr>\n",
              "      <th>0</th>\n",
              "      <td>Россия</td>\n",
              "      <td>410</td>\n",
              "    </tr>\n",
              "  </tbody>\n",
              "</table>\n",
              "</div>"
            ],
            "text/plain": [
              "  area_name  count_emp\n",
              "0    Россия        410"
            ]
          },
          "execution_count": 25,
          "metadata": {},
          "output_type": "execute_result"
        }
      ],
      "source": [
        "# результат запроса\n",
        "df_5_2 = pd.read_sql_query(query_5_2, connection)\n",
        "df_5_2"
      ]
    },
    {
      "cell_type": "markdown",
      "metadata": {},
      "source": [
        "Выводы: регион, имеющий наибольшее количество работодателей (410) без вакансий - Россия"
      ]
    },
    {
      "cell_type": "markdown",
      "metadata": {},
      "source": [
        "3. Для каждого работодателя посчитайте количество регионов, в которых он публикует свои вакансии."
      ]
    },
    {
      "cell_type": "code",
      "execution_count": 26,
      "id": "6271f8ad-bd2e-4196-ae4a-5b39c4c1010e",
      "metadata": {
        "id": "6271f8ad-bd2e-4196-ae4a-5b39c4c1010e"
      },
      "outputs": [],
      "source": [
        "# текст запроса\n",
        "query_5_3 = f'''\n",
        "SELECT e.name as emp_name, COUNT(DISTINCT v.area_id) as count_area -- вывод работодателей и количество регионов\n",
        "  FROM employers as e\n",
        "  JOIN vacancies as v -- соединяем с таблицей вакансий по id работодателя\n",
        "    ON v.employer_id = e.id\n",
        "  GROUP BY e.id -- группируем по id работодателя\n",
        "  ORDER BY COUNT(v.area_id) DESC -- сортируем по убыванию по количеству регионов\n",
        "'''"
      ]
    },
    {
      "cell_type": "code",
      "execution_count": 27,
      "id": "1EIvX3HasH4F",
      "metadata": {
        "id": "1EIvX3HasH4F"
      },
      "outputs": [
        {
          "name": "stderr",
          "output_type": "stream",
          "text": [
            "C:\\Users\\koshe\\AppData\\Local\\Temp\\ipykernel_16088\\133400711.py:2: UserWarning: pandas only supports SQLAlchemy connectable (engine/connection) or database string URI or sqlite3 DBAPI2 connection. Other DBAPI2 objects are not tested. Please consider using SQLAlchemy.\n",
            "  df_5_3 = pd.read_sql_query(query_5_3, connection)\n"
          ]
        },
        {
          "data": {
            "text/html": [
              "<div>\n",
              "<style scoped>\n",
              "    .dataframe tbody tr th:only-of-type {\n",
              "        vertical-align: middle;\n",
              "    }\n",
              "\n",
              "    .dataframe tbody tr th {\n",
              "        vertical-align: top;\n",
              "    }\n",
              "\n",
              "    .dataframe thead th {\n",
              "        text-align: right;\n",
              "    }\n",
              "</style>\n",
              "<table border=\"1\" class=\"dataframe\">\n",
              "  <thead>\n",
              "    <tr style=\"text-align: right;\">\n",
              "      <th></th>\n",
              "      <th>emp_name</th>\n",
              "      <th>count_area</th>\n",
              "    </tr>\n",
              "  </thead>\n",
              "  <tbody>\n",
              "    <tr>\n",
              "      <th>0</th>\n",
              "      <td>Яндекс</td>\n",
              "      <td>181</td>\n",
              "    </tr>\n",
              "    <tr>\n",
              "      <th>1</th>\n",
              "      <td>Ростелеком</td>\n",
              "      <td>152</td>\n",
              "    </tr>\n",
              "    <tr>\n",
              "      <th>2</th>\n",
              "      <td>Тинькофф</td>\n",
              "      <td>43</td>\n",
              "    </tr>\n",
              "    <tr>\n",
              "      <th>3</th>\n",
              "      <td>СБЕР</td>\n",
              "      <td>24</td>\n",
              "    </tr>\n",
              "    <tr>\n",
              "      <th>4</th>\n",
              "      <td>Газпром нефть</td>\n",
              "      <td>24</td>\n",
              "    </tr>\n",
              "    <tr>\n",
              "      <th>...</th>\n",
              "      <td>...</td>\n",
              "      <td>...</td>\n",
              "    </tr>\n",
              "    <tr>\n",
              "      <th>14901</th>\n",
              "      <td>Торговый Дом Петровский</td>\n",
              "      <td>1</td>\n",
              "    </tr>\n",
              "    <tr>\n",
              "      <th>14902</th>\n",
              "      <td>А2 Юнайтед</td>\n",
              "      <td>1</td>\n",
              "    </tr>\n",
              "    <tr>\n",
              "      <th>14903</th>\n",
              "      <td>ТСЦ Дровосек</td>\n",
              "      <td>1</td>\n",
              "    </tr>\n",
              "    <tr>\n",
              "      <th>14904</th>\n",
              "      <td>ПАВЛОДАРЭНЕРГО</td>\n",
              "      <td>1</td>\n",
              "    </tr>\n",
              "    <tr>\n",
              "      <th>14905</th>\n",
              "      <td>ЧЕТЫРЕ ЛАПЫ, Сеть зоомагазинов</td>\n",
              "      <td>1</td>\n",
              "    </tr>\n",
              "  </tbody>\n",
              "</table>\n",
              "<p>14906 rows × 2 columns</p>\n",
              "</div>"
            ],
            "text/plain": [
              "                             emp_name  count_area\n",
              "0                              Яндекс         181\n",
              "1                          Ростелеком         152\n",
              "2                            Тинькофф          43\n",
              "3                                СБЕР          24\n",
              "4                       Газпром нефть          24\n",
              "...                               ...         ...\n",
              "14901         Торговый Дом Петровский           1\n",
              "14902                      А2 Юнайтед           1\n",
              "14903                    ТСЦ Дровосек           1\n",
              "14904                  ПАВЛОДАРЭНЕРГО           1\n",
              "14905  ЧЕТЫРЕ ЛАПЫ, Сеть зоомагазинов           1\n",
              "\n",
              "[14906 rows x 2 columns]"
            ]
          },
          "execution_count": 27,
          "metadata": {},
          "output_type": "execute_result"
        }
      ],
      "source": [
        "# результат запроса\n",
        "df_5_3 = pd.read_sql_query(query_5_3, connection)\n",
        "df_5_3"
      ]
    },
    {
      "cell_type": "markdown",
      "metadata": {},
      "source": [
        "Выводы: распределение количества регионов работодателей, в которых он публикует свои вакансии соответствует распределению количества вакансий по работодалям. Чем больше ваканчий у работодателя, тем в большем количестве регионов он располагается"
      ]
    },
    {
      "cell_type": "markdown",
      "id": "eab2206d-d95b-468b-8e5f-34381abf0ce7",
      "metadata": {
        "id": "eab2206d-d95b-468b-8e5f-34381abf0ce7"
      },
      "source": [
        "4. Напишите запрос для подсчёта количества работодателей, у которых не указана сфера деятельности. "
      ]
    },
    {
      "cell_type": "code",
      "execution_count": 28,
      "id": "80defb23-bfb1-4a18-8be6-bf36aa7165d5",
      "metadata": {
        "id": "80defb23-bfb1-4a18-8be6-bf36aa7165d5"
      },
      "outputs": [],
      "source": [
        "# текст запроса\n",
        "query_5_4 = f'''\n",
        "SELECT COUNT(DISTINCT emp.id) -- выводим количество работодателей\n",
        "  FROM employers as emp\n",
        "  LEFT JOIN employers_industries as emp_ind  -- соединяем с таблицей сфер деятельности по id\n",
        "    ON emp_ind.employer_id = emp.id\n",
        "  WHERE emp_ind.industry_id IS NULL -- отбираем строки, в которых не заполнена сфера деятельности\n",
        "'''"
      ]
    },
    {
      "cell_type": "code",
      "execution_count": 29,
      "id": "Dp_yCx6ysQSu",
      "metadata": {
        "id": "Dp_yCx6ysQSu"
      },
      "outputs": [
        {
          "name": "stderr",
          "output_type": "stream",
          "text": [
            "C:\\Users\\koshe\\AppData\\Local\\Temp\\ipykernel_16088\\1045119256.py:2: UserWarning: pandas only supports SQLAlchemy connectable (engine/connection) or database string URI or sqlite3 DBAPI2 connection. Other DBAPI2 objects are not tested. Please consider using SQLAlchemy.\n",
            "  df_5_4 = pd.read_sql_query(query_5_4, connection)\n"
          ]
        },
        {
          "data": {
            "text/html": [
              "<div>\n",
              "<style scoped>\n",
              "    .dataframe tbody tr th:only-of-type {\n",
              "        vertical-align: middle;\n",
              "    }\n",
              "\n",
              "    .dataframe tbody tr th {\n",
              "        vertical-align: top;\n",
              "    }\n",
              "\n",
              "    .dataframe thead th {\n",
              "        text-align: right;\n",
              "    }\n",
              "</style>\n",
              "<table border=\"1\" class=\"dataframe\">\n",
              "  <thead>\n",
              "    <tr style=\"text-align: right;\">\n",
              "      <th></th>\n",
              "      <th>count</th>\n",
              "    </tr>\n",
              "  </thead>\n",
              "  <tbody>\n",
              "    <tr>\n",
              "      <th>0</th>\n",
              "      <td>8419</td>\n",
              "    </tr>\n",
              "  </tbody>\n",
              "</table>\n",
              "</div>"
            ],
            "text/plain": [
              "   count\n",
              "0   8419"
            ]
          },
          "execution_count": 29,
          "metadata": {},
          "output_type": "execute_result"
        }
      ],
      "source": [
        "# результат запроса\n",
        "df_5_4 = pd.read_sql_query(query_5_4, connection)\n",
        "df_5_4"
      ]
    },
    {
      "cell_type": "markdown",
      "metadata": {},
      "source": [
        "Вывод: количество работодателей, у которых не заполнена сфера деятельности 8.5 тыс. Это треть от всех работодателей, достаточно много. При просмотре вакансии кандидату сложно сделать выводы по вакансии, если не все ключевые поля заполнены."
      ]
    },
    {
      "cell_type": "markdown",
      "id": "0112af31-f6b0-4e3b-82ab-71296e752e5e",
      "metadata": {
        "id": "0112af31-f6b0-4e3b-82ab-71296e752e5e"
      },
      "source": [
        "5. Напишите запрос, чтобы узнать название компании, находящейся на третьем месте в алфавитном списке (по названию) компаний, у которых указано четыре сферы деятельности. "
      ]
    },
    {
      "cell_type": "code",
      "execution_count": 30,
      "id": "973b0cfc-a972-470a-8b4a-68744ef220c4",
      "metadata": {
        "id": "973b0cfc-a972-470a-8b4a-68744ef220c4"
      },
      "outputs": [],
      "source": [
        "# текст запроса\n",
        "query_5_5 = f'''\n",
        "\n",
        "SELECT emp.name as name_emp, COUNT(emp_ind.industry_id) as count_ind -- выводим компанию и количество сфер деятельности\n",
        "  FROM employers as emp\n",
        "  JOIN employers_industries as emp_ind -- просоединяем таблицу с сферами деятельности по id\n",
        "    ON emp_ind.employer_id = emp.id\n",
        "  GROUP BY emp.id -- группируем по id работодателей\n",
        "  HAVING COUNT(emp_ind.industry_id) = 4 -- отбираем строки, где 4 сферы указаны\n",
        "  ORDER BY emp.name -- сортируем по алфавиту\n",
        "  LIMIT 1 OFFSET 2 -- выводим элемент на третьем месте\n",
        "\n",
        "'''"
      ]
    },
    {
      "cell_type": "code",
      "execution_count": 31,
      "id": "xsPtpp8EsaED",
      "metadata": {
        "id": "xsPtpp8EsaED"
      },
      "outputs": [
        {
          "name": "stderr",
          "output_type": "stream",
          "text": [
            "C:\\Users\\koshe\\AppData\\Local\\Temp\\ipykernel_16088\\4025176131.py:2: UserWarning: pandas only supports SQLAlchemy connectable (engine/connection) or database string URI or sqlite3 DBAPI2 connection. Other DBAPI2 objects are not tested. Please consider using SQLAlchemy.\n",
            "  df_5_5 = pd.read_sql_query(query_5_5, connection)\n"
          ]
        },
        {
          "data": {
            "text/html": [
              "<div>\n",
              "<style scoped>\n",
              "    .dataframe tbody tr th:only-of-type {\n",
              "        vertical-align: middle;\n",
              "    }\n",
              "\n",
              "    .dataframe tbody tr th {\n",
              "        vertical-align: top;\n",
              "    }\n",
              "\n",
              "    .dataframe thead th {\n",
              "        text-align: right;\n",
              "    }\n",
              "</style>\n",
              "<table border=\"1\" class=\"dataframe\">\n",
              "  <thead>\n",
              "    <tr style=\"text-align: right;\">\n",
              "      <th></th>\n",
              "      <th>name_emp</th>\n",
              "      <th>count_ind</th>\n",
              "    </tr>\n",
              "  </thead>\n",
              "  <tbody>\n",
              "    <tr>\n",
              "      <th>0</th>\n",
              "      <td>2ГИС</td>\n",
              "      <td>4</td>\n",
              "    </tr>\n",
              "  </tbody>\n",
              "</table>\n",
              "</div>"
            ],
            "text/plain": [
              "  name_emp  count_ind\n",
              "0     2ГИС          4"
            ]
          },
          "execution_count": 31,
          "metadata": {},
          "output_type": "execute_result"
        }
      ],
      "source": [
        "# результат запроса\n",
        "df_5_5 = pd.read_sql_query(query_5_5, connection)\n",
        "df_5_5"
      ]
    },
    {
      "cell_type": "markdown",
      "metadata": {},
      "source": [
        "Выводы: компания, находящаяся на третьем месте с 4 сфера деятельности - 2ГИС"
      ]
    },
    {
      "cell_type": "markdown",
      "id": "3bfcfdaf-755d-4d2b-8ed8-326201dc07ab",
      "metadata": {
        "id": "3bfcfdaf-755d-4d2b-8ed8-326201dc07ab"
      },
      "source": [
        "6. С помощью запроса выясните, у какого количества работодателей в качестве сферы деятельности указана Разработка программного обеспечения.\n"
      ]
    },
    {
      "cell_type": "code",
      "execution_count": 32,
      "id": "ad3f270f-2991-47eb-929b-e8f88a55b0d1",
      "metadata": {
        "id": "ad3f270f-2991-47eb-929b-e8f88a55b0d1"
      },
      "outputs": [],
      "source": [
        "# текст запроса\n",
        "query_5_6 = f'''\n",
        "SELECT COUNT(DISTINCT emp.id) -- выводим количество работодателей\n",
        "  FROM employers as emp\n",
        "  JOIN employers_industries as emp_ind -- присоединяем таблицу со сферами деятельностей работодателей по id \n",
        "    ON emp_ind.employer_id = emp.id\n",
        "  JOIN industries as ind -- присоединяем таблицу со сферами деятельности по id\n",
        "    ON ind.id = emp_ind.industry_id\n",
        "   WHERE ind.name = 'Разработка программного обеспечения' -- оставляем строки, согласно условию\n",
        "'''"
      ]
    },
    {
      "cell_type": "code",
      "execution_count": 33,
      "id": "H72qxWM0shPR",
      "metadata": {
        "id": "H72qxWM0shPR"
      },
      "outputs": [
        {
          "name": "stderr",
          "output_type": "stream",
          "text": [
            "C:\\Users\\koshe\\AppData\\Local\\Temp\\ipykernel_16088\\2713946032.py:2: UserWarning: pandas only supports SQLAlchemy connectable (engine/connection) or database string URI or sqlite3 DBAPI2 connection. Other DBAPI2 objects are not tested. Please consider using SQLAlchemy.\n",
            "  df_5_6 = pd.read_sql_query(query_5_6, connection)\n"
          ]
        },
        {
          "data": {
            "text/html": [
              "<div>\n",
              "<style scoped>\n",
              "    .dataframe tbody tr th:only-of-type {\n",
              "        vertical-align: middle;\n",
              "    }\n",
              "\n",
              "    .dataframe tbody tr th {\n",
              "        vertical-align: top;\n",
              "    }\n",
              "\n",
              "    .dataframe thead th {\n",
              "        text-align: right;\n",
              "    }\n",
              "</style>\n",
              "<table border=\"1\" class=\"dataframe\">\n",
              "  <thead>\n",
              "    <tr style=\"text-align: right;\">\n",
              "      <th></th>\n",
              "      <th>count</th>\n",
              "    </tr>\n",
              "  </thead>\n",
              "  <tbody>\n",
              "    <tr>\n",
              "      <th>0</th>\n",
              "      <td>3553</td>\n",
              "    </tr>\n",
              "  </tbody>\n",
              "</table>\n",
              "</div>"
            ],
            "text/plain": [
              "   count\n",
              "0   3553"
            ]
          },
          "execution_count": 33,
          "metadata": {},
          "output_type": "execute_result"
        }
      ],
      "source": [
        "# результат запроса\n",
        "df_5_6 = pd.read_sql_query(query_5_6, connection)\n",
        "df_5_6"
      ]
    },
    {
      "cell_type": "markdown",
      "metadata": {},
      "source": [
        "Выводы: количество работодателей со сферой деятельности 'Разработка программного обеспечения' - 3553. Т.е. у примерно 15% есть указана эта сфера деятельности."
      ]
    },
    {
      "cell_type": "markdown",
      "id": "7b02bb86-0546-40fb-94a4-242f050a5c57",
      "metadata": {
        "id": "7b02bb86-0546-40fb-94a4-242f050a5c57"
      },
      "source": [
        "7. Для компании «Яндекс» выведите список регионов-миллионников, в которых представлены вакансии компании, вместе с количеством вакансий в этих регионах. Также добавьте строку Total с общим количеством вакансий компании. Результат отсортируйте по возрастанию количества.\n",
        "\n",
        "Список городов-милионников надо взять [отсюда](https://ru.wikipedia.org/wiki/%D0%93%D0%BE%D1%80%D0%BE%D0%B4%D0%B0-%D0%BC%D0%B8%D0%BB%D0%BB%D0%B8%D0%BE%D0%BD%D0%B5%D1%80%D1%8B_%D0%A0%D0%BE%D1%81%D1%81%D0%B8%D0%B8). \n",
        "\n",
        "Если возникнут трудности с этим задание посмотрите материалы модуля  PYTHON-17. Как получать данные из веб-источников и API. "
      ]
    },
    {
      "cell_type": "code",
      "execution_count": 34,
      "id": "ZdfrL6gIs1Pn",
      "metadata": {
        "id": "ZdfrL6gIs1Pn"
      },
      "outputs": [],
      "source": [
        "# код для получения списка городов-милионников\n",
        "# Инициализируем url источника\n",
        "url = r\"https://ru.wikipedia.org/wiki/%D0%93%D0%BE%D1%80%D0%BE%D0%B4%D0%B0-%D0%BC%D0%B8%D0%BB%D0%BB%D0%B8%D0%BE%D0%BD%D0%B5%D1%80%D1%8B_%D0%A0%D0%BE%D1%81%D1%81%D0%B8%D0%B8\" # Задаём адрес ресурса\n",
        "# с помощью функции пандас считываем html таблицу, переводим столбец Город в кортеж\n",
        "list_city_mln = tuple(pd.read_html(url)[1]['Город'])"
      ]
    },
    {
      "cell_type": "code",
      "execution_count": 35,
      "id": "5a0e32a4-e68a-4365-8a39-2fe24c542c36",
      "metadata": {
        "id": "5a0e32a4-e68a-4365-8a39-2fe24c542c36"
      },
      "outputs": [],
      "source": [
        "# текст запроса\n",
        "query_5_7 = f'''\n",
        "WITH temp AS -- формируем таблицу\n",
        "(\n",
        "  SELECT a.name as name_area, count(v.id) as cnt -- выводим название региона и количество вакансий\n",
        "    FROM vacancies as v\n",
        "    JOIN employers as emp -- присоединияем таблицу работодателей по id\n",
        "      ON emp.id = v.employer_id \n",
        "    JOIN areas as a -- присоединяем таблицу регионов по id\n",
        "      ON a.id = v.area_id \n",
        "    WHERE emp.name = 'Яндекс' and a.name in {list_city_mln} -- фильтруем по работодателю и регионам\n",
        "    GROUP BY a.id -- группируем по наименованию региона\n",
        "    ORDER BY count(v.id) -- сортируем по количеству в порядке возрастания\n",
        ")\n",
        "SELECT * -- выводим таблицу temp\n",
        "FROM temp\n",
        "UNION ALL \n",
        "SELECT 'Total', sum(cnt)  FROM temp -- добавляем строку с total (формируя ее из таблицы temp)\n",
        "'''"
      ]
    },
    {
      "cell_type": "code",
      "execution_count": 36,
      "id": "ttPhiO1rsvPq",
      "metadata": {
        "id": "ttPhiO1rsvPq"
      },
      "outputs": [
        {
          "name": "stderr",
          "output_type": "stream",
          "text": [
            "C:\\Users\\koshe\\AppData\\Local\\Temp\\ipykernel_16088\\2595257991.py:2: UserWarning: pandas only supports SQLAlchemy connectable (engine/connection) or database string URI or sqlite3 DBAPI2 connection. Other DBAPI2 objects are not tested. Please consider using SQLAlchemy.\n",
            "  df_5_7 = pd.read_sql_query(query_5_7, connection)\n"
          ]
        },
        {
          "data": {
            "text/html": [
              "<div>\n",
              "<style scoped>\n",
              "    .dataframe tbody tr th:only-of-type {\n",
              "        vertical-align: middle;\n",
              "    }\n",
              "\n",
              "    .dataframe tbody tr th {\n",
              "        vertical-align: top;\n",
              "    }\n",
              "\n",
              "    .dataframe thead th {\n",
              "        text-align: right;\n",
              "    }\n",
              "</style>\n",
              "<table border=\"1\" class=\"dataframe\">\n",
              "  <thead>\n",
              "    <tr style=\"text-align: right;\">\n",
              "      <th></th>\n",
              "      <th>name_area</th>\n",
              "      <th>cnt</th>\n",
              "    </tr>\n",
              "  </thead>\n",
              "  <tbody>\n",
              "    <tr>\n",
              "      <th>0</th>\n",
              "      <td>Омск</td>\n",
              "      <td>21.0</td>\n",
              "    </tr>\n",
              "    <tr>\n",
              "      <th>1</th>\n",
              "      <td>Челябинск</td>\n",
              "      <td>22.0</td>\n",
              "    </tr>\n",
              "    <tr>\n",
              "      <th>2</th>\n",
              "      <td>Красноярск</td>\n",
              "      <td>23.0</td>\n",
              "    </tr>\n",
              "    <tr>\n",
              "      <th>3</th>\n",
              "      <td>Волгоград</td>\n",
              "      <td>24.0</td>\n",
              "    </tr>\n",
              "    <tr>\n",
              "      <th>4</th>\n",
              "      <td>Ростов-на-Дону</td>\n",
              "      <td>25.0</td>\n",
              "    </tr>\n",
              "    <tr>\n",
              "      <th>5</th>\n",
              "      <td>Казань</td>\n",
              "      <td>25.0</td>\n",
              "    </tr>\n",
              "    <tr>\n",
              "      <th>6</th>\n",
              "      <td>Пермь</td>\n",
              "      <td>25.0</td>\n",
              "    </tr>\n",
              "    <tr>\n",
              "      <th>7</th>\n",
              "      <td>Самара</td>\n",
              "      <td>26.0</td>\n",
              "    </tr>\n",
              "    <tr>\n",
              "      <th>8</th>\n",
              "      <td>Уфа</td>\n",
              "      <td>26.0</td>\n",
              "    </tr>\n",
              "    <tr>\n",
              "      <th>9</th>\n",
              "      <td>Краснодар</td>\n",
              "      <td>30.0</td>\n",
              "    </tr>\n",
              "    <tr>\n",
              "      <th>10</th>\n",
              "      <td>Воронеж</td>\n",
              "      <td>32.0</td>\n",
              "    </tr>\n",
              "    <tr>\n",
              "      <th>11</th>\n",
              "      <td>Новосибирск</td>\n",
              "      <td>35.0</td>\n",
              "    </tr>\n",
              "    <tr>\n",
              "      <th>12</th>\n",
              "      <td>Нижний Новгород</td>\n",
              "      <td>36.0</td>\n",
              "    </tr>\n",
              "    <tr>\n",
              "      <th>13</th>\n",
              "      <td>Екатеринбург</td>\n",
              "      <td>39.0</td>\n",
              "    </tr>\n",
              "    <tr>\n",
              "      <th>14</th>\n",
              "      <td>Санкт-Петербург</td>\n",
              "      <td>42.0</td>\n",
              "    </tr>\n",
              "    <tr>\n",
              "      <th>15</th>\n",
              "      <td>Москва</td>\n",
              "      <td>54.0</td>\n",
              "    </tr>\n",
              "    <tr>\n",
              "      <th>16</th>\n",
              "      <td>Total</td>\n",
              "      <td>485.0</td>\n",
              "    </tr>\n",
              "  </tbody>\n",
              "</table>\n",
              "</div>"
            ],
            "text/plain": [
              "          name_area    cnt\n",
              "0              Омск   21.0\n",
              "1         Челябинск   22.0\n",
              "2        Красноярск   23.0\n",
              "3         Волгоград   24.0\n",
              "4    Ростов-на-Дону   25.0\n",
              "5            Казань   25.0\n",
              "6             Пермь   25.0\n",
              "7            Самара   26.0\n",
              "8               Уфа   26.0\n",
              "9         Краснодар   30.0\n",
              "10          Воронеж   32.0\n",
              "11      Новосибирск   35.0\n",
              "12  Нижний Новгород   36.0\n",
              "13     Екатеринбург   39.0\n",
              "14  Санкт-Петербург   42.0\n",
              "15           Москва   54.0\n",
              "16            Total  485.0"
            ]
          },
          "execution_count": 36,
          "metadata": {},
          "output_type": "execute_result"
        }
      ],
      "source": [
        "# результат запроса\n",
        "df_5_7 = pd.read_sql_query(query_5_7, connection)\n",
        "df_5_7"
      ]
    },
    {
      "cell_type": "markdown",
      "metadata": {},
      "source": [
        "Выводы: общее количество вакансий Яндекса по регионам-миллионникам равно 485, что составляет 1% от всех имеющихся вакансий. \n",
        "Наибольшее количество ваканчий числится в больших городах - Москва, Санкт-Петербург."
      ]
    },
    {
      "cell_type": "markdown",
      "id": "04966e40-3bc3-4dc8-9ba2-e80580ce3abc",
      "metadata": {
        "id": "04966e40-3bc3-4dc8-9ba2-e80580ce3abc"
      },
      "source": [
        "***"
      ]
    },
    {
      "cell_type": "markdown",
      "metadata": {},
      "source": [
        "Выводы по анализу работодателей:\n",
        "1. первое и пятое место по количеству ваканчий занимают Яндекс и Газпром нефть, соответственно. Также наибольшее количество вакансий имеют банки (Сбер, Тинькофф)\n",
        "2. Выводы: регион, имеющий наибольшее количество работодателей (410) без вакансий - Россия\n",
        "3. распределение количества регионов работодателей, в которых он публикует свои вакансии соответствует распределению количества вакансий по работодалям. Чем больше ваканчий у работодателя, тем в большем количестве регионов он располагается\n",
        "4. количество работодателей, у которых не заполнена сфера деятельности 8.5 тыс. Это треть от всех работодателей, достаточно много. При просмотре ваканчии кандидату сложно сделать выводы по вакансии, если не все ключевые поля заполнены.\n",
        "5. компания, находящаяся на третьем месте с 4 сфера деятельности - 2ГИС\n",
        "6. количество работодателей со сферой деятельности 'Разработка программного обеспечения' - 3553. Т.е. у примерно 15% есть указана эта сфера деятельности.\n",
        "7. общее количество вакансий Яндекса по регионам-миллионникам равно 485, что составляет 1% от всех имеющихся вакансий. \n",
        "Наибольшее количество ваканчий числится в больших городах - Москва, Санкт-Петербург."
      ]
    },
    {
      "cell_type": "markdown",
      "id": "b1ef156a-efcb-49ce-bb23-90763e7f35b2",
      "metadata": {
        "id": "b1ef156a-efcb-49ce-bb23-90763e7f35b2",
        "tags": []
      },
      "source": [
        "# Юнит 6. Предметный анализ"
      ]
    },
    {
      "cell_type": "markdown",
      "id": "b9cd50a0-992d-4988-8463-2b2b1c4629b4",
      "metadata": {
        "id": "b9cd50a0-992d-4988-8463-2b2b1c4629b4"
      },
      "source": [
        "1. Сколько вакансий имеет отношение к данным?\n",
        "\n",
        "Считаем, что вакансия имеет отношение к данным, если в её названии содержатся слова 'data' или 'данн'.\n",
        "\n",
        "*Подсказка: Обратите внимание, что названия вакансий могут быть написаны в любом регистре.* \n"
      ]
    },
    {
      "cell_type": "code",
      "execution_count": 37,
      "id": "54ab0e50-c0f1-47cc-a54b-bc5c8bc363f9",
      "metadata": {
        "id": "54ab0e50-c0f1-47cc-a54b-bc5c8bc363f9"
      },
      "outputs": [],
      "source": [
        "# текст запроса\n",
        "query_6_1 = f'''\n",
        "SELECT COUNT(lower(v.name)) -- выводим количество наименований вакансий\n",
        "  FROM vacancies as v\n",
        "  WHERE lower(v.name) LIKE '%data%' or lower(v.name) LIKE '%данн%' -- производим отбор, согласно условию\n",
        "'''"
      ]
    },
    {
      "cell_type": "code",
      "execution_count": 38,
      "id": "9F1meAqsuUjd",
      "metadata": {
        "id": "9F1meAqsuUjd"
      },
      "outputs": [
        {
          "name": "stderr",
          "output_type": "stream",
          "text": [
            "C:\\Users\\koshe\\AppData\\Local\\Temp\\ipykernel_16088\\1281472032.py:2: UserWarning: pandas only supports SQLAlchemy connectable (engine/connection) or database string URI or sqlite3 DBAPI2 connection. Other DBAPI2 objects are not tested. Please consider using SQLAlchemy.\n",
            "  df_6_1 = pd.read_sql_query(query_6_1, connection)\n"
          ]
        },
        {
          "data": {
            "text/html": [
              "<div>\n",
              "<style scoped>\n",
              "    .dataframe tbody tr th:only-of-type {\n",
              "        vertical-align: middle;\n",
              "    }\n",
              "\n",
              "    .dataframe tbody tr th {\n",
              "        vertical-align: top;\n",
              "    }\n",
              "\n",
              "    .dataframe thead th {\n",
              "        text-align: right;\n",
              "    }\n",
              "</style>\n",
              "<table border=\"1\" class=\"dataframe\">\n",
              "  <thead>\n",
              "    <tr style=\"text-align: right;\">\n",
              "      <th></th>\n",
              "      <th>count</th>\n",
              "    </tr>\n",
              "  </thead>\n",
              "  <tbody>\n",
              "    <tr>\n",
              "      <th>0</th>\n",
              "      <td>1771</td>\n",
              "    </tr>\n",
              "  </tbody>\n",
              "</table>\n",
              "</div>"
            ],
            "text/plain": [
              "   count\n",
              "0   1771"
            ]
          },
          "execution_count": 38,
          "metadata": {},
          "output_type": "execute_result"
        }
      ],
      "source": [
        "# результат запроса\n",
        "df_6_1 = pd.read_sql_query(query_6_1, connection)\n",
        "df_6_1"
      ]
    },
    {
      "cell_type": "markdown",
      "metadata": {},
      "source": [
        "Вывод: количество вакансий, относящихся к данным 1771. Это 3% от всех имеющихся вакансий"
      ]
    },
    {
      "cell_type": "markdown",
      "id": "4dea20cb-a36b-474a-a0b9-e08e8e3857a5",
      "metadata": {
        "id": "4dea20cb-a36b-474a-a0b9-e08e8e3857a5"
      },
      "source": [
        "2. Сколько есть подходящих вакансий для начинающего дата-сайентиста? \n",
        "Будем считать вакансиями для дата-сайентистов такие, в названии которых есть хотя бы одно из следующих сочетаний:\n",
        "* 'data scientist'\n",
        "* 'data science'\n",
        "* 'исследователь данных'\n",
        "* 'ML' (здесь не нужно брать вакансии по HTML)\n",
        "* 'machine learning'\n",
        "* 'машинн%обучен%'\n",
        "\n",
        "** В следующих заданиях мы продолжим работать с вакансиями по этому условию.*\n",
        "\n",
        "Считаем вакансиями для специалистов уровня Junior следующие:\n",
        "* в названии есть слово 'junior' *или*\n",
        "* требуемый опыт — Нет опыта *или*\n",
        "* тип трудоустройства — Стажировка.\n",
        " "
      ]
    },
    {
      "cell_type": "code",
      "execution_count": 39,
      "id": "9c61b3c0-bb66-46c9-ae1e-81d3f5752b4a",
      "metadata": {
        "id": "9c61b3c0-bb66-46c9-ae1e-81d3f5752b4a"
      },
      "outputs": [],
      "source": [
        "# текст запроса\n",
        "query_6_2 = f'''\n",
        "SELECT COUNT(lower(v.name)) -- выводим количество наименований вакансий\n",
        "  FROM vacancies as v\n",
        "  WHERE  -- производим отбор, согласно условию в задании\n",
        "    ( lower(v.name) LIKE lower('%data scientist%')\n",
        "    or lower(v.name) LIKE lower('%data science%')\n",
        "    or lower(v.name) LIKE lower('%исследователь данных%') \n",
        "    or (lower(v.name) LIKE lower('%ML%') and lower(v.name) NOT LIKE lower('%HTML%') )\n",
        "    or lower(v.name) LIKE lower('%machine learning%')\n",
        "    or lower(v.name) LIKE lower('%машинн%обучен%'))\n",
        "    and (lower(v.name) LIKE lower('%junior%')\n",
        "    or lower(v.experience) LIKE lower('%Нет опыта%') \n",
        "    or lower(v.employment) LIKE lower('%Стажировка%'))\n",
        "'''"
      ]
    },
    {
      "cell_type": "code",
      "execution_count": 40,
      "id": "ZNM-LLYuu1dj",
      "metadata": {
        "id": "ZNM-LLYuu1dj"
      },
      "outputs": [
        {
          "name": "stderr",
          "output_type": "stream",
          "text": [
            "C:\\Users\\koshe\\AppData\\Local\\Temp\\ipykernel_16088\\118162426.py:2: UserWarning: pandas only supports SQLAlchemy connectable (engine/connection) or database string URI or sqlite3 DBAPI2 connection. Other DBAPI2 objects are not tested. Please consider using SQLAlchemy.\n",
            "  df_6_2 = pd.read_sql_query(query_6_2, connection)\n"
          ]
        },
        {
          "data": {
            "text/html": [
              "<div>\n",
              "<style scoped>\n",
              "    .dataframe tbody tr th:only-of-type {\n",
              "        vertical-align: middle;\n",
              "    }\n",
              "\n",
              "    .dataframe tbody tr th {\n",
              "        vertical-align: top;\n",
              "    }\n",
              "\n",
              "    .dataframe thead th {\n",
              "        text-align: right;\n",
              "    }\n",
              "</style>\n",
              "<table border=\"1\" class=\"dataframe\">\n",
              "  <thead>\n",
              "    <tr style=\"text-align: right;\">\n",
              "      <th></th>\n",
              "      <th>count</th>\n",
              "    </tr>\n",
              "  </thead>\n",
              "  <tbody>\n",
              "    <tr>\n",
              "      <th>0</th>\n",
              "      <td>51</td>\n",
              "    </tr>\n",
              "  </tbody>\n",
              "</table>\n",
              "</div>"
            ],
            "text/plain": [
              "   count\n",
              "0     51"
            ]
          },
          "execution_count": 40,
          "metadata": {},
          "output_type": "execute_result"
        }
      ],
      "source": [
        "# результат запроса\n",
        "df_6_2 = pd.read_sql_query(query_6_2, connection)\n",
        "df_6_2"
      ]
    },
    {
      "cell_type": "markdown",
      "metadata": {},
      "source": [
        "Вывод: количество вакансий по DS для новичка - 51, что составляет 0.1% от всех имеющихся вакансий"
      ]
    },
    {
      "cell_type": "markdown",
      "id": "eedceb80-c5ca-480e-b27a-278dfb8b4438",
      "metadata": {
        "id": "eedceb80-c5ca-480e-b27a-278dfb8b4438"
      },
      "source": [
        "3. Сколько есть вакансий для DS, в которых в качестве ключевого навыка указан SQL или postgres?\n",
        "\n",
        "** Критерии для отнесения вакансии к DS указаны в предыдущем задании.*"
      ]
    },
    {
      "cell_type": "code",
      "execution_count": 41,
      "id": "69621713-0cc5-4f1b-a1d7-bb144fa6148c",
      "metadata": {
        "id": "69621713-0cc5-4f1b-a1d7-bb144fa6148c"
      },
      "outputs": [],
      "source": [
        "# текст запроса\n",
        "query_6_3 = f'''\n",
        "\n",
        "SELECT COUNT(lower(v.name)) -- выводим количество наименований вакансий\n",
        "FROM vacancies as v\n",
        "  WHERE -- производим отбор, согласно условию задания\n",
        "    ( lower(v.name) LIKE lower('%data scientist%')\n",
        "    or lower(v.name) LIKE lower('%data science%')\n",
        "    or lower(v.name) LIKE lower('%исследователь данных%') \n",
        "    or (v.name LIKE upper('%ML%') and v.name NOT LIKE '%HTML%')\n",
        "    or lower(v.name) LIKE lower('%machine learning%')\n",
        "    or lower(v.name) LIKE lower('%машинн%обучен%'))\n",
        "    and v.key_skills is not null\n",
        "    and (lower(v.key_skills) LIKE lower('%SQL%') or lower(v.key_skills) LIKE lower('%postgres%'))\n",
        "'''"
      ]
    },
    {
      "cell_type": "code",
      "execution_count": 42,
      "id": "alA8WEAAvGdf",
      "metadata": {
        "id": "alA8WEAAvGdf"
      },
      "outputs": [
        {
          "name": "stderr",
          "output_type": "stream",
          "text": [
            "C:\\Users\\koshe\\AppData\\Local\\Temp\\ipykernel_16088\\3310962512.py:2: UserWarning: pandas only supports SQLAlchemy connectable (engine/connection) or database string URI or sqlite3 DBAPI2 connection. Other DBAPI2 objects are not tested. Please consider using SQLAlchemy.\n",
            "  df_6_3 = pd.read_sql_query(query_6_3, connection)\n"
          ]
        },
        {
          "data": {
            "text/html": [
              "<div>\n",
              "<style scoped>\n",
              "    .dataframe tbody tr th:only-of-type {\n",
              "        vertical-align: middle;\n",
              "    }\n",
              "\n",
              "    .dataframe tbody tr th {\n",
              "        vertical-align: top;\n",
              "    }\n",
              "\n",
              "    .dataframe thead th {\n",
              "        text-align: right;\n",
              "    }\n",
              "</style>\n",
              "<table border=\"1\" class=\"dataframe\">\n",
              "  <thead>\n",
              "    <tr style=\"text-align: right;\">\n",
              "      <th></th>\n",
              "      <th>count</th>\n",
              "    </tr>\n",
              "  </thead>\n",
              "  <tbody>\n",
              "    <tr>\n",
              "      <th>0</th>\n",
              "      <td>201</td>\n",
              "    </tr>\n",
              "  </tbody>\n",
              "</table>\n",
              "</div>"
            ],
            "text/plain": [
              "   count\n",
              "0    201"
            ]
          },
          "execution_count": 42,
          "metadata": {},
          "output_type": "execute_result"
        }
      ],
      "source": [
        "# результат запроса\n",
        "df_6_3 = pd.read_sql_query(query_6_3, connection)\n",
        "df_6_3"
      ]
    },
    {
      "cell_type": "markdown",
      "metadata": {},
      "source": [
        "Вывод: количество вакансия по DS, где навыком указан SQL или postgres - 201, что составляет 0.4% от всех вакансий"
      ]
    },
    {
      "cell_type": "markdown",
      "id": "1be1e9c6-37cf-4a5f-bfeb-04cab799dc80",
      "metadata": {
        "id": "1be1e9c6-37cf-4a5f-bfeb-04cab799dc80"
      },
      "source": [
        "4. Проверьте, насколько популярен Python в требованиях работодателей к DS.Для этого вычислите количество вакансий, в которых в качестве ключевого навыка указан Python.\n",
        "\n",
        "** Это можно сделать помощью запроса, аналогичного предыдущему.*"
      ]
    },
    {
      "cell_type": "code",
      "execution_count": 43,
      "id": "0036a355-9ccf-4564-8b01-73d8194297e7",
      "metadata": {
        "id": "0036a355-9ccf-4564-8b01-73d8194297e7"
      },
      "outputs": [],
      "source": [
        "# текст запроса\n",
        "query_6_4 = f'''\n",
        "SELECT COUNT(lower(v.name)) -- выводим количество наименований вакансий\n",
        "FROM vacancies as v \n",
        "  WHERE -- производим отбор, согласно условию задания\n",
        "    ( lower(v.name) LIKE lower('%data scientist%')\n",
        "    or lower(v.name) LIKE lower('%data science%')\n",
        "    or lower(v.name) LIKE lower('%исследователь данных%') \n",
        "    or (v.name LIKE upper('%ML%') and v.name NOT LIKE '%HTML%')\n",
        "    or lower(v.name) LIKE lower('%machine learning%')\n",
        "    or lower(v.name) LIKE lower('%машинн%обучен%'))\n",
        "    and v.key_skills is not null\n",
        "    and lower(v.key_skills) LIKE lower('%Python%')\n",
        "'''"
      ]
    },
    {
      "cell_type": "code",
      "execution_count": 44,
      "id": "1i-5WyucvQ6v",
      "metadata": {
        "id": "1i-5WyucvQ6v"
      },
      "outputs": [
        {
          "name": "stderr",
          "output_type": "stream",
          "text": [
            "C:\\Users\\koshe\\AppData\\Local\\Temp\\ipykernel_16088\\614304167.py:2: UserWarning: pandas only supports SQLAlchemy connectable (engine/connection) or database string URI or sqlite3 DBAPI2 connection. Other DBAPI2 objects are not tested. Please consider using SQLAlchemy.\n",
            "  df_6_4 = pd.read_sql_query(query_6_4, connection)\n"
          ]
        },
        {
          "data": {
            "text/html": [
              "<div>\n",
              "<style scoped>\n",
              "    .dataframe tbody tr th:only-of-type {\n",
              "        vertical-align: middle;\n",
              "    }\n",
              "\n",
              "    .dataframe tbody tr th {\n",
              "        vertical-align: top;\n",
              "    }\n",
              "\n",
              "    .dataframe thead th {\n",
              "        text-align: right;\n",
              "    }\n",
              "</style>\n",
              "<table border=\"1\" class=\"dataframe\">\n",
              "  <thead>\n",
              "    <tr style=\"text-align: right;\">\n",
              "      <th></th>\n",
              "      <th>count</th>\n",
              "    </tr>\n",
              "  </thead>\n",
              "  <tbody>\n",
              "    <tr>\n",
              "      <th>0</th>\n",
              "      <td>351</td>\n",
              "    </tr>\n",
              "  </tbody>\n",
              "</table>\n",
              "</div>"
            ],
            "text/plain": [
              "   count\n",
              "0    351"
            ]
          },
          "execution_count": 44,
          "metadata": {},
          "output_type": "execute_result"
        }
      ],
      "source": [
        "# результат запроса\n",
        "df_6_4 = pd.read_sql_query(query_6_4, connection)\n",
        "df_6_4"
      ]
    },
    {
      "cell_type": "markdown",
      "metadata": {},
      "source": [
        "Вывод: количество вакансия по DS, где навыком указан SQL или postgres - 351, что составляет 0.7% от всех вакансий. Можно сделать вывод, что знание Питона для DS требуется чаще, чем знание SQL"
      ]
    },
    {
      "cell_type": "markdown",
      "id": "ec3c8db7-fa21-4a41-a994-1af63742a642",
      "metadata": {
        "id": "ec3c8db7-fa21-4a41-a994-1af63742a642"
      },
      "source": [
        "5. Сколько ключевых навыков в среднем указывают в вакансиях для DS?\n",
        "Ответ округлите до двух знаков после точки-разделителя."
      ]
    },
    {
      "cell_type": "code",
      "execution_count": 45,
      "id": "949132bc-d5b6-4611-8218-0b9a504d74f4",
      "metadata": {
        "id": "949132bc-d5b6-4611-8218-0b9a504d74f4"
      },
      "outputs": [],
      "source": [
        "# текст запроса\n",
        "query_6_5 = f'''\n",
        "SELECT  -- определяем среднее количество навыков в вакансиях\n",
        "    round(AVG(length(v.key_skills) - length(replace(v.key_skills,{'CHR(9)'}, '')) + 1),2)\n",
        "  FROM vacancies as v\n",
        "  WHERE -- отбираем, согласно условию задачи\n",
        "    ( lower(v.name) LIKE lower('%data scientist%')\n",
        "    or lower(v.name) LIKE lower('%data science%')\n",
        "    or lower(v.name) LIKE lower('%исследователь данных%') \n",
        "    or (v.name LIKE upper('%ML%') and v.name NOT LIKE '%HTML%')\n",
        "    or lower(v.name) LIKE lower('%machine learning%')\n",
        "    or lower(v.name) LIKE lower('%машинн%обучен%'))\n",
        "    and v.key_skills is not null\n",
        "'''"
      ]
    },
    {
      "cell_type": "code",
      "execution_count": 46,
      "id": "a3V24Tvmviqk",
      "metadata": {
        "id": "a3V24Tvmviqk"
      },
      "outputs": [
        {
          "name": "stderr",
          "output_type": "stream",
          "text": [
            "C:\\Users\\koshe\\AppData\\Local\\Temp\\ipykernel_16088\\4089566367.py:2: UserWarning: pandas only supports SQLAlchemy connectable (engine/connection) or database string URI or sqlite3 DBAPI2 connection. Other DBAPI2 objects are not tested. Please consider using SQLAlchemy.\n",
            "  df_6_5 = pd.read_sql_query(query_6_5, connection)\n"
          ]
        },
        {
          "data": {
            "text/html": [
              "<div>\n",
              "<style scoped>\n",
              "    .dataframe tbody tr th:only-of-type {\n",
              "        vertical-align: middle;\n",
              "    }\n",
              "\n",
              "    .dataframe tbody tr th {\n",
              "        vertical-align: top;\n",
              "    }\n",
              "\n",
              "    .dataframe thead th {\n",
              "        text-align: right;\n",
              "    }\n",
              "</style>\n",
              "<table border=\"1\" class=\"dataframe\">\n",
              "  <thead>\n",
              "    <tr style=\"text-align: right;\">\n",
              "      <th></th>\n",
              "      <th>round</th>\n",
              "    </tr>\n",
              "  </thead>\n",
              "  <tbody>\n",
              "    <tr>\n",
              "      <th>0</th>\n",
              "      <td>6.41</td>\n",
              "    </tr>\n",
              "  </tbody>\n",
              "</table>\n",
              "</div>"
            ],
            "text/plain": [
              "   round\n",
              "0   6.41"
            ]
          },
          "execution_count": 46,
          "metadata": {},
          "output_type": "execute_result"
        }
      ],
      "source": [
        "# результат запроса\n",
        "df_6_5 = pd.read_sql_query(query_6_5, connection)\n",
        "df_6_5"
      ]
    },
    {
      "cell_type": "markdown",
      "metadata": {},
      "source": [
        "Вывод: в среднем для ваканчии DS указывается по 6 навыков"
      ]
    },
    {
      "cell_type": "markdown",
      "id": "1041c17a-ca8f-4543-a0ca-32778914fb00",
      "metadata": {
        "id": "1041c17a-ca8f-4543-a0ca-32778914fb00"
      },
      "source": [
        "6. Напишите запрос, позволяющий вычислить, какую зарплату для DS в **среднем** указывают для каждого типа требуемого опыта (уникальное значение из поля *experience*). \n",
        "\n",
        "При решении задачи примите во внимание следующее:\n",
        "1. Рассматриваем только вакансии, у которых заполнено хотя бы одно из двух полей с зарплатой.\n",
        "2. Если заполнены оба поля с зарплатой, то считаем зарплату по каждой вакансии как сумму двух полей, делённую на 2. Если заполнено только одно из полей, то его и считаем зарплатой по вакансии.\n",
        "3. Если в расчётах участвует null, в результате он тоже даст null (посмотрите, что возвращает запрос select 1 + null). Чтобы избежать этой ситуацию, мы воспользуемся функцией [coalesce](https://postgrespro.ru/docs/postgresql/9.5/functions-conditional#functions-coalesce-nvl-ifnull), которая заменит null на значение, которое мы передадим. Например, посмотрите, что возвращает запрос `select 1 + coalesce(null, 0)`\n",
        "\n",
        "Выясните, на какую зарплату в среднем может рассчитывать дата-сайентист с опытом работы от 3 до 6 лет. Результат округлите до целого числа. "
      ]
    },
    {
      "cell_type": "code",
      "execution_count": 47,
      "id": "6a743d39-5204-48d3-8271-b9f88e68d40e",
      "metadata": {
        "id": "6a743d39-5204-48d3-8271-b9f88e68d40e"
      },
      "outputs": [],
      "source": [
        "# текст запроса\n",
        "query_6_6 = f'''\n",
        "SELECT  -- выводим опыт работы и среднюю ЗП\n",
        "    v.experience, round(AVG(coalesce((v.salary_from + v.salary_to) / 2, v.salary_from, v.salary_to)), 0)\n",
        "  FROM vacancies as v\n",
        "  WHERE -- делаем отбор, согласно условию задачи\n",
        "    ( lower(v.name) LIKE lower('%data scientist%')\n",
        "    or lower(v.name) LIKE lower('%data science%')\n",
        "    or lower(v.name) LIKE lower('%исследователь данных%') \n",
        "    or (v.name LIKE upper('%ML%') and v.name NOT LIKE '%HTML%')\n",
        "    or lower(v.name) LIKE lower('%machine learning%')\n",
        "    or lower(v.name) LIKE lower('%машинн%обучен%'))\n",
        "    and (v.salary_from is not null or v.salary_to is not null)\n",
        "  GROUP BY v.experience -- группируем по опыту работы\n",
        "'''"
      ]
    },
    {
      "cell_type": "code",
      "execution_count": 48,
      "id": "aRIJ0mZEwU1_",
      "metadata": {
        "id": "aRIJ0mZEwU1_"
      },
      "outputs": [
        {
          "name": "stderr",
          "output_type": "stream",
          "text": [
            "C:\\Users\\koshe\\AppData\\Local\\Temp\\ipykernel_16088\\2297777544.py:2: UserWarning: pandas only supports SQLAlchemy connectable (engine/connection) or database string URI or sqlite3 DBAPI2 connection. Other DBAPI2 objects are not tested. Please consider using SQLAlchemy.\n",
            "  df_6_6 = pd.read_sql_query(query_6_6, connection)\n"
          ]
        },
        {
          "data": {
            "text/html": [
              "<div>\n",
              "<style scoped>\n",
              "    .dataframe tbody tr th:only-of-type {\n",
              "        vertical-align: middle;\n",
              "    }\n",
              "\n",
              "    .dataframe tbody tr th {\n",
              "        vertical-align: top;\n",
              "    }\n",
              "\n",
              "    .dataframe thead th {\n",
              "        text-align: right;\n",
              "    }\n",
              "</style>\n",
              "<table border=\"1\" class=\"dataframe\">\n",
              "  <thead>\n",
              "    <tr style=\"text-align: right;\">\n",
              "      <th></th>\n",
              "      <th>experience</th>\n",
              "      <th>round</th>\n",
              "    </tr>\n",
              "  </thead>\n",
              "  <tbody>\n",
              "    <tr>\n",
              "      <th>0</th>\n",
              "      <td>Нет опыта</td>\n",
              "      <td>74643.0</td>\n",
              "    </tr>\n",
              "    <tr>\n",
              "      <th>1</th>\n",
              "      <td>От 1 года до 3 лет</td>\n",
              "      <td>139675.0</td>\n",
              "    </tr>\n",
              "    <tr>\n",
              "      <th>2</th>\n",
              "      <td>От 3 до 6 лет</td>\n",
              "      <td>243115.0</td>\n",
              "    </tr>\n",
              "  </tbody>\n",
              "</table>\n",
              "</div>"
            ],
            "text/plain": [
              "           experience     round\n",
              "0           Нет опыта   74643.0\n",
              "1  От 1 года до 3 лет  139675.0\n",
              "2       От 3 до 6 лет  243115.0"
            ]
          },
          "execution_count": 48,
          "metadata": {},
          "output_type": "execute_result"
        }
      ],
      "source": [
        "# результат запроса\n",
        "df_6_6 = pd.read_sql_query(query_6_6, connection)\n",
        "df_6_6"
      ]
    },
    {
      "cell_type": "markdown",
      "metadata": {},
      "source": [
        "Вывод: Чем больше опыт работы, тем выше ЗП предлагается"
      ]
    },
    {
      "cell_type": "markdown",
      "id": "6a7892b4-4113-4746-adce-18aa2844f18e",
      "metadata": {
        "id": "6a7892b4-4113-4746-adce-18aa2844f18e"
      },
      "source": [
        "***"
      ]
    },
    {
      "cell_type": "markdown",
      "metadata": {},
      "source": [
        "Выводы по предметному анализу:\n",
        "1. Количество вакансий, относящихся к данным 1771. Это 3% от всех имеющихся вакансий\n",
        "2. Количество вакансий по DS для новичка - 51, что составляет 0.1% от всех имеющихся вакансий\n",
        "3. Количество вакансия по DS, где навыком указан SQL или postgres - 201, что составляет 0.4% от всех вакансий\n",
        "4. Количество вакансия по DS, где навыком указан python - 351, что составляет 0.7% от всех вакансий. Можно сделать вывод, что знание Питона для DS требуется чаще, чем знание SQL\n",
        "5. В среднем для ваканчии DS указывается по 6 навыков\n",
        "6. Чем больше опыт работы, тем выше ЗП предлагается"
      ]
    },
    {
      "cell_type": "markdown",
      "id": "c0ED6fh7wiBT",
      "metadata": {
        "id": "c0ED6fh7wiBT"
      },
      "source": [
        "# Общий вывод по проекту"
      ]
    },
    {
      "cell_type": "code",
      "execution_count": 49,
      "id": "h9B3BL-wwj18",
      "metadata": {
        "id": "h9B3BL-wwj18"
      },
      "outputs": [],
      "source": [
        "# подведем итог исследования, обобщите выводы\n",
        "# здесь можно (это будет плюсом) провести дополнительные исследования данных, сделать прогнозы, продумать варианты продолжения исследования"
      ]
    },
    {
      "cell_type": "markdown",
      "metadata": {},
      "source": [
        "Исходные данные для исследования содержали:\n",
        "* ~ 50 000 вакансий.\n",
        "* ~ 24 000 работодателей. \n",
        "* ~ 1400 регионов.\n",
        "* ~ 300 сфер деятельности.\n",
        "\n",
        "1. Соотношение колчиества ваканчий к количеству работодателей позволяет сделать вывод, что в среднем каждому работодателю принадлежит более одной вакансии.\n",
        "2. Чем больше регион, тем больше ваканчий в нем представлено. Чем больше регионов есть у работодателей, тем больше ваканчий у него представлено.\n",
        "3. Самым популярным является стандартное сочетание \"Полный день\"-\"Полная занятость\", также популярны все более распростаренные графики - удаленная работа и гибкий график.\n",
        "4. Наибольшее количество вакансий имеют большие известные компании, такие как Яндекс, банки (Сбер, Тинькофф).\n",
        "5. Больше всего вакансий предлагается для опыта работы от 1 до 3 лет, при этом средняя ЗП на этот опыт - самая низкая. Что является логичным. Верно и обратное, вакансий с опытом работы от 6 лет - меньше всего, при этом средняя ЗП самая высокая именно для такого опыта. Специалисты с большим опытом работы ценятся высоко, и ЗП должна быть соответствующей.\n",
        "6. 1% всех вакансий компании Яндекс в городах-миллионниках\n",
        "7. Знание python встречается чаще, чем знание sql для ваканчий DS.\n"
      ]
    },
    {
      "cell_type": "markdown",
      "metadata": {},
      "source": [
        "Распределение количества вакансий по регионам"
      ]
    },
    {
      "cell_type": "code",
      "execution_count": 50,
      "metadata": {},
      "outputs": [
        {
          "name": "stderr",
          "output_type": "stream",
          "text": [
            "C:\\Users\\koshe\\AppData\\Local\\Temp\\ipykernel_16088\\3548000431.py:11: UserWarning: pandas only supports SQLAlchemy connectable (engine/connection) or database string URI or sqlite3 DBAPI2 connection. Other DBAPI2 objects are not tested. Please consider using SQLAlchemy.\n",
            "  treemap_data = pd.read_sql_query(query_map, connection)\n"
          ]
        },
        {
          "data": {
            "application/vnd.plotly.v1+json": {
              "config": {
                "plotlyServerURL": "https://plot.ly"
              },
              "data": [
                {
                  "branchvalues": "total",
                  "domain": {
                    "x": [
                      0,
                      1
                    ],
                    "y": [
                      0,
                      1
                    ]
                  },
                  "hovertemplate": "labels=%{label}<br>count_vac=%{value}<br>parent=%{parent}<br>id=%{id}<extra></extra>",
                  "ids": [
                    "Абакан",
                    "Абан",
                    "Абдулино",
                    "Абинск",
                    "Абхазия",
                    "Австрия",
                    "Агинское (Забайкальский АО)",
                    "Адлер",
                    "Адыге-Хабль",
                    "Азов",
                    "Аксай (Казахстан)",
                    "Аксай (Ростовская область)",
                    "Актау",
                    "Акташ (Узбекистан)",
                    "Актобе",
                    "Актогай",
                    "Алдан",
                    "Александров",
                    "Алексеевка",
                    "Алексин",
                    "Аликово",
                    "Алматы",
                    "Алушта",
                    "Альметьевск",
                    "Амурск",
                    "Анапа",
                    "Ангарск",
                    "Анжеро-Судженск",
                    "Анна",
                    "Апатиты",
                    "Апрелевка",
                    "Апшеронск",
                    "Арзамас",
                    "Армавир",
                    "Армения",
                    "Арсеньев",
                    "Артем",
                    "Артемовский (Свердловская область)",
                    "Архангельск",
                    "Асбест",
                    "Астрахань",
                    "Атырау",
                    "Афипский",
                    "Ахтубинск",
                    "Ачинск",
                    "Баймак",
                    "Баку",
                    "Балабаново",
                    "Балаково",
                    "Балахна",
                    "Балахта (Красноярский край)",
                    "Балашиха",
                    "Балхаш",
                    "Барановичи",
                    "Баргузин",
                    "Барнаул",
                    "Батайск",
                    "Батуми",
                    "Бахчисарай",
                    "Белгород",
                    "Белебей",
                    "Белово",
                    "Белокуриха",
                    "Белоозёрский (Московская область)",
                    "Белорецк",
                    "Белореченск",
                    "Белоусово",
                    "Белый Яр (Ханты-Мансийский АО)",
                    "Бердск",
                    "Бердяуш",
                    "Береза",
                    "Березники",
                    "Березовский (Кемеровская область)",
                    "Березовский (Свердловская область)",
                    "Берёзово",
                    "Беслан",
                    "Бийск",
                    "Биробиджан",
                    "Бирск",
                    "Бишкек",
                    "Благовещенск (Амурская область)",
                    "Благовещенск (Республика Башкортостан)",
                    "Бобруйск",
                    "Богородицк",
                    "Богородск",
                    "Боготол",
                    "Богучаны",
                    "Богучар",
                    "Бодайбо",
                    "Болгария",
                    "Бологое",
                    "Большие Вязёмы",
                    "Большое Сорокино",
                    "Большой Камень",
                    "Бор",
                    "Борзя",
                    "Борисов",
                    "Борисоглебск",
                    "Боровск",
                    "Братск",
                    "Брест",
                    "Бронницы",
                    "Брянск",
                    "Бугульма",
                    "Бугуруслан",
                    "Буденновск",
                    "Бузулук",
                    "Буй",
                    "Буйнакск",
                    "Валдай",
                    "Валуйки",
                    "Ванино",
                    "Великие Луки",
                    "Великий Новгород",
                    "Великобритания",
                    "Венгрия",
                    "Верх-Тула",
                    "Верхний Мамон",
                    "Верхняя Пышма",
                    "Верхняя Салда",
                    "Видное",
                    "Винзили",
                    "Витебск",
                    "Вихоревка",
                    "Владивосток",
                    "Владикавказ",
                    "Владимир",
                    "Власиха",
                    "Волгоград",
                    "Волгодонск",
                    "Волжск",
                    "Волжский (Волгоградская область)",
                    "Вологда",
                    "Волхов",
                    "Вольгинский",
                    "Вольно-Надеждинское",
                    "Воркута",
                    "Воронеж",
                    "Воскресенск",
                    "Воткинск",
                    "Всеволожск",
                    "Вуктыл",
                    "Выборг",
                    "Выкса",
                    "Выселки",
                    "Вязники",
                    "Вязьма",
                    "Гаврилов-Ям",
                    "Гатчина",
                    "Геленджик",
                    "Германия",
                    "Глазов",
                    "Голицыно",
                    "Гомель",
                    "Горки Ленинские",
                    "Горно-Алтайск",
                    "Городец",
                    "Горячий Ключ",
                    "Гродно",
                    "Грозный",
                    "Грязи",
                    "Губкин",
                    "Губкинский",
                    "Гудермес",
                    "Гурьевск (Калининградская область)",
                    "Гусев",
                    "Гусь-Хрустальный",
                    "Давлеканово",
                    "Далматово",
                    "Дальнереченск",
                    "Дедовск",
                    "Дербент",
                    "Десногорск",
                    "Джанкой",
                    "Джизак",
                    "Дзержинск (Беларусь)",
                    "Дзержинск (Нижегородская область)",
                    "Дзержинский",
                    "Дивногорск",
                    "Димитровград",
                    "Динская станица",
                    "Дмитров",
                    "Долгопрудный",
                    "Домодедово",
                    "Донецк (Ростовская область)",
                    "Донской",
                    "Дорогобуж",
                    "Дорохово (Московская область)",
                    "Дубна",
                    "Духовщина",
                    "Дюртюли",
                    "Евпатория",
                    "Егорьевск",
                    "Ейск",
                    "Екатеринбург",
                    "Елабуга",
                    "Елец",
                    "Елизаветинская",
                    "Елизово",
                    "Еманжелинск",
                    "Енисейск",
                    "Ессентуки",
                    "Ефремов",
                    "Жезказган",
                    "Железноводск",
                    "Железногорск (Красноярский край)",
                    "Железногорск (Курская область)",
                    "Железногорск-Илимский",
                    "Железнодорожный",
                    "Жигулевск",
                    "Жирновск",
                    "Жуков",
                    "Жуковский",
                    "Забайкальск",
                    "Заводоуковск",
                    "Заволжье",
                    "Закаменск",
                    "Заозерный",
                    "Заполярный (Ямало-Ненецкий АО)",
                    "Зарайск",
                    "Заречный (Пензенская область)",
                    "Заречный (Свердловская область)",
                    "Заринск",
                    "Звенигород",
                    "Зеленогорск (Красноярский край)",
                    "Зеленогорск (Ленинградская обл)",
                    "Зеленоград",
                    "Зеленодольск (Республика Татарстан)",
                    "Златоуст",
                    "Знаменск",
                    "Иваново (Ивановская область)",
                    "Ивантеевка",
                    "Ивдель",
                    "Иглино",
                    "Ижевск",
                    "Излучинск",
                    "Изобильный",
                    "Израиль",
                    "Иланский",
                    "Иловля",
                    "Ильский",
                    "Индия",
                    "Индонезия",
                    "Иннополис",
                    "Ирбит",
                    "Иркутск",
                    "Искитим",
                    "Испания",
                    "Истра",
                    "Ишим",
                    "Ишимбай",
                    "Йошкар-Ола",
                    "Казань",
                    "Казачинское",
                    "Калач",
                    "Калачинск",
                    "Калининград",
                    "Калуга",
                    "Каменск-Уральский",
                    "Каменск-Шахтинский",
                    "Камешково",
                    "Камышин",
                    "Камышлов",
                    "Канаш",
                    "Канск",
                    "Капчагай",
                    "Караганда",
                    "Карасук",
                    "Карпинск",
                    "Карымское",
                    "Каспийск",
                    "Кашин",
                    "Кашира",
                    "Кемерово",
                    "Кемь",
                    "Керчь",
                    "Киев",
                    "Кизляр",
                    "Кимовск",
                    "Кимры",
                    "Кингисепп",
                    "Кинель",
                    "Кинешма",
                    "Кипр",
                    "Киржач",
                    "Кириши",
                    "Киров (Кировская область)",
                    "Кировград",
                    "Кирово-Чепецк",
                    "Кировск (Ленинградская область)",
                    "Кировск (Мурманская область)",
                    "Кирсанов",
                    "Киселевск",
                    "Кисловодск",
                    "Китай",
                    "Кишинёв",
                    "Климовск (Московская область)",
                    "Клин",
                    "Кобрин",
                    "Ковров",
                    "Когалым",
                    "Кодинск",
                    "Коканд",
                    "Кокшетау",
                    "Кола",
                    "Коломна",
                    "Колпашево",
                    "Колпино",
                    "Коммунар",
                    "Коммунарка",
                    "Комсомольск-на-Амуре",
                    "Конаково",
                    "Кондрово",
                    "Копейск",
                    "Кореновск",
                    "Коркино",
                    "Королев",
                    "Костанай",
                    "Костомукша",
                    "Кострома",
                    "Котельники",
                    "Котлас",
                    "Красная Поляна",
                    "Красноармейск (Московская область)",
                    "Красногорск",
                    "Красногорский (Челябинская область)",
                    "Краснодар",
                    "Красное (Липецкая область)",
                    "Красное Село",
                    "Краснознаменск (Московская область)",
                    "Краснокаменск",
                    "Краснокамск",
                    "Краснообск",
                    "Краснотурьинск",
                    "Красноярск",
                    "Красный Сулин",
                    "Крекшино",
                    "Кронштадт",
                    "Кропоткин",
                    "Крымск",
                    "Кстово",
                    "Кубинка",
                    "Кугеси",
                    "Кудрово",
                    "Кузнецк",
                    "Кулебаки",
                    "Кумертау",
                    "Курагино",
                    "Курган",
                    "Курганинск",
                    "Курск",
                    "Курчатов",
                    "Куса",
                    "Кутаиси",
                    "Кызыл",
                    "Кызылорда",
                    "Кыштым",
                    "Лабинск",
                    "Лабытнанги",
                    "Лакинск",
                    "Лангепас",
                    "Латвия",
                    "Лебедянь",
                    "Ленинск-Кузнецкий",
                    "Ленск",
                    "Лесосибирск",
                    "Ливны",
                    "Лида",
                    "Ликино-Дулево",
                    "Линево (Новосибирская область)",
                    "Липецк",
                    "Литва",
                    "Лобня",
                    "Ломоносов",
                    "Луга",
                    "Луховицы",
                    "Лысьва",
                    "Люберцы",
                    "Людиново",
                    "Лянтор",
                    "Магадан",
                    "Магнитогорск",
                    "Майкоп",
                    "Макинск",
                    "Малаховка (Московская область)",
                    "Малоярославец",
                    "Мамадыш",
                    "Махачкала",
                    "Мегион",
                    "Междуреченск",
                    "Мелеуз",
                    "Менделеевск",
                    "Мензелинск",
                    "Миасс",
                    "Минеральные Воды",
                    "Минск",
                    "Минусинск",
                    "Мирный (Архангельская область)",
                    "Мирный (Республика Саха (Якутия))",
                    "Михайловка (Волгоградская область)",
                    "Михайловск (Ставропольский край)",
                    "Михнево (Московская область, Ступинский район)",
                    "Мичуринск",
                    "Могилев",
                    "Могойтуй",
                    "Можга",
                    "Молодечно",
                    "Монино",
                    "Мончегорск",
                    "Москва",
                    "Московский",
                    "Муравленко",
                    "Мурманск",
                    "Мурмаши",
                    "Муром",
                    "Мценск",
                    "Мытищи",
                    "Набережные Челны",
                    "Навашино",
                    "Навои",
                    "Надым",
                    "Назарово",
                    "Назрань",
                    "Нальчик",
                    "Наро-Фоминск",
                    "Нарьян-Мар",
                    "Нахабино",
                    "Находка",
                    "Невель",
                    "Невинномысск",
                    "Невьянск",
                    "Некрасовский (Московская область)",
                    "Нерчинск",
                    "Нерчинский Завод",
                    "Нерюнгри",
                    "Нефтегорск (Самарская область)",
                    "Нефтекамск",
                    "Нефтеюганск",
                    "Нидерланды",
                    "Нижневартовск",
                    "Нижнекамск",
                    "Нижнеудинск",
                    "Нижние Серги",
                    "Нижний Ломов",
                    "Нижний Новгород",
                    "Нижний Тагил",
                    "Нижняя Тура",
                    "Новая Усмань",
                    "Новоалтайск",
                    "Новоаннинский",
                    "Новогрудок",
                    "Новодвинск",
                    "Новокузнецк",
                    "Новокуйбышевск",
                    "Новомосковск (Тульская область)",
                    "Новополоцк",
                    "Новороссийск",
                    "Новосибирск",
                    "Новотитаровская",
                    "Новотроицк (Оренбургская область)",
                    "Новоульяновск",
                    "Новоуральск",
                    "Новохопёрск",
                    "Новочебоксарск",
                    "Новочеркасск",
                    "Новошахтинск",
                    "Новый Уренгой",
                    "Ногинск",
                    "Норильск",
                    "Ноябрьск",
                    "Нур-Султан",
                    "Нягань",
                    "ОАЭ",
                    "Обнинск",
                    "Оболенск",
                    "Обь",
                    "Одинцово",
                    "Озерск (Челябинская область)",
                    "Октябрьский (Республика Башкортостан)",
                    "Омск",
                    "Орел",
                    "Оренбург",
                    "Орехово-Зуево",
                    "Орск",
                    "Орша",
                    "Осинники",
                    "Осташков",
                    "Отеген-Батыр",
                    "Отрадный (Самарская область)",
                    "Ош",
                    "Павлово",
                    "Павловск (Воронежская область)",
                    "Павловск (Ленинградская область)",
                    "Павловская Слобода",
                    "Павловский Посад",
                    "Павлодар",
                    "Палех",
                    "Пангоды",
                    "Пенза",
                    "Первомайское (Ленинградская область)",
                    "Первоуральск",
                    "Пересвет",
                    "Переславль-Залесский",
                    "Пермь",
                    "Пестово",
                    "Петергоф",
                    "Петровск-Забайкальский",
                    "Петрозаводск",
                    "Петропавловка (Воронежская область)",
                    "Петропавловка (Республика Бурятия)",
                    "Петропавловск",
                    "Петропавловск-Камчатский",
                    "Петушки",
                    "Пикалево",
                    "Пинск",
                    "Пласт",
                    "Подольск (Московская область)",
                    "Пойковский",
                    "Покачи",
                    "Покров",
                    "Полевской",
                    "Полоцк",
                    "Полысаево",
                    "Польша",
                    "Понежукай",
                    "Похвистнево",
                    "Приаргунск",
                    "Приморск (Ленинградская область)",
                    "Приозерск",
                    "Приютово",
                    "Прокопьевск",
                    "Псков",
                    "Пушкин",
                    "Пушкино (Московская область)",
                    "Пыть-Ях",
                    "Пятигорск",
                    "Радужный (Владимирская область)",
                    "Раевский (Альшеевский район)",
                    "Развилка (Московская область)",
                    "Райчихинск",
                    "Раменское",
                    "Рассказово",
                    "Реутов",
                    "Ржев",
                    "Риддер (ВКО)",
                    "Рославль",
                    "Россошь",
                    "Ростов (Ярославская область)",
                    "Ростов-на-Дону",
                    "Рощино (Ленинградская область)",
                    "Рубцовск",
                    "Рудный",
                    "Руза",
                    "Рузаевка",
                    "Румыния",
                    "Рыбинск",
                    "Рязань",
                    "США",
                    "Саки",
                    "Салават",
                    "Салехард",
                    "Сальск",
                    "Самара",
                    "Самарканд",
                    "Санкт-Петербург",
                    "Саракташ",
                    "Саранск",
                    "Сарапул",
                    "Саратов",
                    "Саров",
                    "Сарыагаш",
                    "Сасово",
                    "Сатка",
                    "Сафоново",
                    "Саяногорск",
                    "Свободный",
                    "Себеж",
                    "Севастополь",
                    "Северо-Енисейский (Красноярский край)",
                    "Северобайкальск",
                    "Северодвинск",
                    "Североморск",
                    "Североуральск",
                    "Северск (Томская область)",
                    "Сегежа",
                    "Селятино",
                    "Семей",
                    "Семилуки",
                    "Сербия",
                    "Сергач",
                    "Сергиев Посад",
                    "Сергиевск",
                    "Сердобск",
                    "Серов",
                    "Серпухов",
                    "Сертолово",
                    "Сестрорецк",
                    "Сибай",
                    "Симферополь",
                    "Сириус",
                    "Сковородино",
                    "Славянск-на-Кубани",
                    "Сланцы",
                    "Слободской",
                    "Словакия",
                    "Смоленск",
                    "Снегири",
                    "Снежинск",
                    "Советск (Калининградская область)",
                    "Солигорск",
                    "Соликамск",
                    "Солнечногорск",
                    "Сорск",
                    "Сосновоборск",
                    "Сосновый Бор (Ленинградская область)",
                    "Софрино",
                    "Софьино (Раменский район)",
                    "Сочи",
                    "Спасск-Дальний",
                    "Среднеуральск",
                    "Ставрополь",
                    "Старая Купавна",
                    "Старотитаровская",
                    "Старый Оскол",
                    "Степногорск",
                    "Стерлитамак",
                    "Стрежевой",
                    "Строитель (Белгородская область)",
                    "Ступино",
                    "Судогда",
                    "Сунжа (Ингушетия)",
                    "Сургут",
                    "Сухой Лог",
                    "Сызрань",
                    "Сыктывкар",
                    "Таврическое",
                    "Таганрог",
                    "Таджикистан",
                    "Тазовский",
                    "Тайга",
                    "Тайшет",
                    "Талгар",
                    "Талдыкорган",
                    "Тамань",
                    "Тамбов",
                    "Тараз",
                    "Тарко-Сале",
                    "Тахтамукай",
                    "Ташкент",
                    "Таштагол",
                    "Тбилиси",
                    "Тбилисская",
                    "Тверь",
                    "Темиртау",
                    "Темрюк",
                    "Тербуны",
                    "Тимашевск",
                    "Тихвин",
                    "Тихорецк",
                    "Тобольск",
                    "Тогучин",
                    "Тольятти",
                    "Томилино",
                    "Томск",
                    "Топки",
                    "Торжок",
                    "Тосно",
                    "Троицк (Московская область)",
                    "Троицк (Челябинская область)",
                    "Троицкое (Сахалинская область)",
                    "Туапсе",
                    "Туймазы",
                    "Тула",
                    "Тура (Красноярский край)",
                    "Туркестан",
                    "Турция",
                    "Тучково",
                    "Тюмень",
                    "Уват (Тюменская область)",
                    "Удачный",
                    "Удомля",
                    "Ужур",
                    "Узловая",
                    "Улан-Удэ",
                    "Ульяновск",
                    "Урай",
                    "Уральск",
                    "Уренгой",
                    "Урень",
                    "Урюпинск",
                    "Усинск",
                    "Усолье-Сибирское",
                    "Уссурийск",
                    "Усть-Илимск",
                    "Усть-Каменогорск",
                    "Усть-Катав",
                    "Усть-Кут",
                    "Усть-Лабинск",
                    "Усть-Луга",
                    "Уфа",
                    "Ухта",
                    "Учалы",
                    "Феодосия",
                    "Фергана",
                    "Финляндия",
                    "Фокино (Брянская область)",
                    "Фокино (Приморский край)",
                    "Фролово",
                    "Фрязино",
                    "Хабаровск",
                    "Ханты-Мансийск",
                    "Хасавюрт",
                    "Химки",
                    "Хомутово (Иркутская область)",
                    "Хотьково",
                    "Цивильск",
                    "Чайковский",
                    "Чапаевск",
                    "Чебаркуль",
                    "Чебоксары",
                    "Челябинск",
                    "Черепаново",
                    "Череповец",
                    "Черкесск",
                    "Черноголовка",
                    "Черногория",
                    "Черногорск",
                    "Черняховск",
                    "Чехия",
                    "Чехов",
                    "Чита",
                    "Чусовой",
                    "Шарыпово",
                    "Шарья",
                    "Шахтерск (Сахалинская область)",
                    "Шахтинск",
                    "Шахты",
                    "Шебекино",
                    "Шелехов",
                    "Шерегеш",
                    "Шлиссельбург",
                    "Шумерля",
                    "Шушары",
                    "Шушенское",
                    "Шуя",
                    "Шымкент",
                    "Щекино",
                    "Щелково",
                    "Щербинка",
                    "Экибастуз",
                    "Электрогорск",
                    "Электросталь",
                    "Электроугли",
                    "Элиста",
                    "Энгельс",
                    "Энем",
                    "Эртиль",
                    "Эстония",
                    "Южно-Сахалинск",
                    "Южноуральск",
                    "Юрга",
                    "Яблоновский (Республика Адыгея)",
                    "Якутск",
                    "Ялта",
                    "Ялуторовск",
                    "Ярославль",
                    "Ярцево",
                    "Ясногорск",
                    "Яя"
                  ],
                  "labels": [
                    "Абакан",
                    "Абан",
                    "Абдулино",
                    "Абинск",
                    "Абхазия",
                    "Австрия",
                    "Агинское (Забайкальский АО)",
                    "Адлер",
                    "Адыге-Хабль",
                    "Азов",
                    "Аксай (Казахстан)",
                    "Аксай (Ростовская область)",
                    "Актау",
                    "Акташ (Узбекистан)",
                    "Актобе",
                    "Актогай",
                    "Алдан",
                    "Александров",
                    "Алексеевка",
                    "Алексин",
                    "Аликово",
                    "Алматы",
                    "Алушта",
                    "Альметьевск",
                    "Амурск",
                    "Анапа",
                    "Ангарск",
                    "Анжеро-Судженск",
                    "Анна",
                    "Апатиты",
                    "Апрелевка",
                    "Апшеронск",
                    "Арзамас",
                    "Армавир",
                    "Армения",
                    "Арсеньев",
                    "Артем",
                    "Артемовский (Свердловская область)",
                    "Архангельск",
                    "Асбест",
                    "Астрахань",
                    "Атырау",
                    "Афипский",
                    "Ахтубинск",
                    "Ачинск",
                    "Баймак",
                    "Баку",
                    "Балабаново",
                    "Балаково",
                    "Балахна",
                    "Балахта (Красноярский край)",
                    "Балашиха",
                    "Балхаш",
                    "Барановичи",
                    "Баргузин",
                    "Барнаул",
                    "Батайск",
                    "Батуми",
                    "Бахчисарай",
                    "Белгород",
                    "Белебей",
                    "Белово",
                    "Белокуриха",
                    "Белоозёрский (Московская область)",
                    "Белорецк",
                    "Белореченск",
                    "Белоусово",
                    "Белый Яр (Ханты-Мансийский АО)",
                    "Бердск",
                    "Бердяуш",
                    "Береза",
                    "Березники",
                    "Березовский (Кемеровская область)",
                    "Березовский (Свердловская область)",
                    "Берёзово",
                    "Беслан",
                    "Бийск",
                    "Биробиджан",
                    "Бирск",
                    "Бишкек",
                    "Благовещенск (Амурская область)",
                    "Благовещенск (Республика Башкортостан)",
                    "Бобруйск",
                    "Богородицк",
                    "Богородск",
                    "Боготол",
                    "Богучаны",
                    "Богучар",
                    "Бодайбо",
                    "Болгария",
                    "Бологое",
                    "Большие Вязёмы",
                    "Большое Сорокино",
                    "Большой Камень",
                    "Бор",
                    "Борзя",
                    "Борисов",
                    "Борисоглебск",
                    "Боровск",
                    "Братск",
                    "Брест",
                    "Бронницы",
                    "Брянск",
                    "Бугульма",
                    "Бугуруслан",
                    "Буденновск",
                    "Бузулук",
                    "Буй",
                    "Буйнакск",
                    "Валдай",
                    "Валуйки",
                    "Ванино",
                    "Великие Луки",
                    "Великий Новгород",
                    "Великобритания",
                    "Венгрия",
                    "Верх-Тула",
                    "Верхний Мамон",
                    "Верхняя Пышма",
                    "Верхняя Салда",
                    "Видное",
                    "Винзили",
                    "Витебск",
                    "Вихоревка",
                    "Владивосток",
                    "Владикавказ",
                    "Владимир",
                    "Власиха",
                    "Волгоград",
                    "Волгодонск",
                    "Волжск",
                    "Волжский (Волгоградская область)",
                    "Вологда",
                    "Волхов",
                    "Вольгинский",
                    "Вольно-Надеждинское",
                    "Воркута",
                    "Воронеж",
                    "Воскресенск",
                    "Воткинск",
                    "Всеволожск",
                    "Вуктыл",
                    "Выборг",
                    "Выкса",
                    "Выселки",
                    "Вязники",
                    "Вязьма",
                    "Гаврилов-Ям",
                    "Гатчина",
                    "Геленджик",
                    "Германия",
                    "Глазов",
                    "Голицыно",
                    "Гомель",
                    "Горки Ленинские",
                    "Горно-Алтайск",
                    "Городец",
                    "Горячий Ключ",
                    "Гродно",
                    "Грозный",
                    "Грязи",
                    "Губкин",
                    "Губкинский",
                    "Гудермес",
                    "Гурьевск (Калининградская область)",
                    "Гусев",
                    "Гусь-Хрустальный",
                    "Давлеканово",
                    "Далматово",
                    "Дальнереченск",
                    "Дедовск",
                    "Дербент",
                    "Десногорск",
                    "Джанкой",
                    "Джизак",
                    "Дзержинск (Беларусь)",
                    "Дзержинск (Нижегородская область)",
                    "Дзержинский",
                    "Дивногорск",
                    "Димитровград",
                    "Динская станица",
                    "Дмитров",
                    "Долгопрудный",
                    "Домодедово",
                    "Донецк (Ростовская область)",
                    "Донской",
                    "Дорогобуж",
                    "Дорохово (Московская область)",
                    "Дубна",
                    "Духовщина",
                    "Дюртюли",
                    "Евпатория",
                    "Егорьевск",
                    "Ейск",
                    "Екатеринбург",
                    "Елабуга",
                    "Елец",
                    "Елизаветинская",
                    "Елизово",
                    "Еманжелинск",
                    "Енисейск",
                    "Ессентуки",
                    "Ефремов",
                    "Жезказган",
                    "Железноводск",
                    "Железногорск (Красноярский край)",
                    "Железногорск (Курская область)",
                    "Железногорск-Илимский",
                    "Железнодорожный",
                    "Жигулевск",
                    "Жирновск",
                    "Жуков",
                    "Жуковский",
                    "Забайкальск",
                    "Заводоуковск",
                    "Заволжье",
                    "Закаменск",
                    "Заозерный",
                    "Заполярный (Ямало-Ненецкий АО)",
                    "Зарайск",
                    "Заречный (Пензенская область)",
                    "Заречный (Свердловская область)",
                    "Заринск",
                    "Звенигород",
                    "Зеленогорск (Красноярский край)",
                    "Зеленогорск (Ленинградская обл)",
                    "Зеленоград",
                    "Зеленодольск (Республика Татарстан)",
                    "Златоуст",
                    "Знаменск",
                    "Иваново (Ивановская область)",
                    "Ивантеевка",
                    "Ивдель",
                    "Иглино",
                    "Ижевск",
                    "Излучинск",
                    "Изобильный",
                    "Израиль",
                    "Иланский",
                    "Иловля",
                    "Ильский",
                    "Индия",
                    "Индонезия",
                    "Иннополис",
                    "Ирбит",
                    "Иркутск",
                    "Искитим",
                    "Испания",
                    "Истра",
                    "Ишим",
                    "Ишимбай",
                    "Йошкар-Ола",
                    "Казань",
                    "Казачинское",
                    "Калач",
                    "Калачинск",
                    "Калининград",
                    "Калуга",
                    "Каменск-Уральский",
                    "Каменск-Шахтинский",
                    "Камешково",
                    "Камышин",
                    "Камышлов",
                    "Канаш",
                    "Канск",
                    "Капчагай",
                    "Караганда",
                    "Карасук",
                    "Карпинск",
                    "Карымское",
                    "Каспийск",
                    "Кашин",
                    "Кашира",
                    "Кемерово",
                    "Кемь",
                    "Керчь",
                    "Киев",
                    "Кизляр",
                    "Кимовск",
                    "Кимры",
                    "Кингисепп",
                    "Кинель",
                    "Кинешма",
                    "Кипр",
                    "Киржач",
                    "Кириши",
                    "Киров (Кировская область)",
                    "Кировград",
                    "Кирово-Чепецк",
                    "Кировск (Ленинградская область)",
                    "Кировск (Мурманская область)",
                    "Кирсанов",
                    "Киселевск",
                    "Кисловодск",
                    "Китай",
                    "Кишинёв",
                    "Климовск (Московская область)",
                    "Клин",
                    "Кобрин",
                    "Ковров",
                    "Когалым",
                    "Кодинск",
                    "Коканд",
                    "Кокшетау",
                    "Кола",
                    "Коломна",
                    "Колпашево",
                    "Колпино",
                    "Коммунар",
                    "Коммунарка",
                    "Комсомольск-на-Амуре",
                    "Конаково",
                    "Кондрово",
                    "Копейск",
                    "Кореновск",
                    "Коркино",
                    "Королев",
                    "Костанай",
                    "Костомукша",
                    "Кострома",
                    "Котельники",
                    "Котлас",
                    "Красная Поляна",
                    "Красноармейск (Московская область)",
                    "Красногорск",
                    "Красногорский (Челябинская область)",
                    "Краснодар",
                    "Красное (Липецкая область)",
                    "Красное Село",
                    "Краснознаменск (Московская область)",
                    "Краснокаменск",
                    "Краснокамск",
                    "Краснообск",
                    "Краснотурьинск",
                    "Красноярск",
                    "Красный Сулин",
                    "Крекшино",
                    "Кронштадт",
                    "Кропоткин",
                    "Крымск",
                    "Кстово",
                    "Кубинка",
                    "Кугеси",
                    "Кудрово",
                    "Кузнецк",
                    "Кулебаки",
                    "Кумертау",
                    "Курагино",
                    "Курган",
                    "Курганинск",
                    "Курск",
                    "Курчатов",
                    "Куса",
                    "Кутаиси",
                    "Кызыл",
                    "Кызылорда",
                    "Кыштым",
                    "Лабинск",
                    "Лабытнанги",
                    "Лакинск",
                    "Лангепас",
                    "Латвия",
                    "Лебедянь",
                    "Ленинск-Кузнецкий",
                    "Ленск",
                    "Лесосибирск",
                    "Ливны",
                    "Лида",
                    "Ликино-Дулево",
                    "Линево (Новосибирская область)",
                    "Липецк",
                    "Литва",
                    "Лобня",
                    "Ломоносов",
                    "Луга",
                    "Луховицы",
                    "Лысьва",
                    "Люберцы",
                    "Людиново",
                    "Лянтор",
                    "Магадан",
                    "Магнитогорск",
                    "Майкоп",
                    "Макинск",
                    "Малаховка (Московская область)",
                    "Малоярославец",
                    "Мамадыш",
                    "Махачкала",
                    "Мегион",
                    "Междуреченск",
                    "Мелеуз",
                    "Менделеевск",
                    "Мензелинск",
                    "Миасс",
                    "Минеральные Воды",
                    "Минск",
                    "Минусинск",
                    "Мирный (Архангельская область)",
                    "Мирный (Республика Саха (Якутия))",
                    "Михайловка (Волгоградская область)",
                    "Михайловск (Ставропольский край)",
                    "Михнево (Московская область, Ступинский район)",
                    "Мичуринск",
                    "Могилев",
                    "Могойтуй",
                    "Можга",
                    "Молодечно",
                    "Монино",
                    "Мончегорск",
                    "Москва",
                    "Московский",
                    "Муравленко",
                    "Мурманск",
                    "Мурмаши",
                    "Муром",
                    "Мценск",
                    "Мытищи",
                    "Набережные Челны",
                    "Навашино",
                    "Навои",
                    "Надым",
                    "Назарово",
                    "Назрань",
                    "Нальчик",
                    "Наро-Фоминск",
                    "Нарьян-Мар",
                    "Нахабино",
                    "Находка",
                    "Невель",
                    "Невинномысск",
                    "Невьянск",
                    "Некрасовский (Московская область)",
                    "Нерчинск",
                    "Нерчинский Завод",
                    "Нерюнгри",
                    "Нефтегорск (Самарская область)",
                    "Нефтекамск",
                    "Нефтеюганск",
                    "Нидерланды",
                    "Нижневартовск",
                    "Нижнекамск",
                    "Нижнеудинск",
                    "Нижние Серги",
                    "Нижний Ломов",
                    "Нижний Новгород",
                    "Нижний Тагил",
                    "Нижняя Тура",
                    "Новая Усмань",
                    "Новоалтайск",
                    "Новоаннинский",
                    "Новогрудок",
                    "Новодвинск",
                    "Новокузнецк",
                    "Новокуйбышевск",
                    "Новомосковск (Тульская область)",
                    "Новополоцк",
                    "Новороссийск",
                    "Новосибирск",
                    "Новотитаровская",
                    "Новотроицк (Оренбургская область)",
                    "Новоульяновск",
                    "Новоуральск",
                    "Новохопёрск",
                    "Новочебоксарск",
                    "Новочеркасск",
                    "Новошахтинск",
                    "Новый Уренгой",
                    "Ногинск",
                    "Норильск",
                    "Ноябрьск",
                    "Нур-Султан",
                    "Нягань",
                    "ОАЭ",
                    "Обнинск",
                    "Оболенск",
                    "Обь",
                    "Одинцово",
                    "Озерск (Челябинская область)",
                    "Октябрьский (Республика Башкортостан)",
                    "Омск",
                    "Орел",
                    "Оренбург",
                    "Орехово-Зуево",
                    "Орск",
                    "Орша",
                    "Осинники",
                    "Осташков",
                    "Отеген-Батыр",
                    "Отрадный (Самарская область)",
                    "Ош",
                    "Павлово",
                    "Павловск (Воронежская область)",
                    "Павловск (Ленинградская область)",
                    "Павловская Слобода",
                    "Павловский Посад",
                    "Павлодар",
                    "Палех",
                    "Пангоды",
                    "Пенза",
                    "Первомайское (Ленинградская область)",
                    "Первоуральск",
                    "Пересвет",
                    "Переславль-Залесский",
                    "Пермь",
                    "Пестово",
                    "Петергоф",
                    "Петровск-Забайкальский",
                    "Петрозаводск",
                    "Петропавловка (Воронежская область)",
                    "Петропавловка (Республика Бурятия)",
                    "Петропавловск",
                    "Петропавловск-Камчатский",
                    "Петушки",
                    "Пикалево",
                    "Пинск",
                    "Пласт",
                    "Подольск (Московская область)",
                    "Пойковский",
                    "Покачи",
                    "Покров",
                    "Полевской",
                    "Полоцк",
                    "Полысаево",
                    "Польша",
                    "Понежукай",
                    "Похвистнево",
                    "Приаргунск",
                    "Приморск (Ленинградская область)",
                    "Приозерск",
                    "Приютово",
                    "Прокопьевск",
                    "Псков",
                    "Пушкин",
                    "Пушкино (Московская область)",
                    "Пыть-Ях",
                    "Пятигорск",
                    "Радужный (Владимирская область)",
                    "Раевский (Альшеевский район)",
                    "Развилка (Московская область)",
                    "Райчихинск",
                    "Раменское",
                    "Рассказово",
                    "Реутов",
                    "Ржев",
                    "Риддер (ВКО)",
                    "Рославль",
                    "Россошь",
                    "Ростов (Ярославская область)",
                    "Ростов-на-Дону",
                    "Рощино (Ленинградская область)",
                    "Рубцовск",
                    "Рудный",
                    "Руза",
                    "Рузаевка",
                    "Румыния",
                    "Рыбинск",
                    "Рязань",
                    "США",
                    "Саки",
                    "Салават",
                    "Салехард",
                    "Сальск",
                    "Самара",
                    "Самарканд",
                    "Санкт-Петербург",
                    "Саракташ",
                    "Саранск",
                    "Сарапул",
                    "Саратов",
                    "Саров",
                    "Сарыагаш",
                    "Сасово",
                    "Сатка",
                    "Сафоново",
                    "Саяногорск",
                    "Свободный",
                    "Себеж",
                    "Севастополь",
                    "Северо-Енисейский (Красноярский край)",
                    "Северобайкальск",
                    "Северодвинск",
                    "Североморск",
                    "Североуральск",
                    "Северск (Томская область)",
                    "Сегежа",
                    "Селятино",
                    "Семей",
                    "Семилуки",
                    "Сербия",
                    "Сергач",
                    "Сергиев Посад",
                    "Сергиевск",
                    "Сердобск",
                    "Серов",
                    "Серпухов",
                    "Сертолово",
                    "Сестрорецк",
                    "Сибай",
                    "Симферополь",
                    "Сириус",
                    "Сковородино",
                    "Славянск-на-Кубани",
                    "Сланцы",
                    "Слободской",
                    "Словакия",
                    "Смоленск",
                    "Снегири",
                    "Снежинск",
                    "Советск (Калининградская область)",
                    "Солигорск",
                    "Соликамск",
                    "Солнечногорск",
                    "Сорск",
                    "Сосновоборск",
                    "Сосновый Бор (Ленинградская область)",
                    "Софрино",
                    "Софьино (Раменский район)",
                    "Сочи",
                    "Спасск-Дальний",
                    "Среднеуральск",
                    "Ставрополь",
                    "Старая Купавна",
                    "Старотитаровская",
                    "Старый Оскол",
                    "Степногорск",
                    "Стерлитамак",
                    "Стрежевой",
                    "Строитель (Белгородская область)",
                    "Ступино",
                    "Судогда",
                    "Сунжа (Ингушетия)",
                    "Сургут",
                    "Сухой Лог",
                    "Сызрань",
                    "Сыктывкар",
                    "Таврическое",
                    "Таганрог",
                    "Таджикистан",
                    "Тазовский",
                    "Тайга",
                    "Тайшет",
                    "Талгар",
                    "Талдыкорган",
                    "Тамань",
                    "Тамбов",
                    "Тараз",
                    "Тарко-Сале",
                    "Тахтамукай",
                    "Ташкент",
                    "Таштагол",
                    "Тбилиси",
                    "Тбилисская",
                    "Тверь",
                    "Темиртау",
                    "Темрюк",
                    "Тербуны",
                    "Тимашевск",
                    "Тихвин",
                    "Тихорецк",
                    "Тобольск",
                    "Тогучин",
                    "Тольятти",
                    "Томилино",
                    "Томск",
                    "Топки",
                    "Торжок",
                    "Тосно",
                    "Троицк (Московская область)",
                    "Троицк (Челябинская область)",
                    "Троицкое (Сахалинская область)",
                    "Туапсе",
                    "Туймазы",
                    "Тула",
                    "Тура (Красноярский край)",
                    "Туркестан",
                    "Турция",
                    "Тучково",
                    "Тюмень",
                    "Уват (Тюменская область)",
                    "Удачный",
                    "Удомля",
                    "Ужур",
                    "Узловая",
                    "Улан-Удэ",
                    "Ульяновск",
                    "Урай",
                    "Уральск",
                    "Уренгой",
                    "Урень",
                    "Урюпинск",
                    "Усинск",
                    "Усолье-Сибирское",
                    "Уссурийск",
                    "Усть-Илимск",
                    "Усть-Каменогорск",
                    "Усть-Катав",
                    "Усть-Кут",
                    "Усть-Лабинск",
                    "Усть-Луга",
                    "Уфа",
                    "Ухта",
                    "Учалы",
                    "Феодосия",
                    "Фергана",
                    "Финляндия",
                    "Фокино (Брянская область)",
                    "Фокино (Приморский край)",
                    "Фролово",
                    "Фрязино",
                    "Хабаровск",
                    "Ханты-Мансийск",
                    "Хасавюрт",
                    "Химки",
                    "Хомутово (Иркутская область)",
                    "Хотьково",
                    "Цивильск",
                    "Чайковский",
                    "Чапаевск",
                    "Чебаркуль",
                    "Чебоксары",
                    "Челябинск",
                    "Черепаново",
                    "Череповец",
                    "Черкесск",
                    "Черноголовка",
                    "Черногория",
                    "Черногорск",
                    "Черняховск",
                    "Чехия",
                    "Чехов",
                    "Чита",
                    "Чусовой",
                    "Шарыпово",
                    "Шарья",
                    "Шахтерск (Сахалинская область)",
                    "Шахтинск",
                    "Шахты",
                    "Шебекино",
                    "Шелехов",
                    "Шерегеш",
                    "Шлиссельбург",
                    "Шумерля",
                    "Шушары",
                    "Шушенское",
                    "Шуя",
                    "Шымкент",
                    "Щекино",
                    "Щелково",
                    "Щербинка",
                    "Экибастуз",
                    "Электрогорск",
                    "Электросталь",
                    "Электроугли",
                    "Элиста",
                    "Энгельс",
                    "Энем",
                    "Эртиль",
                    "Эстония",
                    "Южно-Сахалинск",
                    "Южноуральск",
                    "Юрга",
                    "Яблоновский (Республика Адыгея)",
                    "Якутск",
                    "Ялта",
                    "Ялуторовск",
                    "Ярославль",
                    "Ярцево",
                    "Ясногорск",
                    "Яя"
                  ],
                  "name": "",
                  "parents": [
                    "",
                    "",
                    "",
                    "",
                    "",
                    "",
                    "",
                    "",
                    "",
                    "",
                    "",
                    "",
                    "",
                    "",
                    "",
                    "",
                    "",
                    "",
                    "",
                    "",
                    "",
                    "",
                    "",
                    "",
                    "",
                    "",
                    "",
                    "",
                    "",
                    "",
                    "",
                    "",
                    "",
                    "",
                    "",
                    "",
                    "",
                    "",
                    "",
                    "",
                    "",
                    "",
                    "",
                    "",
                    "",
                    "",
                    "",
                    "",
                    "",
                    "",
                    "",
                    "",
                    "",
                    "",
                    "",
                    "",
                    "",
                    "",
                    "",
                    "",
                    "",
                    "",
                    "",
                    "",
                    "",
                    "",
                    "",
                    "",
                    "",
                    "",
                    "",
                    "",
                    "",
                    "",
                    "",
                    "",
                    "",
                    "",
                    "",
                    "",
                    "",
                    "",
                    "",
                    "",
                    "",
                    "",
                    "",
                    "",
                    "",
                    "",
                    "",
                    "",
                    "",
                    "",
                    "",
                    "",
                    "",
                    "",
                    "",
                    "",
                    "",
                    "",
                    "",
                    "",
                    "",
                    "",
                    "",
                    "",
                    "",
                    "",
                    "",
                    "",
                    "",
                    "",
                    "",
                    "",
                    "",
                    "",
                    "",
                    "",
                    "",
                    "",
                    "",
                    "",
                    "",
                    "",
                    "",
                    "",
                    "",
                    "",
                    "",
                    "",
                    "",
                    "",
                    "",
                    "",
                    "",
                    "",
                    "",
                    "",
                    "",
                    "",
                    "",
                    "",
                    "",
                    "",
                    "",
                    "",
                    "",
                    "",
                    "",
                    "",
                    "",
                    "",
                    "",
                    "",
                    "",
                    "",
                    "",
                    "",
                    "",
                    "",
                    "",
                    "",
                    "",
                    "",
                    "",
                    "",
                    "",
                    "",
                    "",
                    "",
                    "",
                    "",
                    "",
                    "",
                    "",
                    "",
                    "",
                    "",
                    "",
                    "",
                    "",
                    "",
                    "",
                    "",
                    "",
                    "",
                    "",
                    "",
                    "",
                    "",
                    "",
                    "",
                    "",
                    "",
                    "",
                    "",
                    "",
                    "",
                    "",
                    "",
                    "",
                    "",
                    "",
                    "",
                    "",
                    "",
                    "",
                    "",
                    "",
                    "",
                    "",
                    "",
                    "",
                    "",
                    "",
                    "",
                    "",
                    "",
                    "",
                    "",
                    "",
                    "",
                    "",
                    "",
                    "",
                    "",
                    "",
                    "",
                    "",
                    "",
                    "",
                    "",
                    "",
                    "",
                    "",
                    "",
                    "",
                    "",
                    "",
                    "",
                    "",
                    "",
                    "",
                    "",
                    "",
                    "",
                    "",
                    "",
                    "",
                    "",
                    "",
                    "",
                    "",
                    "",
                    "",
                    "",
                    "",
                    "",
                    "",
                    "",
                    "",
                    "",
                    "",
                    "",
                    "",
                    "",
                    "",
                    "",
                    "",
                    "",
                    "",
                    "",
                    "",
                    "",
                    "",
                    "",
                    "",
                    "",
                    "",
                    "",
                    "",
                    "",
                    "",
                    "",
                    "",
                    "",
                    "",
                    "",
                    "",
                    "",
                    "",
                    "",
                    "",
                    "",
                    "",
                    "",
                    "",
                    "",
                    "",
                    "",
                    "",
                    "",
                    "",
                    "",
                    "",
                    "",
                    "",
                    "",
                    "",
                    "",
                    "",
                    "",
                    "",
                    "",
                    "",
                    "",
                    "",
                    "",
                    "",
                    "",
                    "",
                    "",
                    "",
                    "",
                    "",
                    "",
                    "",
                    "",
                    "",
                    "",
                    "",
                    "",
                    "",
                    "",
                    "",
                    "",
                    "",
                    "",
                    "",
                    "",
                    "",
                    "",
                    "",
                    "",
                    "",
                    "",
                    "",
                    "",
                    "",
                    "",
                    "",
                    "",
                    "",
                    "",
                    "",
                    "",
                    "",
                    "",
                    "",
                    "",
                    "",
                    "",
                    "",
                    "",
                    "",
                    "",
                    "",
                    "",
                    "",
                    "",
                    "",
                    "",
                    "",
                    "",
                    "",
                    "",
                    "",
                    "",
                    "",
                    "",
                    "",
                    "",
                    "",
                    "",
                    "",
                    "",
                    "",
                    "",
                    "",
                    "",
                    "",
                    "",
                    "",
                    "",
                    "",
                    "",
                    "",
                    "",
                    "",
                    "",
                    "",
                    "",
                    "",
                    "",
                    "",
                    "",
                    "",
                    "",
                    "",
                    "",
                    "",
                    "",
                    "",
                    "",
                    "",
                    "",
                    "",
                    "",
                    "",
                    "",
                    "",
                    "",
                    "",
                    "",
                    "",
                    "",
                    "",
                    "",
                    "",
                    "",
                    "",
                    "",
                    "",
                    "",
                    "",
                    "",
                    "",
                    "",
                    "",
                    "",
                    "",
                    "",
                    "",
                    "",
                    "",
                    "",
                    "",
                    "",
                    "",
                    "",
                    "",
                    "",
                    "",
                    "",
                    "",
                    "",
                    "",
                    "",
                    "",
                    "",
                    "",
                    "",
                    "",
                    "",
                    "",
                    "",
                    "",
                    "",
                    "",
                    "",
                    "",
                    "",
                    "",
                    "",
                    "",
                    "",
                    "",
                    "",
                    "",
                    "",
                    "",
                    "",
                    "",
                    "",
                    "",
                    "",
                    "",
                    "",
                    "",
                    "",
                    "",
                    "",
                    "",
                    "",
                    "",
                    "",
                    "",
                    "",
                    "",
                    "",
                    "",
                    "",
                    "",
                    "",
                    "",
                    "",
                    "",
                    "",
                    "",
                    "",
                    "",
                    "",
                    "",
                    "",
                    "",
                    "",
                    "",
                    "",
                    "",
                    "",
                    "",
                    "",
                    "",
                    "",
                    "",
                    "",
                    "",
                    "",
                    "",
                    "",
                    "",
                    "",
                    "",
                    "",
                    "",
                    "",
                    "",
                    "",
                    "",
                    "",
                    "",
                    "",
                    "",
                    "",
                    "",
                    "",
                    "",
                    "",
                    "",
                    "",
                    "",
                    "",
                    "",
                    "",
                    "",
                    "",
                    "",
                    "",
                    "",
                    "",
                    "",
                    "",
                    "",
                    "",
                    "",
                    "",
                    "",
                    "",
                    "",
                    "",
                    "",
                    "",
                    "",
                    "",
                    "",
                    "",
                    "",
                    "",
                    "",
                    "",
                    "",
                    "",
                    "",
                    "",
                    "",
                    "",
                    "",
                    "",
                    "",
                    "",
                    "",
                    "",
                    "",
                    "",
                    "",
                    "",
                    "",
                    "",
                    "",
                    "",
                    "",
                    "",
                    "",
                    "",
                    "",
                    "",
                    "",
                    "",
                    "",
                    "",
                    "",
                    "",
                    "",
                    "",
                    "",
                    "",
                    "",
                    "",
                    "",
                    "",
                    "",
                    "",
                    "",
                    "",
                    "",
                    "",
                    "",
                    "",
                    "",
                    "",
                    "",
                    "",
                    "",
                    "",
                    "",
                    "",
                    "",
                    "",
                    "",
                    "",
                    "",
                    "",
                    "",
                    "",
                    "",
                    "",
                    "",
                    "",
                    "",
                    "",
                    "",
                    "",
                    "",
                    "",
                    "",
                    "",
                    "",
                    "",
                    "",
                    "",
                    "",
                    "",
                    "",
                    "",
                    "",
                    "",
                    "",
                    "",
                    "",
                    "",
                    "",
                    "",
                    "",
                    "",
                    "",
                    "",
                    "",
                    "",
                    "",
                    "",
                    "",
                    "",
                    "",
                    "",
                    "",
                    "",
                    "",
                    "",
                    "",
                    "",
                    "",
                    "",
                    "",
                    "",
                    "",
                    "",
                    "",
                    "",
                    "",
                    "",
                    "",
                    "",
                    "",
                    "",
                    "",
                    "",
                    "",
                    "",
                    "",
                    "",
                    "",
                    "",
                    "",
                    "",
                    "",
                    "",
                    "",
                    "",
                    "",
                    "",
                    "",
                    "",
                    "",
                    "",
                    "",
                    "",
                    "",
                    "",
                    "",
                    "",
                    "",
                    "",
                    "",
                    "",
                    "",
                    "",
                    "",
                    "",
                    "",
                    "",
                    "",
                    "",
                    "",
                    "",
                    "",
                    "",
                    "",
                    "",
                    "",
                    "",
                    "",
                    "",
                    "",
                    "",
                    "",
                    "",
                    "",
                    "",
                    "",
                    "",
                    "",
                    "",
                    "",
                    "",
                    "",
                    "",
                    ""
                  ],
                  "type": "treemap",
                  "values": [
                    37,
                    1,
                    1,
                    6,
                    1,
                    4,
                    2,
                    13,
                    1,
                    5,
                    25,
                    5,
                    22,
                    4,
                    28,
                    1,
                    5,
                    5,
                    4,
                    5,
                    1,
                    1892,
                    3,
                    35,
                    1,
                    31,
                    39,
                    3,
                    1,
                    9,
                    3,
                    1,
                    11,
                    18,
                    223,
                    1,
                    40,
                    1,
                    99,
                    6,
                    115,
                    93,
                    3,
                    1,
                    9,
                    1,
                    91,
                    3,
                    19,
                    2,
                    2,
                    46,
                    1,
                    5,
                    1,
                    374,
                    8,
                    83,
                    2,
                    253,
                    3,
                    6,
                    2,
                    1,
                    1,
                    1,
                    1,
                    2,
                    18,
                    1,
                    1,
                    23,
                    2,
                    4,
                    1,
                    2,
                    48,
                    6,
                    1,
                    166,
                    94,
                    9,
                    5,
                    1,
                    1,
                    2,
                    4,
                    1,
                    5,
                    12,
                    1,
                    1,
                    1,
                    6,
                    1,
                    3,
                    10,
                    4,
                    2,
                    37,
                    54,
                    8,
                    161,
                    4,
                    3,
                    1,
                    9,
                    1,
                    2,
                    1,
                    2,
                    7,
                    5,
                    105,
                    2,
                    9,
                    1,
                    2,
                    12,
                    1,
                    15,
                    1,
                    42,
                    2,
                    539,
                    32,
                    219,
                    2,
                    456,
                    19,
                    7,
                    57,
                    153,
                    4,
                    1,
                    3,
                    2,
                    1063,
                    4,
                    6,
                    14,
                    1,
                    5,
                    16,
                    2,
                    2,
                    2,
                    1,
                    13,
                    7,
                    19,
                    8,
                    4,
                    61,
                    2,
                    9,
                    1,
                    1,
                    50,
                    17,
                    2,
                    9,
                    7,
                    1,
                    3,
                    4,
                    2,
                    2,
                    1,
                    1,
                    6,
                    4,
                    3,
                    3,
                    1,
                    3,
                    46,
                    4,
                    3,
                    13,
                    3,
                    16,
                    30,
                    32,
                    3,
                    3,
                    1,
                    1,
                    28,
                    1,
                    2,
                    7,
                    8,
                    2,
                    1698,
                    17,
                    15,
                    1,
                    4,
                    4,
                    1,
                    16,
                    4,
                    4,
                    1,
                    8,
                    17,
                    5,
                    9,
                    3,
                    1,
                    5,
                    24,
                    4,
                    2,
                    1,
                    1,
                    3,
                    1,
                    2,
                    2,
                    2,
                    4,
                    1,
                    6,
                    2,
                    132,
                    10,
                    10,
                    2,
                    190,
                    11,
                    1,
                    2,
                    466,
                    1,
                    1,
                    2,
                    1,
                    1,
                    2,
                    2,
                    1,
                    91,
                    1,
                    451,
                    5,
                    4,
                    16,
                    2,
                    3,
                    97,
                    1415,
                    1,
                    1,
                    2,
                    343,
                    158,
                    12,
                    6,
                    2,
                    11,
                    1,
                    2,
                    4,
                    3,
                    102,
                    1,
                    2,
                    1,
                    4,
                    3,
                    4,
                    316,
                    1,
                    17,
                    14,
                    1,
                    2,
                    2,
                    13,
                    3,
                    3,
                    136,
                    2,
                    4,
                    293,
                    1,
                    5,
                    4,
                    4,
                    1,
                    3,
                    12,
                    1,
                    23,
                    3,
                    14,
                    1,
                    37,
                    9,
                    5,
                    2,
                    13,
                    2,
                    31,
                    3,
                    10,
                    1,
                    1,
                    49,
                    7,
                    2,
                    15,
                    2,
                    3,
                    63,
                    29,
                    4,
                    146,
                    5,
                    2,
                    1,
                    4,
                    45,
                    1,
                    1301,
                    1,
                    3,
                    3,
                    5,
                    4,
                    1,
                    2,
                    847,
                    1,
                    2,
                    3,
                    4,
                    4,
                    15,
                    7,
                    1,
                    2,
                    3,
                    3,
                    1,
                    1,
                    93,
                    3,
                    178,
                    2,
                    1,
                    4,
                    7,
                    5,
                    7,
                    3,
                    1,
                    2,
                    1,
                    10,
                    3,
                    5,
                    1,
                    3,
                    1,
                    4,
                    1,
                    2,
                    203,
                    19,
                    16,
                    5,
                    1,
                    6,
                    1,
                    37,
                    5,
                    1,
                    25,
                    91,
                    21,
                    1,
                    1,
                    4,
                    3,
                    76,
                    2,
                    9,
                    1,
                    4,
                    1,
                    24,
                    13,
                    2112,
                    4,
                    3,
                    12,
                    4,
                    4,
                    1,
                    2,
                    34,
                    1,
                    1,
                    4,
                    1,
                    5,
                    5333,
                    2,
                    4,
                    100,
                    1,
                    25,
                    2,
                    94,
                    202,
                    1,
                    1,
                    1,
                    3,
                    7,
                    8,
                    16,
                    5,
                    10,
                    37,
                    1,
                    6,
                    1,
                    2,
                    1,
                    1,
                    6,
                    1,
                    13,
                    29,
                    2,
                    73,
                    32,
                    2,
                    1,
                    1,
                    1670,
                    43,
                    2,
                    1,
                    12,
                    1,
                    1,
                    3,
                    156,
                    25,
                    27,
                    2,
                    66,
                    2006,
                    1,
                    3,
                    1,
                    5,
                    1,
                    14,
                    40,
                    6,
                    43,
                    20,
                    38,
                    11,
                    840,
                    1,
                    12,
                    57,
                    2,
                    5,
                    56,
                    3,
                    13,
                    617,
                    115,
                    199,
                    21,
                    24,
                    3,
                    5,
                    1,
                    1,
                    4,
                    2,
                    2,
                    6,
                    1,
                    3,
                    6,
                    44,
                    1,
                    2,
                    305,
                    1,
                    15,
                    1,
                    8,
                    771,
                    1,
                    4,
                    1,
                    97,
                    1,
                    1,
                    23,
                    61,
                    3,
                    1,
                    3,
                    1,
                    77,
                    3,
                    1,
                    2,
                    3,
                    2,
                    2,
                    53,
                    2,
                    1,
                    2,
                    1,
                    2,
                    1,
                    13,
                    90,
                    3,
                    32,
                    5,
                    39,
                    1,
                    2,
                    3,
                    1,
                    26,
                    1,
                    13,
                    5,
                    1,
                    2,
                    2,
                    4,
                    1131,
                    2,
                    12,
                    2,
                    1,
                    1,
                    1,
                    44,
                    346,
                    12,
                    1,
                    18,
                    7,
                    1,
                    1144,
                    16,
                    2851,
                    1,
                    113,
                    4,
                    579,
                    6,
                    1,
                    1,
                    2,
                    3,
                    6,
                    7,
                    1,
                    152,
                    1,
                    1,
                    16,
                    3,
                    2,
                    16,
                    3,
                    1,
                    8,
                    1,
                    26,
                    1,
                    21,
                    1,
                    1,
                    7,
                    15,
                    3,
                    3,
                    2,
                    187,
                    1,
                    1,
                    4,
                    3,
                    1,
                    1,
                    141,
                    2,
                    2,
                    2,
                    3,
                    6,
                    20,
                    1,
                    8,
                    7,
                    4,
                    2,
                    230,
                    2,
                    4,
                    155,
                    1,
                    1,
                    40,
                    1,
                    26,
                    5,
                    4,
                    8,
                    2,
                    1,
                    86,
                    2,
                    21,
                    42,
                    1,
                    116,
                    4,
                    4,
                    3,
                    3,
                    2,
                    18,
                    3,
                    123,
                    11,
                    1,
                    2,
                    851,
                    3,
                    474,
                    1,
                    274,
                    7,
                    6,
                    1,
                    3,
                    4,
                    1,
                    16,
                    1,
                    229,
                    3,
                    692,
                    2,
                    3,
                    6,
                    10,
                    4,
                    2,
                    16,
                    3,
                    343,
                    1,
                    4,
                    39,
                    2,
                    547,
                    1,
                    9,
                    2,
                    4,
                    6,
                    84,
                    332,
                    1,
                    18,
                    1,
                    1,
                    1,
                    7,
                    4,
                    36,
                    3,
                    27,
                    1,
                    9,
                    5,
                    3,
                    767,
                    7,
                    3,
                    4,
                    1,
                    7,
                    2,
                    1,
                    2,
                    9,
                    338,
                    31,
                    6,
                    77,
                    1,
                    1,
                    1,
                    6,
                    6,
                    1,
                    245,
                    786,
                    2,
                    99,
                    13,
                    5,
                    14,
                    4,
                    4,
                    14,
                    11,
                    111,
                    3,
                    1,
                    2,
                    1,
                    1,
                    15,
                    8,
                    7,
                    2,
                    1,
                    1,
                    1,
                    2,
                    9,
                    62,
                    5,
                    39,
                    3,
                    5,
                    2,
                    16,
                    1,
                    10,
                    34,
                    3,
                    1,
                    3,
                    86,
                    9,
                    1,
                    2,
                    54,
                    16,
                    3,
                    391,
                    2,
                    2,
                    1
                  ]
                }
              ],
              "layout": {
                "height": 500,
                "legend": {
                  "tracegroupgap": 0
                },
                "template": {
                  "data": {
                    "bar": [
                      {
                        "error_x": {
                          "color": "#2a3f5f"
                        },
                        "error_y": {
                          "color": "#2a3f5f"
                        },
                        "marker": {
                          "line": {
                            "color": "#E5ECF6",
                            "width": 0.5
                          },
                          "pattern": {
                            "fillmode": "overlay",
                            "size": 10,
                            "solidity": 0.2
                          }
                        },
                        "type": "bar"
                      }
                    ],
                    "barpolar": [
                      {
                        "marker": {
                          "line": {
                            "color": "#E5ECF6",
                            "width": 0.5
                          },
                          "pattern": {
                            "fillmode": "overlay",
                            "size": 10,
                            "solidity": 0.2
                          }
                        },
                        "type": "barpolar"
                      }
                    ],
                    "carpet": [
                      {
                        "aaxis": {
                          "endlinecolor": "#2a3f5f",
                          "gridcolor": "white",
                          "linecolor": "white",
                          "minorgridcolor": "white",
                          "startlinecolor": "#2a3f5f"
                        },
                        "baxis": {
                          "endlinecolor": "#2a3f5f",
                          "gridcolor": "white",
                          "linecolor": "white",
                          "minorgridcolor": "white",
                          "startlinecolor": "#2a3f5f"
                        },
                        "type": "carpet"
                      }
                    ],
                    "choropleth": [
                      {
                        "colorbar": {
                          "outlinewidth": 0,
                          "ticks": ""
                        },
                        "type": "choropleth"
                      }
                    ],
                    "contour": [
                      {
                        "colorbar": {
                          "outlinewidth": 0,
                          "ticks": ""
                        },
                        "colorscale": [
                          [
                            0,
                            "#0d0887"
                          ],
                          [
                            0.1111111111111111,
                            "#46039f"
                          ],
                          [
                            0.2222222222222222,
                            "#7201a8"
                          ],
                          [
                            0.3333333333333333,
                            "#9c179e"
                          ],
                          [
                            0.4444444444444444,
                            "#bd3786"
                          ],
                          [
                            0.5555555555555556,
                            "#d8576b"
                          ],
                          [
                            0.6666666666666666,
                            "#ed7953"
                          ],
                          [
                            0.7777777777777778,
                            "#fb9f3a"
                          ],
                          [
                            0.8888888888888888,
                            "#fdca26"
                          ],
                          [
                            1,
                            "#f0f921"
                          ]
                        ],
                        "type": "contour"
                      }
                    ],
                    "contourcarpet": [
                      {
                        "colorbar": {
                          "outlinewidth": 0,
                          "ticks": ""
                        },
                        "type": "contourcarpet"
                      }
                    ],
                    "heatmap": [
                      {
                        "colorbar": {
                          "outlinewidth": 0,
                          "ticks": ""
                        },
                        "colorscale": [
                          [
                            0,
                            "#0d0887"
                          ],
                          [
                            0.1111111111111111,
                            "#46039f"
                          ],
                          [
                            0.2222222222222222,
                            "#7201a8"
                          ],
                          [
                            0.3333333333333333,
                            "#9c179e"
                          ],
                          [
                            0.4444444444444444,
                            "#bd3786"
                          ],
                          [
                            0.5555555555555556,
                            "#d8576b"
                          ],
                          [
                            0.6666666666666666,
                            "#ed7953"
                          ],
                          [
                            0.7777777777777778,
                            "#fb9f3a"
                          ],
                          [
                            0.8888888888888888,
                            "#fdca26"
                          ],
                          [
                            1,
                            "#f0f921"
                          ]
                        ],
                        "type": "heatmap"
                      }
                    ],
                    "heatmapgl": [
                      {
                        "colorbar": {
                          "outlinewidth": 0,
                          "ticks": ""
                        },
                        "colorscale": [
                          [
                            0,
                            "#0d0887"
                          ],
                          [
                            0.1111111111111111,
                            "#46039f"
                          ],
                          [
                            0.2222222222222222,
                            "#7201a8"
                          ],
                          [
                            0.3333333333333333,
                            "#9c179e"
                          ],
                          [
                            0.4444444444444444,
                            "#bd3786"
                          ],
                          [
                            0.5555555555555556,
                            "#d8576b"
                          ],
                          [
                            0.6666666666666666,
                            "#ed7953"
                          ],
                          [
                            0.7777777777777778,
                            "#fb9f3a"
                          ],
                          [
                            0.8888888888888888,
                            "#fdca26"
                          ],
                          [
                            1,
                            "#f0f921"
                          ]
                        ],
                        "type": "heatmapgl"
                      }
                    ],
                    "histogram": [
                      {
                        "marker": {
                          "pattern": {
                            "fillmode": "overlay",
                            "size": 10,
                            "solidity": 0.2
                          }
                        },
                        "type": "histogram"
                      }
                    ],
                    "histogram2d": [
                      {
                        "colorbar": {
                          "outlinewidth": 0,
                          "ticks": ""
                        },
                        "colorscale": [
                          [
                            0,
                            "#0d0887"
                          ],
                          [
                            0.1111111111111111,
                            "#46039f"
                          ],
                          [
                            0.2222222222222222,
                            "#7201a8"
                          ],
                          [
                            0.3333333333333333,
                            "#9c179e"
                          ],
                          [
                            0.4444444444444444,
                            "#bd3786"
                          ],
                          [
                            0.5555555555555556,
                            "#d8576b"
                          ],
                          [
                            0.6666666666666666,
                            "#ed7953"
                          ],
                          [
                            0.7777777777777778,
                            "#fb9f3a"
                          ],
                          [
                            0.8888888888888888,
                            "#fdca26"
                          ],
                          [
                            1,
                            "#f0f921"
                          ]
                        ],
                        "type": "histogram2d"
                      }
                    ],
                    "histogram2dcontour": [
                      {
                        "colorbar": {
                          "outlinewidth": 0,
                          "ticks": ""
                        },
                        "colorscale": [
                          [
                            0,
                            "#0d0887"
                          ],
                          [
                            0.1111111111111111,
                            "#46039f"
                          ],
                          [
                            0.2222222222222222,
                            "#7201a8"
                          ],
                          [
                            0.3333333333333333,
                            "#9c179e"
                          ],
                          [
                            0.4444444444444444,
                            "#bd3786"
                          ],
                          [
                            0.5555555555555556,
                            "#d8576b"
                          ],
                          [
                            0.6666666666666666,
                            "#ed7953"
                          ],
                          [
                            0.7777777777777778,
                            "#fb9f3a"
                          ],
                          [
                            0.8888888888888888,
                            "#fdca26"
                          ],
                          [
                            1,
                            "#f0f921"
                          ]
                        ],
                        "type": "histogram2dcontour"
                      }
                    ],
                    "mesh3d": [
                      {
                        "colorbar": {
                          "outlinewidth": 0,
                          "ticks": ""
                        },
                        "type": "mesh3d"
                      }
                    ],
                    "parcoords": [
                      {
                        "line": {
                          "colorbar": {
                            "outlinewidth": 0,
                            "ticks": ""
                          }
                        },
                        "type": "parcoords"
                      }
                    ],
                    "pie": [
                      {
                        "automargin": true,
                        "type": "pie"
                      }
                    ],
                    "scatter": [
                      {
                        "fillpattern": {
                          "fillmode": "overlay",
                          "size": 10,
                          "solidity": 0.2
                        },
                        "type": "scatter"
                      }
                    ],
                    "scatter3d": [
                      {
                        "line": {
                          "colorbar": {
                            "outlinewidth": 0,
                            "ticks": ""
                          }
                        },
                        "marker": {
                          "colorbar": {
                            "outlinewidth": 0,
                            "ticks": ""
                          }
                        },
                        "type": "scatter3d"
                      }
                    ],
                    "scattercarpet": [
                      {
                        "marker": {
                          "colorbar": {
                            "outlinewidth": 0,
                            "ticks": ""
                          }
                        },
                        "type": "scattercarpet"
                      }
                    ],
                    "scattergeo": [
                      {
                        "marker": {
                          "colorbar": {
                            "outlinewidth": 0,
                            "ticks": ""
                          }
                        },
                        "type": "scattergeo"
                      }
                    ],
                    "scattergl": [
                      {
                        "marker": {
                          "colorbar": {
                            "outlinewidth": 0,
                            "ticks": ""
                          }
                        },
                        "type": "scattergl"
                      }
                    ],
                    "scattermapbox": [
                      {
                        "marker": {
                          "colorbar": {
                            "outlinewidth": 0,
                            "ticks": ""
                          }
                        },
                        "type": "scattermapbox"
                      }
                    ],
                    "scatterpolar": [
                      {
                        "marker": {
                          "colorbar": {
                            "outlinewidth": 0,
                            "ticks": ""
                          }
                        },
                        "type": "scatterpolar"
                      }
                    ],
                    "scatterpolargl": [
                      {
                        "marker": {
                          "colorbar": {
                            "outlinewidth": 0,
                            "ticks": ""
                          }
                        },
                        "type": "scatterpolargl"
                      }
                    ],
                    "scatterternary": [
                      {
                        "marker": {
                          "colorbar": {
                            "outlinewidth": 0,
                            "ticks": ""
                          }
                        },
                        "type": "scatterternary"
                      }
                    ],
                    "surface": [
                      {
                        "colorbar": {
                          "outlinewidth": 0,
                          "ticks": ""
                        },
                        "colorscale": [
                          [
                            0,
                            "#0d0887"
                          ],
                          [
                            0.1111111111111111,
                            "#46039f"
                          ],
                          [
                            0.2222222222222222,
                            "#7201a8"
                          ],
                          [
                            0.3333333333333333,
                            "#9c179e"
                          ],
                          [
                            0.4444444444444444,
                            "#bd3786"
                          ],
                          [
                            0.5555555555555556,
                            "#d8576b"
                          ],
                          [
                            0.6666666666666666,
                            "#ed7953"
                          ],
                          [
                            0.7777777777777778,
                            "#fb9f3a"
                          ],
                          [
                            0.8888888888888888,
                            "#fdca26"
                          ],
                          [
                            1,
                            "#f0f921"
                          ]
                        ],
                        "type": "surface"
                      }
                    ],
                    "table": [
                      {
                        "cells": {
                          "fill": {
                            "color": "#EBF0F8"
                          },
                          "line": {
                            "color": "white"
                          }
                        },
                        "header": {
                          "fill": {
                            "color": "#C8D4E3"
                          },
                          "line": {
                            "color": "white"
                          }
                        },
                        "type": "table"
                      }
                    ]
                  },
                  "layout": {
                    "annotationdefaults": {
                      "arrowcolor": "#2a3f5f",
                      "arrowhead": 0,
                      "arrowwidth": 1
                    },
                    "autotypenumbers": "strict",
                    "coloraxis": {
                      "colorbar": {
                        "outlinewidth": 0,
                        "ticks": ""
                      }
                    },
                    "colorscale": {
                      "diverging": [
                        [
                          0,
                          "#8e0152"
                        ],
                        [
                          0.1,
                          "#c51b7d"
                        ],
                        [
                          0.2,
                          "#de77ae"
                        ],
                        [
                          0.3,
                          "#f1b6da"
                        ],
                        [
                          0.4,
                          "#fde0ef"
                        ],
                        [
                          0.5,
                          "#f7f7f7"
                        ],
                        [
                          0.6,
                          "#e6f5d0"
                        ],
                        [
                          0.7,
                          "#b8e186"
                        ],
                        [
                          0.8,
                          "#7fbc41"
                        ],
                        [
                          0.9,
                          "#4d9221"
                        ],
                        [
                          1,
                          "#276419"
                        ]
                      ],
                      "sequential": [
                        [
                          0,
                          "#0d0887"
                        ],
                        [
                          0.1111111111111111,
                          "#46039f"
                        ],
                        [
                          0.2222222222222222,
                          "#7201a8"
                        ],
                        [
                          0.3333333333333333,
                          "#9c179e"
                        ],
                        [
                          0.4444444444444444,
                          "#bd3786"
                        ],
                        [
                          0.5555555555555556,
                          "#d8576b"
                        ],
                        [
                          0.6666666666666666,
                          "#ed7953"
                        ],
                        [
                          0.7777777777777778,
                          "#fb9f3a"
                        ],
                        [
                          0.8888888888888888,
                          "#fdca26"
                        ],
                        [
                          1,
                          "#f0f921"
                        ]
                      ],
                      "sequentialminus": [
                        [
                          0,
                          "#0d0887"
                        ],
                        [
                          0.1111111111111111,
                          "#46039f"
                        ],
                        [
                          0.2222222222222222,
                          "#7201a8"
                        ],
                        [
                          0.3333333333333333,
                          "#9c179e"
                        ],
                        [
                          0.4444444444444444,
                          "#bd3786"
                        ],
                        [
                          0.5555555555555556,
                          "#d8576b"
                        ],
                        [
                          0.6666666666666666,
                          "#ed7953"
                        ],
                        [
                          0.7777777777777778,
                          "#fb9f3a"
                        ],
                        [
                          0.8888888888888888,
                          "#fdca26"
                        ],
                        [
                          1,
                          "#f0f921"
                        ]
                      ]
                    },
                    "colorway": [
                      "#636efa",
                      "#EF553B",
                      "#00cc96",
                      "#ab63fa",
                      "#FFA15A",
                      "#19d3f3",
                      "#FF6692",
                      "#B6E880",
                      "#FF97FF",
                      "#FECB52"
                    ],
                    "font": {
                      "color": "#2a3f5f"
                    },
                    "geo": {
                      "bgcolor": "white",
                      "lakecolor": "white",
                      "landcolor": "#E5ECF6",
                      "showlakes": true,
                      "showland": true,
                      "subunitcolor": "white"
                    },
                    "hoverlabel": {
                      "align": "left"
                    },
                    "hovermode": "closest",
                    "mapbox": {
                      "style": "light"
                    },
                    "paper_bgcolor": "white",
                    "plot_bgcolor": "#E5ECF6",
                    "polar": {
                      "angularaxis": {
                        "gridcolor": "white",
                        "linecolor": "white",
                        "ticks": ""
                      },
                      "bgcolor": "#E5ECF6",
                      "radialaxis": {
                        "gridcolor": "white",
                        "linecolor": "white",
                        "ticks": ""
                      }
                    },
                    "scene": {
                      "xaxis": {
                        "backgroundcolor": "#E5ECF6",
                        "gridcolor": "white",
                        "gridwidth": 2,
                        "linecolor": "white",
                        "showbackground": true,
                        "ticks": "",
                        "zerolinecolor": "white"
                      },
                      "yaxis": {
                        "backgroundcolor": "#E5ECF6",
                        "gridcolor": "white",
                        "gridwidth": 2,
                        "linecolor": "white",
                        "showbackground": true,
                        "ticks": "",
                        "zerolinecolor": "white"
                      },
                      "zaxis": {
                        "backgroundcolor": "#E5ECF6",
                        "gridcolor": "white",
                        "gridwidth": 2,
                        "linecolor": "white",
                        "showbackground": true,
                        "ticks": "",
                        "zerolinecolor": "white"
                      }
                    },
                    "shapedefaults": {
                      "line": {
                        "color": "#2a3f5f"
                      }
                    },
                    "ternary": {
                      "aaxis": {
                        "gridcolor": "white",
                        "linecolor": "white",
                        "ticks": ""
                      },
                      "baxis": {
                        "gridcolor": "white",
                        "linecolor": "white",
                        "ticks": ""
                      },
                      "bgcolor": "#E5ECF6",
                      "caxis": {
                        "gridcolor": "white",
                        "linecolor": "white",
                        "ticks": ""
                      }
                    },
                    "title": {
                      "x": 0.05
                    },
                    "xaxis": {
                      "automargin": true,
                      "gridcolor": "white",
                      "linecolor": "white",
                      "ticks": "",
                      "title": {
                        "standoff": 15
                      },
                      "zerolinecolor": "white",
                      "zerolinewidth": 2
                    },
                    "yaxis": {
                      "automargin": true,
                      "gridcolor": "white",
                      "linecolor": "white",
                      "ticks": "",
                      "title": {
                        "standoff": 15
                      },
                      "zerolinecolor": "white",
                      "zerolinewidth": 2
                    }
                  }
                },
                "title": {
                  "text": "Распределение количества вакансий по регионам"
                },
                "width": 700
              }
            }
          },
          "metadata": {},
          "output_type": "display_data"
        }
      ],
      "source": [
        "# текст запроса\n",
        "query_map = f'''\n",
        "SELECT a.name as name_area, COUNT(v.id) as count_vac -- Вывод регионов и подсчет количества вакансий\n",
        "  FROM vacancies as v\n",
        "  LEFT JOIN areas as a \n",
        "    ON a.id = v.area_id -- соединяем таблицы по id региона \n",
        "  GROUP BY a.id -- группируем по id региона\n",
        "  ORDER BY COUNT(v.id) DESC -- сортируем по убыванию по количеству вакансий\n",
        "'''\n",
        "# результат запроса\n",
        "treemap_data = pd.read_sql_query(query_map, connection)\n",
        "\n",
        "#строим график\n",
        "fig = px.treemap(\n",
        "    data_frame=treemap_data, #датафрейм\n",
        "    path=['name_area'], #кат. признак, для которого строится график\n",
        "    values='count_vac', #параметр, который сравнивается\n",
        "    height=500, #высота\n",
        "    width=700, #ширина\n",
        "    title='Распределение количества вакансий по регионам' #заголовок\n",
        ")\n",
        "\n",
        "#отображаем его\n",
        "fig.show()"
      ]
    },
    {
      "cell_type": "markdown",
      "metadata": {},
      "source": [
        "Вывод: регионы с наибольшим количеством ваканчий: Москва, Санкт-Петербург, Минск. Т.е. большие города."
      ]
    },
    {
      "cell_type": "markdown",
      "metadata": {},
      "source": [
        "Распределение количества вакансий по работодателям"
      ]
    },
    {
      "cell_type": "code",
      "execution_count": 51,
      "metadata": {},
      "outputs": [
        {
          "name": "stderr",
          "output_type": "stream",
          "text": [
            "C:\\Users\\koshe\\AppData\\Local\\Temp\\ipykernel_16088\\525295708.py:15: UserWarning:\n",
            "\n",
            "pandas only supports SQLAlchemy connectable (engine/connection) or database string URI or sqlite3 DBAPI2 connection. Other DBAPI2 objects are not tested. Please consider using SQLAlchemy.\n",
            "\n"
          ]
        },
        {
          "data": {
            "application/vnd.plotly.v1+json": {
              "config": {
                "plotlyServerURL": "https://plot.ly"
              },
              "data": [
                {
                  "branchvalues": "total",
                  "domain": {
                    "x": [
                      0,
                      1
                    ],
                    "y": [
                      0,
                      1
                    ]
                  },
                  "hovertemplate": "labels=%{label}<br>cnt=%{value}<br>parent=%{parent}<br>id=%{id}<extra></extra>",
                  "ids": [
                    "1C-Рарус",
                    "ANCOR",
                    "Andersen",
                    "Bell Integrator",
                    "DNS Головной офис",
                    "DataArt",
                    "IBS",
                    "Itransition",
                    "Nitka Technologies",
                    "Ozon",
                    "Playrix",
                    "Positive Technologies",
                    "SberTech",
                    "Softline",
                    "Tele2",
                    "VK",
                    "АЛНАС",
                    "Банк ВТБ (ПАО)",
                    "Газпром нефть",
                    "Гринатом",
                    "Диплей",
                    "ИК СИБИНТЕК",
                    "Иннотех, Группа компаний",
                    "ИнфоТеКС",
                    "Контур",
                    "ЛАНИТ",
                    "Лига Цифровой Экономики",
                    "МАГНИТ, Розничная сеть",
                    "МТС",
                    "МегаФон",
                    "Норникель",
                    "ООО ЕФИН ",
                    "Первый Бит",
                    "Поляков Денис Иванович",
                    "Почта России",
                    "Ростелеком",
                    "СБЕР",
                    "Северсталь",
                    "СимбирСофт",
                    "Совкомбанк",
                    "Совкомбанк Технологии",
                    "Спецремонт",
                    "Спортмастер",
                    "Тензор",
                    "Тинькофф",
                    "Центр Высоких Технологий",
                    "Центральный банк Российской Федерации",
                    "ЭР-Телеком",
                    "ЭФКО, Управляющая компания",
                    "Яндекс"
                  ],
                  "labels": [
                    "1C-Рарус",
                    "ANCOR",
                    "Andersen",
                    "Bell Integrator",
                    "DNS Головной офис",
                    "DataArt",
                    "IBS",
                    "Itransition",
                    "Nitka Technologies",
                    "Ozon",
                    "Playrix",
                    "Positive Technologies",
                    "SberTech",
                    "Softline",
                    "Tele2",
                    "VK",
                    "АЛНАС",
                    "Банк ВТБ (ПАО)",
                    "Газпром нефть",
                    "Гринатом",
                    "Диплей",
                    "ИК СИБИНТЕК",
                    "Иннотех, Группа компаний",
                    "ИнфоТеКС",
                    "Контур",
                    "ЛАНИТ",
                    "Лига Цифровой Экономики",
                    "МАГНИТ, Розничная сеть",
                    "МТС",
                    "МегаФон",
                    "Норникель",
                    "ООО ЕФИН ",
                    "Первый Бит",
                    "Поляков Денис Иванович",
                    "Почта России",
                    "Ростелеком",
                    "СБЕР",
                    "Северсталь",
                    "СимбирСофт",
                    "Совкомбанк",
                    "Совкомбанк Технологии",
                    "Спецремонт",
                    "Спортмастер",
                    "Тензор",
                    "Тинькофф",
                    "Центр Высоких Технологий",
                    "Центральный банк Российской Федерации",
                    "ЭР-Телеком",
                    "ЭФКО, Управляющая компания",
                    "Яндекс"
                  ],
                  "name": "",
                  "parents": [
                    "",
                    "",
                    "",
                    "",
                    "",
                    "",
                    "",
                    "",
                    "",
                    "",
                    "",
                    "",
                    "",
                    "",
                    "",
                    "",
                    "",
                    "",
                    "",
                    "",
                    "",
                    "",
                    "",
                    "",
                    "",
                    "",
                    "",
                    "",
                    "",
                    "",
                    "",
                    "",
                    "",
                    "",
                    "",
                    "",
                    "",
                    "",
                    "",
                    "",
                    "",
                    "",
                    "",
                    "",
                    "",
                    "",
                    "",
                    "",
                    "",
                    ""
                  ],
                  "type": "treemap",
                  "values": [
                    80,
                    118,
                    155,
                    121,
                    72,
                    247,
                    175,
                    65,
                    83,
                    175,
                    90,
                    73,
                    66,
                    108,
                    67,
                    150,
                    69,
                    94,
                    331,
                    76,
                    68,
                    327,
                    122,
                    92,
                    80,
                    117,
                    110,
                    114,
                    292,
                    104,
                    79,
                    71,
                    176,
                    127,
                    78,
                    491,
                    428,
                    69,
                    79,
                    99,
                    204,
                    151,
                    72,
                    155,
                    444,
                    96,
                    88,
                    65,
                    91,
                    1933
                  ]
                }
              ],
              "layout": {
                "height": 500,
                "legend": {
                  "tracegroupgap": 0
                },
                "template": {
                  "data": {
                    "bar": [
                      {
                        "error_x": {
                          "color": "#2a3f5f"
                        },
                        "error_y": {
                          "color": "#2a3f5f"
                        },
                        "marker": {
                          "line": {
                            "color": "#E5ECF6",
                            "width": 0.5
                          },
                          "pattern": {
                            "fillmode": "overlay",
                            "size": 10,
                            "solidity": 0.2
                          }
                        },
                        "type": "bar"
                      }
                    ],
                    "barpolar": [
                      {
                        "marker": {
                          "line": {
                            "color": "#E5ECF6",
                            "width": 0.5
                          },
                          "pattern": {
                            "fillmode": "overlay",
                            "size": 10,
                            "solidity": 0.2
                          }
                        },
                        "type": "barpolar"
                      }
                    ],
                    "carpet": [
                      {
                        "aaxis": {
                          "endlinecolor": "#2a3f5f",
                          "gridcolor": "white",
                          "linecolor": "white",
                          "minorgridcolor": "white",
                          "startlinecolor": "#2a3f5f"
                        },
                        "baxis": {
                          "endlinecolor": "#2a3f5f",
                          "gridcolor": "white",
                          "linecolor": "white",
                          "minorgridcolor": "white",
                          "startlinecolor": "#2a3f5f"
                        },
                        "type": "carpet"
                      }
                    ],
                    "choropleth": [
                      {
                        "colorbar": {
                          "outlinewidth": 0,
                          "ticks": ""
                        },
                        "type": "choropleth"
                      }
                    ],
                    "contour": [
                      {
                        "colorbar": {
                          "outlinewidth": 0,
                          "ticks": ""
                        },
                        "colorscale": [
                          [
                            0,
                            "#0d0887"
                          ],
                          [
                            0.1111111111111111,
                            "#46039f"
                          ],
                          [
                            0.2222222222222222,
                            "#7201a8"
                          ],
                          [
                            0.3333333333333333,
                            "#9c179e"
                          ],
                          [
                            0.4444444444444444,
                            "#bd3786"
                          ],
                          [
                            0.5555555555555556,
                            "#d8576b"
                          ],
                          [
                            0.6666666666666666,
                            "#ed7953"
                          ],
                          [
                            0.7777777777777778,
                            "#fb9f3a"
                          ],
                          [
                            0.8888888888888888,
                            "#fdca26"
                          ],
                          [
                            1,
                            "#f0f921"
                          ]
                        ],
                        "type": "contour"
                      }
                    ],
                    "contourcarpet": [
                      {
                        "colorbar": {
                          "outlinewidth": 0,
                          "ticks": ""
                        },
                        "type": "contourcarpet"
                      }
                    ],
                    "heatmap": [
                      {
                        "colorbar": {
                          "outlinewidth": 0,
                          "ticks": ""
                        },
                        "colorscale": [
                          [
                            0,
                            "#0d0887"
                          ],
                          [
                            0.1111111111111111,
                            "#46039f"
                          ],
                          [
                            0.2222222222222222,
                            "#7201a8"
                          ],
                          [
                            0.3333333333333333,
                            "#9c179e"
                          ],
                          [
                            0.4444444444444444,
                            "#bd3786"
                          ],
                          [
                            0.5555555555555556,
                            "#d8576b"
                          ],
                          [
                            0.6666666666666666,
                            "#ed7953"
                          ],
                          [
                            0.7777777777777778,
                            "#fb9f3a"
                          ],
                          [
                            0.8888888888888888,
                            "#fdca26"
                          ],
                          [
                            1,
                            "#f0f921"
                          ]
                        ],
                        "type": "heatmap"
                      }
                    ],
                    "heatmapgl": [
                      {
                        "colorbar": {
                          "outlinewidth": 0,
                          "ticks": ""
                        },
                        "colorscale": [
                          [
                            0,
                            "#0d0887"
                          ],
                          [
                            0.1111111111111111,
                            "#46039f"
                          ],
                          [
                            0.2222222222222222,
                            "#7201a8"
                          ],
                          [
                            0.3333333333333333,
                            "#9c179e"
                          ],
                          [
                            0.4444444444444444,
                            "#bd3786"
                          ],
                          [
                            0.5555555555555556,
                            "#d8576b"
                          ],
                          [
                            0.6666666666666666,
                            "#ed7953"
                          ],
                          [
                            0.7777777777777778,
                            "#fb9f3a"
                          ],
                          [
                            0.8888888888888888,
                            "#fdca26"
                          ],
                          [
                            1,
                            "#f0f921"
                          ]
                        ],
                        "type": "heatmapgl"
                      }
                    ],
                    "histogram": [
                      {
                        "marker": {
                          "pattern": {
                            "fillmode": "overlay",
                            "size": 10,
                            "solidity": 0.2
                          }
                        },
                        "type": "histogram"
                      }
                    ],
                    "histogram2d": [
                      {
                        "colorbar": {
                          "outlinewidth": 0,
                          "ticks": ""
                        },
                        "colorscale": [
                          [
                            0,
                            "#0d0887"
                          ],
                          [
                            0.1111111111111111,
                            "#46039f"
                          ],
                          [
                            0.2222222222222222,
                            "#7201a8"
                          ],
                          [
                            0.3333333333333333,
                            "#9c179e"
                          ],
                          [
                            0.4444444444444444,
                            "#bd3786"
                          ],
                          [
                            0.5555555555555556,
                            "#d8576b"
                          ],
                          [
                            0.6666666666666666,
                            "#ed7953"
                          ],
                          [
                            0.7777777777777778,
                            "#fb9f3a"
                          ],
                          [
                            0.8888888888888888,
                            "#fdca26"
                          ],
                          [
                            1,
                            "#f0f921"
                          ]
                        ],
                        "type": "histogram2d"
                      }
                    ],
                    "histogram2dcontour": [
                      {
                        "colorbar": {
                          "outlinewidth": 0,
                          "ticks": ""
                        },
                        "colorscale": [
                          [
                            0,
                            "#0d0887"
                          ],
                          [
                            0.1111111111111111,
                            "#46039f"
                          ],
                          [
                            0.2222222222222222,
                            "#7201a8"
                          ],
                          [
                            0.3333333333333333,
                            "#9c179e"
                          ],
                          [
                            0.4444444444444444,
                            "#bd3786"
                          ],
                          [
                            0.5555555555555556,
                            "#d8576b"
                          ],
                          [
                            0.6666666666666666,
                            "#ed7953"
                          ],
                          [
                            0.7777777777777778,
                            "#fb9f3a"
                          ],
                          [
                            0.8888888888888888,
                            "#fdca26"
                          ],
                          [
                            1,
                            "#f0f921"
                          ]
                        ],
                        "type": "histogram2dcontour"
                      }
                    ],
                    "mesh3d": [
                      {
                        "colorbar": {
                          "outlinewidth": 0,
                          "ticks": ""
                        },
                        "type": "mesh3d"
                      }
                    ],
                    "parcoords": [
                      {
                        "line": {
                          "colorbar": {
                            "outlinewidth": 0,
                            "ticks": ""
                          }
                        },
                        "type": "parcoords"
                      }
                    ],
                    "pie": [
                      {
                        "automargin": true,
                        "type": "pie"
                      }
                    ],
                    "scatter": [
                      {
                        "fillpattern": {
                          "fillmode": "overlay",
                          "size": 10,
                          "solidity": 0.2
                        },
                        "type": "scatter"
                      }
                    ],
                    "scatter3d": [
                      {
                        "line": {
                          "colorbar": {
                            "outlinewidth": 0,
                            "ticks": ""
                          }
                        },
                        "marker": {
                          "colorbar": {
                            "outlinewidth": 0,
                            "ticks": ""
                          }
                        },
                        "type": "scatter3d"
                      }
                    ],
                    "scattercarpet": [
                      {
                        "marker": {
                          "colorbar": {
                            "outlinewidth": 0,
                            "ticks": ""
                          }
                        },
                        "type": "scattercarpet"
                      }
                    ],
                    "scattergeo": [
                      {
                        "marker": {
                          "colorbar": {
                            "outlinewidth": 0,
                            "ticks": ""
                          }
                        },
                        "type": "scattergeo"
                      }
                    ],
                    "scattergl": [
                      {
                        "marker": {
                          "colorbar": {
                            "outlinewidth": 0,
                            "ticks": ""
                          }
                        },
                        "type": "scattergl"
                      }
                    ],
                    "scattermapbox": [
                      {
                        "marker": {
                          "colorbar": {
                            "outlinewidth": 0,
                            "ticks": ""
                          }
                        },
                        "type": "scattermapbox"
                      }
                    ],
                    "scatterpolar": [
                      {
                        "marker": {
                          "colorbar": {
                            "outlinewidth": 0,
                            "ticks": ""
                          }
                        },
                        "type": "scatterpolar"
                      }
                    ],
                    "scatterpolargl": [
                      {
                        "marker": {
                          "colorbar": {
                            "outlinewidth": 0,
                            "ticks": ""
                          }
                        },
                        "type": "scatterpolargl"
                      }
                    ],
                    "scatterternary": [
                      {
                        "marker": {
                          "colorbar": {
                            "outlinewidth": 0,
                            "ticks": ""
                          }
                        },
                        "type": "scatterternary"
                      }
                    ],
                    "surface": [
                      {
                        "colorbar": {
                          "outlinewidth": 0,
                          "ticks": ""
                        },
                        "colorscale": [
                          [
                            0,
                            "#0d0887"
                          ],
                          [
                            0.1111111111111111,
                            "#46039f"
                          ],
                          [
                            0.2222222222222222,
                            "#7201a8"
                          ],
                          [
                            0.3333333333333333,
                            "#9c179e"
                          ],
                          [
                            0.4444444444444444,
                            "#bd3786"
                          ],
                          [
                            0.5555555555555556,
                            "#d8576b"
                          ],
                          [
                            0.6666666666666666,
                            "#ed7953"
                          ],
                          [
                            0.7777777777777778,
                            "#fb9f3a"
                          ],
                          [
                            0.8888888888888888,
                            "#fdca26"
                          ],
                          [
                            1,
                            "#f0f921"
                          ]
                        ],
                        "type": "surface"
                      }
                    ],
                    "table": [
                      {
                        "cells": {
                          "fill": {
                            "color": "#EBF0F8"
                          },
                          "line": {
                            "color": "white"
                          }
                        },
                        "header": {
                          "fill": {
                            "color": "#C8D4E3"
                          },
                          "line": {
                            "color": "white"
                          }
                        },
                        "type": "table"
                      }
                    ]
                  },
                  "layout": {
                    "annotationdefaults": {
                      "arrowcolor": "#2a3f5f",
                      "arrowhead": 0,
                      "arrowwidth": 1
                    },
                    "autotypenumbers": "strict",
                    "coloraxis": {
                      "colorbar": {
                        "outlinewidth": 0,
                        "ticks": ""
                      }
                    },
                    "colorscale": {
                      "diverging": [
                        [
                          0,
                          "#8e0152"
                        ],
                        [
                          0.1,
                          "#c51b7d"
                        ],
                        [
                          0.2,
                          "#de77ae"
                        ],
                        [
                          0.3,
                          "#f1b6da"
                        ],
                        [
                          0.4,
                          "#fde0ef"
                        ],
                        [
                          0.5,
                          "#f7f7f7"
                        ],
                        [
                          0.6,
                          "#e6f5d0"
                        ],
                        [
                          0.7,
                          "#b8e186"
                        ],
                        [
                          0.8,
                          "#7fbc41"
                        ],
                        [
                          0.9,
                          "#4d9221"
                        ],
                        [
                          1,
                          "#276419"
                        ]
                      ],
                      "sequential": [
                        [
                          0,
                          "#0d0887"
                        ],
                        [
                          0.1111111111111111,
                          "#46039f"
                        ],
                        [
                          0.2222222222222222,
                          "#7201a8"
                        ],
                        [
                          0.3333333333333333,
                          "#9c179e"
                        ],
                        [
                          0.4444444444444444,
                          "#bd3786"
                        ],
                        [
                          0.5555555555555556,
                          "#d8576b"
                        ],
                        [
                          0.6666666666666666,
                          "#ed7953"
                        ],
                        [
                          0.7777777777777778,
                          "#fb9f3a"
                        ],
                        [
                          0.8888888888888888,
                          "#fdca26"
                        ],
                        [
                          1,
                          "#f0f921"
                        ]
                      ],
                      "sequentialminus": [
                        [
                          0,
                          "#0d0887"
                        ],
                        [
                          0.1111111111111111,
                          "#46039f"
                        ],
                        [
                          0.2222222222222222,
                          "#7201a8"
                        ],
                        [
                          0.3333333333333333,
                          "#9c179e"
                        ],
                        [
                          0.4444444444444444,
                          "#bd3786"
                        ],
                        [
                          0.5555555555555556,
                          "#d8576b"
                        ],
                        [
                          0.6666666666666666,
                          "#ed7953"
                        ],
                        [
                          0.7777777777777778,
                          "#fb9f3a"
                        ],
                        [
                          0.8888888888888888,
                          "#fdca26"
                        ],
                        [
                          1,
                          "#f0f921"
                        ]
                      ]
                    },
                    "colorway": [
                      "#636efa",
                      "#EF553B",
                      "#00cc96",
                      "#ab63fa",
                      "#FFA15A",
                      "#19d3f3",
                      "#FF6692",
                      "#B6E880",
                      "#FF97FF",
                      "#FECB52"
                    ],
                    "font": {
                      "color": "#2a3f5f"
                    },
                    "geo": {
                      "bgcolor": "white",
                      "lakecolor": "white",
                      "landcolor": "#E5ECF6",
                      "showlakes": true,
                      "showland": true,
                      "subunitcolor": "white"
                    },
                    "hoverlabel": {
                      "align": "left"
                    },
                    "hovermode": "closest",
                    "mapbox": {
                      "style": "light"
                    },
                    "paper_bgcolor": "white",
                    "plot_bgcolor": "#E5ECF6",
                    "polar": {
                      "angularaxis": {
                        "gridcolor": "white",
                        "linecolor": "white",
                        "ticks": ""
                      },
                      "bgcolor": "#E5ECF6",
                      "radialaxis": {
                        "gridcolor": "white",
                        "linecolor": "white",
                        "ticks": ""
                      }
                    },
                    "scene": {
                      "xaxis": {
                        "backgroundcolor": "#E5ECF6",
                        "gridcolor": "white",
                        "gridwidth": 2,
                        "linecolor": "white",
                        "showbackground": true,
                        "ticks": "",
                        "zerolinecolor": "white"
                      },
                      "yaxis": {
                        "backgroundcolor": "#E5ECF6",
                        "gridcolor": "white",
                        "gridwidth": 2,
                        "linecolor": "white",
                        "showbackground": true,
                        "ticks": "",
                        "zerolinecolor": "white"
                      },
                      "zaxis": {
                        "backgroundcolor": "#E5ECF6",
                        "gridcolor": "white",
                        "gridwidth": 2,
                        "linecolor": "white",
                        "showbackground": true,
                        "ticks": "",
                        "zerolinecolor": "white"
                      }
                    },
                    "shapedefaults": {
                      "line": {
                        "color": "#2a3f5f"
                      }
                    },
                    "ternary": {
                      "aaxis": {
                        "gridcolor": "white",
                        "linecolor": "white",
                        "ticks": ""
                      },
                      "baxis": {
                        "gridcolor": "white",
                        "linecolor": "white",
                        "ticks": ""
                      },
                      "bgcolor": "#E5ECF6",
                      "caxis": {
                        "gridcolor": "white",
                        "linecolor": "white",
                        "ticks": ""
                      }
                    },
                    "title": {
                      "x": 0.05
                    },
                    "xaxis": {
                      "automargin": true,
                      "gridcolor": "white",
                      "linecolor": "white",
                      "ticks": "",
                      "title": {
                        "standoff": 15
                      },
                      "zerolinecolor": "white",
                      "zerolinewidth": 2
                    },
                    "yaxis": {
                      "automargin": true,
                      "gridcolor": "white",
                      "linecolor": "white",
                      "ticks": "",
                      "title": {
                        "standoff": 15
                      },
                      "zerolinecolor": "white",
                      "zerolinewidth": 2
                    }
                  }
                },
                "title": {
                  "text": "Распределение количества вакансий по работодателям"
                },
                "width": 700
              }
            }
          },
          "metadata": {},
          "output_type": "display_data"
        }
      ],
      "source": [
        "# текст запроса\n",
        "query_emp = f'''\n",
        "WITH temp AS -- формируем таблицу\n",
        "(\n",
        "  SELECT emp.name as name_emp, count(v.id) as cnt -- выводим название работодателя и количество вакансий\n",
        "    FROM vacancies as v\n",
        "    JOIN employers as emp -- присоединияем таблицу работодателей по id\n",
        "      ON emp.id = v.employer_id \n",
        "    GROUP BY emp.id -- группируем по id работодателя\n",
        "    ORDER BY count(v.id) DESC -- сортируем по количеству в порядке убывания\n",
        ")\n",
        "SELECT * -- выводим таблицу temp\n",
        "FROM temp\n",
        "'''\n",
        "df_emp = pd.read_sql_query(query_emp, connection)\n",
        "\n",
        "#строим график\n",
        "fig = px.treemap(\n",
        "    data_frame=df_emp[:50], #датафрейм\n",
        "    path=['name_emp'], #кат. признак, для которого строится график\n",
        "    values='cnt', #параметр, который сравнивается\n",
        "    height=500, #высота\n",
        "    width=700, #ширина\n",
        "    title='Распределение количества вакансий по работодателям' #заголовок\n",
        ")\n",
        "\n",
        "#отображаем его\n",
        "fig.show()"
      ]
    },
    {
      "cell_type": "markdown",
      "metadata": {},
      "source": [
        "Вывод: Работодатель с наибольшим количеством вакансий: Яндекс, Ростелеком, Тинькофф - крупные компании."
      ]
    },
    {
      "cell_type": "markdown",
      "metadata": {},
      "source": [
        "Определение максимальнго и минимального количества сфер деятельности для работодателей"
      ]
    },
    {
      "cell_type": "code",
      "execution_count": 52,
      "metadata": {},
      "outputs": [
        {
          "name": "stderr",
          "output_type": "stream",
          "text": [
            "C:\\Users\\koshe\\AppData\\Local\\Temp\\ipykernel_16088\\1717367585.py:25: UserWarning:\n",
            "\n",
            "pandas only supports SQLAlchemy connectable (engine/connection) or database string URI or sqlite3 DBAPI2 connection. Other DBAPI2 objects are not tested. Please consider using SQLAlchemy.\n",
            "\n"
          ]
        },
        {
          "data": {
            "text/html": [
              "<div>\n",
              "<style scoped>\n",
              "    .dataframe tbody tr th:only-of-type {\n",
              "        vertical-align: middle;\n",
              "    }\n",
              "\n",
              "    .dataframe tbody tr th {\n",
              "        vertical-align: top;\n",
              "    }\n",
              "\n",
              "    .dataframe thead th {\n",
              "        text-align: right;\n",
              "    }\n",
              "</style>\n",
              "<table border=\"1\" class=\"dataframe\">\n",
              "  <thead>\n",
              "    <tr style=\"text-align: right;\">\n",
              "      <th></th>\n",
              "      <th>count_ind</th>\n",
              "      <th>type_ind</th>\n",
              "    </tr>\n",
              "  </thead>\n",
              "  <tbody>\n",
              "    <tr>\n",
              "      <th>0</th>\n",
              "      <td>5</td>\n",
              "      <td>max</td>\n",
              "    </tr>\n",
              "    <tr>\n",
              "      <th>1</th>\n",
              "      <td>1</td>\n",
              "      <td>min</td>\n",
              "    </tr>\n",
              "  </tbody>\n",
              "</table>\n",
              "</div>"
            ],
            "text/plain": [
              "   count_ind type_ind\n",
              "0          5      max\n",
              "1          1      min"
            ]
          },
          "execution_count": 52,
          "metadata": {},
          "output_type": "execute_result"
        }
      ],
      "source": [
        "# текст запроса\n",
        "query_ind = f'''\n",
        "WITH temp as(\n",
        "  SELECT emp.name as name_emp, COUNT(emp_ind.industry_id) as count_ind -- выводим компанию и количество сфер деятельности\n",
        "    FROM employers as emp\n",
        "    JOIN employers_industries as emp_ind -- просоединяем таблицу с сферами деятельности по id\n",
        "      ON emp_ind.employer_id = emp.id\n",
        "    GROUP BY emp.id -- группируем по id работодателей\n",
        "    ORDER BY COUNT(emp_ind.industry_id) DESC )\n",
        "(SELECT count_ind, 'max' as type_ind\n",
        "  FROM temp\n",
        "  ORDER BY count_ind DESC\n",
        "  LIMIT 1)\n",
        "  \n",
        "UNION ALL\n",
        "\n",
        "(SELECT count_ind, 'min' as type_ind\n",
        "  FROM temp\n",
        "  ORDER BY count_ind ASC\n",
        "  LIMIT 1)\n",
        "\n",
        "'''\n",
        "\n",
        "# результат запроса\n",
        "df_ind = pd.read_sql_query(query_ind, connection)\n",
        "df_ind"
      ]
    },
    {
      "cell_type": "markdown",
      "metadata": {},
      "source": [
        "Вывод: максимальное и минимальное количество сфер деятельности - 5 и 1, соответственно."
      ]
    },
    {
      "cell_type": "markdown",
      "metadata": {},
      "source": [
        "Определение количества вакансий для DS"
      ]
    },
    {
      "cell_type": "code",
      "execution_count": 53,
      "metadata": {},
      "outputs": [
        {
          "name": "stderr",
          "output_type": "stream",
          "text": [
            "C:\\Users\\koshe\\AppData\\Local\\Temp\\ipykernel_16088\\3966295403.py:16: UserWarning:\n",
            "\n",
            "pandas only supports SQLAlchemy connectable (engine/connection) or database string URI or sqlite3 DBAPI2 connection. Other DBAPI2 objects are not tested. Please consider using SQLAlchemy.\n",
            "\n"
          ]
        },
        {
          "data": {
            "text/html": [
              "<div>\n",
              "<style scoped>\n",
              "    .dataframe tbody tr th:only-of-type {\n",
              "        vertical-align: middle;\n",
              "    }\n",
              "\n",
              "    .dataframe tbody tr th {\n",
              "        vertical-align: top;\n",
              "    }\n",
              "\n",
              "    .dataframe thead th {\n",
              "        text-align: right;\n",
              "    }\n",
              "</style>\n",
              "<table border=\"1\" class=\"dataframe\">\n",
              "  <thead>\n",
              "    <tr style=\"text-align: right;\">\n",
              "      <th></th>\n",
              "      <th>count</th>\n",
              "    </tr>\n",
              "  </thead>\n",
              "  <tbody>\n",
              "    <tr>\n",
              "      <th>0</th>\n",
              "      <td>480</td>\n",
              "    </tr>\n",
              "  </tbody>\n",
              "</table>\n",
              "</div>"
            ],
            "text/plain": [
              "   count\n",
              "0    480"
            ]
          },
          "execution_count": 53,
          "metadata": {},
          "output_type": "execute_result"
        }
      ],
      "source": [
        "# текст запроса\n",
        "query_DS = f'''\n",
        "\n",
        "SELECT COUNT(lower(v.name)) -- выводим количество наименований вакансий\n",
        "FROM vacancies as v\n",
        "  WHERE -- производим отбор, согласно условию задания\n",
        "    ( lower(v.name) LIKE lower('%data scientist%')\n",
        "    or lower(v.name) LIKE lower('%data science%')\n",
        "    or lower(v.name) LIKE lower('%исследователь данных%') \n",
        "    or (v.name LIKE upper('%ML%') and v.name NOT LIKE '%HTML%')\n",
        "    or lower(v.name) LIKE lower('%machine learning%')\n",
        "    or lower(v.name) LIKE lower('%машинн%обучен%'))\n",
        "'''\n",
        "\n",
        "# результат запроса\n",
        "df_DS = pd.read_sql_query(query_DS, connection)\n",
        "df_DS"
      ]
    },
    {
      "cell_type": "markdown",
      "metadata": {},
      "source": [
        "Вывод: количество ваканчий для DS - 480"
      ]
    },
    {
      "cell_type": "markdown",
      "metadata": {},
      "source": [
        "Определение минимальной и максимальной ЗП для DS"
      ]
    },
    {
      "cell_type": "code",
      "execution_count": 54,
      "metadata": {},
      "outputs": [],
      "source": [
        "query_salary = f'''\n",
        "SELECT  -- выводим опыт работы и среднюю ЗП\n",
        "    MIN(coalesce(v.salary_from, v.salary_to)) as min_salary,\n",
        "    MAX(coalesce(v.salary_from, v.salary_to)) as max_salary \n",
        "  FROM vacancies as v\n",
        "  WHERE -- делаем отбор, согласно условию задачи\n",
        "    ( lower(v.name) LIKE lower('%data scientist%')\n",
        "    or lower(v.name) LIKE lower('%data science%')\n",
        "    or lower(v.name) LIKE lower('%исследователь данных%') \n",
        "    or (v.name LIKE upper('%ML%') and v.name NOT LIKE '%HTML%')\n",
        "    or lower(v.name) LIKE lower('%machine learning%')\n",
        "    or lower(v.name) LIKE lower('%машинн%обучен%'))\n",
        "    and (v.salary_from is not null or v.salary_to is not null)\n",
        "'''"
      ]
    },
    {
      "cell_type": "code",
      "execution_count": 55,
      "metadata": {},
      "outputs": [
        {
          "name": "stderr",
          "output_type": "stream",
          "text": [
            "C:\\Users\\koshe\\AppData\\Local\\Temp\\ipykernel_16088\\3274593819.py:2: UserWarning:\n",
            "\n",
            "pandas only supports SQLAlchemy connectable (engine/connection) or database string URI or sqlite3 DBAPI2 connection. Other DBAPI2 objects are not tested. Please consider using SQLAlchemy.\n",
            "\n"
          ]
        },
        {
          "data": {
            "text/html": [
              "<div>\n",
              "<style scoped>\n",
              "    .dataframe tbody tr th:only-of-type {\n",
              "        vertical-align: middle;\n",
              "    }\n",
              "\n",
              "    .dataframe tbody tr th {\n",
              "        vertical-align: top;\n",
              "    }\n",
              "\n",
              "    .dataframe thead th {\n",
              "        text-align: right;\n",
              "    }\n",
              "</style>\n",
              "<table border=\"1\" class=\"dataframe\">\n",
              "  <thead>\n",
              "    <tr style=\"text-align: right;\">\n",
              "      <th></th>\n",
              "      <th>min_salary</th>\n",
              "      <th>max_salary</th>\n",
              "    </tr>\n",
              "  </thead>\n",
              "  <tbody>\n",
              "    <tr>\n",
              "      <th>0</th>\n",
              "      <td>37000</td>\n",
              "      <td>300000</td>\n",
              "    </tr>\n",
              "  </tbody>\n",
              "</table>\n",
              "</div>"
            ],
            "text/plain": [
              "   min_salary  max_salary\n",
              "0       37000      300000"
            ]
          },
          "execution_count": 55,
          "metadata": {},
          "output_type": "execute_result"
        }
      ],
      "source": [
        "# результат запроса\n",
        "df_salary = pd.read_sql_query(query_salary, connection)\n",
        "df_salary"
      ]
    },
    {
      "cell_type": "markdown",
      "metadata": {},
      "source": [
        "Вывод: минимальное и максимальное предложение по ЗП - 37000 и 300000, соответственно."
      ]
    }
  ],
  "metadata": {
    "colab": {
      "collapsed_sections": [
        "8d62a9f3-f64e-4fe7-bdac-c4dffa16155e"
      ],
      "provenance": []
    },
    "kernelspec": {
      "display_name": "Python 3 (ipykernel)",
      "language": "python",
      "name": "python3"
    },
    "language_info": {
      "codemirror_mode": {
        "name": "ipython",
        "version": 3
      },
      "file_extension": ".py",
      "mimetype": "text/x-python",
      "name": "python",
      "nbconvert_exporter": "python",
      "pygments_lexer": "ipython3",
      "version": "3.11.4"
    }
  },
  "nbformat": 4,
  "nbformat_minor": 5
}
